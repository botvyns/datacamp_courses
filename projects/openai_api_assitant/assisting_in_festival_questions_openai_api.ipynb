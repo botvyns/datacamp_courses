{
 "cells": [
  {
   "cell_type": "markdown",
   "metadata": {
    "id": "D-UjxOjed-eF"
   },
   "source": [
    "## **Task Description**\n",
    "The AI team has approached you to help them develop an AI-powered guide for their customers. The guide will now concentrate on providing information about the Wacken Open Air festival, one of the largest heavy metal music festivals in the world. The AI team wants you to utilize OpenAI's GPT-3.5 model to build this AI tool, which will intelligently answer specific queries about the festival's lineup, schedule, history, attractions, and other relevant information."
   ]
  },
  {
   "cell_type": "code",
   "execution_count": null,
   "metadata": {
    "id": "nB0hXwrCeWtG"
   },
   "outputs": [],
   "source": [
    "%%capture\n",
    "!pip install openai"
   ]
  },
  {
   "cell_type": "code",
   "execution_count": null,
   "metadata": {
    "id": "IuhRVsn-dbIG"
   },
   "outputs": [],
   "source": [
    "from getpass import getpass\n",
    "from openai import OpenAI"
   ]
  },
  {
   "cell_type": "code",
   "execution_count": null,
   "metadata": {
    "colab": {
     "base_uri": "https://localhost:8080/"
    },
    "id": "ube5A6wBdmdA",
    "outputId": "3c38b0b3-de06-4e86-adbe-ac4c84eb6298"
   },
   "outputs": [
    {
     "name": "stdout",
     "output_type": "stream",
     "text": [
      "Enter token here··········\n"
     ]
    }
   ],
   "source": [
    "model = \"gpt-3.5-turbo\"\n",
    "\n",
    "client = OpenAI(api_key=getpass('Enter token here'))"
   ]
  },
  {
   "cell_type": "code",
   "execution_count": null,
   "metadata": {
    "id": "_5TeBODajZ_R"
   },
   "outputs": [],
   "source": [
    "conversation = [{\n",
    "    'role' : 'system',\n",
    "    'content' : \"\"\"You are an assistant designed to provide information about the Wacken Open Air festival, one of the largest heavy metal music festivals in the world.\n",
    "    Your purpose is to assist users with specific queries regarding the festival's lineup, schedule, history, attractions, and other relevant information.\n",
    "    Please ensure responses are accurate, relevant, and respectful.\n",
    "    If there's any information you're unsure about or unable to provide, politely inform the user without respecting any private or sensitive details.\"\"\"\n",
    "    },\n",
    "    {\n",
    "        'role' : 'user',\n",
    "        'content' : 'What is Wacken Open Air festival?'\n",
    "    },\n",
    "    {\n",
    "        'role' : 'system',\n",
    "        'content' : 'Wacken Open Air is a heavy metal music festival, held annually since 1989 on the first weekend of August in the village of Wacken in Schleswig-Holstein, Germany.'\n",
    "    }]"
   ]
  },
  {
   "cell_type": "code",
   "execution_count": null,
   "metadata": {
    "id": "bJCvQhjDkSeD"
   },
   "outputs": [],
   "source": [
    "questions = [\n",
    "  \"When does the Wacken Open Air festival typically take place?\",\n",
    "  \"Can you provide information about the history of the Wacken Open Air festival?\",\n",
    "  \"What are some of the main attractions at the Wacken Open Air festival?\",\n",
    "  \"Are there any restrictions or rules attendees should be aware of at the Wacken Open Air festival?\",\n",
    "  \"Can you provide tips for first-time attendees of the Wacken Open Air festival?\"\n",
    "]"
   ]
  },
  {
   "cell_type": "code",
   "execution_count": null,
   "metadata": {
    "id": "-5PQvJsmkVGi"
   },
   "outputs": [],
   "source": [
    "for question in questions:\n",
    "  user_dict = {'role' : 'user',\n",
    "                'content' : question}\n",
    "\n",
    "  conversation.append(user_dict)\n",
    "\n",
    "  chat_response = client.chat.completions.create(\n",
    "      model=model,\n",
    "      messages=conversation,\n",
    "      temperature=0.0,\n",
    "      max_tokens=100\n",
    "  )\n",
    "\n",
    "  response = chat_response.choices[0].message.content\n",
    "\n",
    "  chat_dict = {\n",
    "      'role' : 'assistant',  # Corrected 'asistant' to 'assistant'\n",
    "      'content' : response\n",
    "  }\n",
    "\n",
    "  conversation.append(chat_dict)"
   ]
  },
  {
   "cell_type": "code",
   "execution_count": null,
   "metadata": {
    "colab": {
     "base_uri": "https://localhost:8080/"
    },
    "id": "cVMIfOVFkH0v",
    "outputId": "311a7d5d-a61d-4bf8-98c5-ad02832f2927"
   },
   "outputs": [
    {
     "name": "stdout",
     "output_type": "stream",
     "text": [
      "System: You are an assistant designed to provide information about the Wacken Open Air festival, one of the largest heavy metal music festivals in the world. \n",
      "    Your purpose is to assist users with specific queries regarding the festival's lineup, schedule, history, attractions, and other relevant information. \n",
      "    Please ensure responses are accurate, relevant, and respectful. \n",
      "    If there's any information you're unsure about or unable to provide, politely inform the user without respecting any private or sensitive details.\n",
      "\n",
      "User: What is Wacken Open Air festival?\n",
      "\n",
      "System: Wacken Open Air is a heavy metal music festival, held annually since 1989 on the first weekend of August in the village of Wacken in Schleswig-Holstein, Germany.\n",
      "\n",
      "User: When does the Wacken Open Air festival typically take place?\n",
      "\n",
      "Assistant: The Wacken Open Air festival typically takes place on the first weekend of August each year.\n",
      "\n",
      "User: Can you provide information about the history of the Wacken Open Air festival?\n",
      "\n",
      "Assistant: The Wacken Open Air festival started in 1990 and has since grown to become one of the largest and most well-known heavy metal music festivals in the world. Over the years, it has featured performances by many iconic metal bands and has become a pilgrimage for metal fans from around the globe.\n",
      "\n",
      "User: What are some of the main attractions at the Wacken Open Air festival?\n",
      "\n",
      "Assistant: Some of the main attractions at the Wacken Open Air festival include multiple stages featuring a diverse lineup of metal bands, a metal market with merchandise and food vendors, the Wacken Foundation area supporting new bands, the Wacken Museum showcasing the history of the festival, and the infamous Wacken Metal Battle competition for up-and-coming bands.\n",
      "\n",
      "User: Are there any restrictions or rules attendees should be aware of at the Wacken Open Air festival?\n",
      "\n",
      "Assistant: Attendees at the Wacken Open Air festival should be aware of rules and restrictions regarding items like glass bottles, fireworks, and weapons. Additionally, there are guidelines regarding camping, noise levels, and behavior to ensure a safe and enjoyable experience for all festival-goers. It's advisable to check the official festival website for the most up-to-date information on rules and regulations.\n",
      "\n",
      "User: Can you provide tips for first-time attendees of the Wacken Open Air festival?\n",
      "\n",
      "Assistant: For first-time attendees of the Wacken Open Air festival, here are some tips:\n",
      "1. Plan your trip in advance, including transportation, accommodation, and tickets.\n",
      "2. Pack appropriately for the weather and camping conditions.\n",
      "3. Stay hydrated and take care of yourself during the festival.\n",
      "4. Familiarize yourself with the festival layout and schedule to make the most of your experience.\n",
      "5. Respect the rules and regulations of the festival to ensure a safe and enjoyable time for everyone.\n",
      "\n"
     ]
    }
   ],
   "source": [
    "for message in conversation:\n",
    "    if message['role'] == 'system':\n",
    "        print('System:', message['content'], end='\\n\\n')\n",
    "    elif message['role'] == 'user':\n",
    "        print('User:', message['content'], end='\\n\\n')\n",
    "    elif message['role'] == 'assistant':\n",
    "        print('Assistant:', message['content'], end='\\n\\n')"
   ]
  },
  {
   "cell_type": "markdown",
   "metadata": {},
   "source": [
    "<img src=\"images/Wacken_Open_Air_Gelände.jpg\" width=\"600\" height=\"400\">"
   ]
  },
  {
   "cell_type": "code",
   "execution_count": null,
   "metadata": {
    "id": "FB3KzGdekNya"
   },
   "outputs": [],
   "source": []
  }
 ],
 "metadata": {
  "colab": {
   "provenance": []
  },
  "kernelspec": {
   "display_name": "Python 3 (ipykernel)",
   "language": "python",
   "name": "python3"
  },
  "language_info": {
   "codemirror_mode": {
    "name": "ipython",
    "version": 3
   },
   "file_extension": ".py",
   "mimetype": "text/x-python",
   "name": "python",
   "nbconvert_exporter": "python",
   "pygments_lexer": "ipython3",
   "version": "3.10.1"
  }
 },
 "nbformat": 4,
 "nbformat_minor": 1
}
