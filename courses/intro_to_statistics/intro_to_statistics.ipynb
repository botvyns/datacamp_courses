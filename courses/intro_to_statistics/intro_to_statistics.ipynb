{
 "cells": [
  {
   "cell_type": "markdown",
   "id": "3d6e8fa0",
   "metadata": {},
   "source": [
    "# **Into to Statistics in Python**"
   ]
  },
  {
   "cell_type": "code",
   "execution_count": 55,
   "id": "44458041",
   "metadata": {},
   "outputs": [],
   "source": [
    "import numpy as np\n",
    "import pandas as pd\n",
    "import matplotlib.pyplot as plt \n",
    "from scipy.stats import uniform, binom, norm, poisson, expon\n",
    "import seaborn as sns"
   ]
  },
  {
   "cell_type": "markdown",
   "id": "cc213839",
   "metadata": {},
   "source": [
    "## ***Summary stats***"
   ]
  },
  {
   "cell_type": "markdown",
   "id": "6935a03d",
   "metadata": {},
   "source": [
    "### Q: What is stats?\n",
    "A: it is about collecting and analyzing data\n",
    "\n",
    "### Q: What are 2 types of stats?\n",
    "A: descriptive stats (describe and summarize data) and inferential stats (from sample make an inference about larger population)\n",
    "\n",
    "### Q: Two types of data?\n",
    "A: numeric (quantitative): discrete (counted) + continuous (measured)\n",
    "A: categorical (qualitative): nominal (unordered) + ordinal (ordered)\n",
    "\n",
    "### Q: Main types of summary stats?\n",
    "A: measures of central tendency + measures of dispersion\n",
    "\n",
    "### Q: What are some common summary statistics discussed in the lesson?\n",
    "A: Common summary statistics discussed in the lesson include mean, median, and mode.\n",
    "\n",
    "### Q: How does a histogram visually represent data?\n",
    "A: A histogram separates data into bins or ranges of values and represents the frequency of data points falling within each bin through the height of bars. Each bar represents a range of values, and its height represents the frequency of data points within that range.\n",
    "\n",
    "### Q: How is the mean calculated?\n",
    "A: The mean is calculated by summing up all the values in a dataset and dividing the total by the number of data points.\n",
    "\n",
    "## Q: How is the median calculated?\n",
    "A: The median is the middle value of a dataset when it's arranged in ascending or descending order. If there's an even number of data points, the median is the average of the two middle values.\n",
    "\n",
    "### Q: What does the mode represent?\n",
    "A: The mode represents the most frequently occurring value in a dataset.\n",
    "\n",
    "### Q: Why might the mean be affected by outliers more than the median?\n",
    "A: The mean is more sensitive to outliers because it takes into account the magnitude of each value in the dataset when calculating the average, whereas the median is only influenced by the middle value(s) and is less affected by extreme values.\n",
    "\n",
    "### Q: When is it more appropriate to use the mean as a measure of center?\n",
    "A: The mean is more appropriate when dealing with symmetrical data distributions.\n",
    "\n",
    "### Q: When is it more appropriate to use the median as a measure of center?\n",
    "A: The median is more appropriate when dealing with skewed data distributions, where the mean might be influenced significantly by outliers.\n",
    "\n",
    "### Q: How does skewness affect the mean and median?\n",
    "A: In skewed data distributions, the mean is pulled in the direction of the skew, resulting in the mean being lower than the median in left-skewed distributions and higher than the median in right-skewed distributions.\n",
    "\n",
    "### Q: Why is the median often preferred over the mean when dealing with skewed data?\n",
    "A: The median is often preferred over the mean when dealing with skewed data because it is less affected by extreme values and provides a more robust measure of central tendency in such cases.\n",
    "\n",
    "### Q: What are some examples of skewed data distributions?\n",
    "A: Examples of skewed data distributions include left-skewed distributions, where the data is piled up on the right with a tail on the left, and right-skewed distributions, where the data is piled up on the left with a tail on the right.\n",
    "\n",
    "### Q: What is the purpose of practicing measures of center?\n",
    "A: Practicing measures of center helps in understanding how to summarize and interpret data effectively, especially in different scenarios such as dealing with outliers or skewed distributions.\n",
    "\n",
    "### Q: What does \"spread\" refer to in statistics?\n",
    "A: \"Spread\" in statistics refers to how spread apart or close together the data points are in a dataset.\n",
    "\n",
    "### Q: What is variance, and how is it calculated?\n",
    "A: Variance measures the average distance from each data point to the dataset's mean. It is calculated by summing the squared differences between each data point and the mean, then dividing by the number of data points minus 1.\n",
    "\n",
    "### Q: How is standard deviation related to variance?\n",
    "A: Standard deviation is another measure of spread, calculated by taking the square root of the variance. It provides a more interpretable measure as its units are not squared.\n",
    "\n",
    "### Q: What is the difference between standard deviation and mean absolute deviation (MAD)?\n",
    "A: While both are measures of spread, standard deviation squares distances from the mean, penalizing longer distances more than shorter ones, whereas mean absolute deviation treats each distance equally.\n",
    "\n",
    "### Q: What are quantiles, and how are they useful in statistics?\n",
    "A: Quantiles split up data into equal parts, with each part representing a certain percentage of the data. They are useful for understanding the distribution of data and can help identify outliers.\n",
    "\n",
    "### Q: What is the interquartile range (IQR), and how is it calculated?\n",
    "A: The interquartile range (IQR) is the distance between the 25th and 75th percentiles of a dataset. It can be calculated using the quantile function or the `iqr` function.\n",
    "\n",
    "### Q: How are outliers defined, and how can they be identified?\n",
    "A: Outliers are data points substantially different from the rest of the dataset. They can be identified using a rule that considers any data point below the first quartile minus 1.5 times the IQR or above the third quartile plus 1.5 times the IQR as an outlier.\n",
    "\n",
    "### Q: How can summary statistics like measures of spread and outliers be calculated efficiently?\n",
    "A: Many summary statistics, including measures of spread and outliers, can be calculated efficiently using functions like `describe` and specific functions like `quantile`, `iqr`, and `std` available in libraries like NumPy and SciPy."
   ]
  },
  {
   "cell_type": "code",
   "execution_count": 2,
   "id": "5d8f5647",
   "metadata": {},
   "outputs": [],
   "source": [
    "food_consumption = pd.read_csv(\"food_consumption.csv\")"
   ]
  },
  {
   "cell_type": "code",
   "execution_count": 3,
   "id": "fbaf41e7",
   "metadata": {},
   "outputs": [
    {
     "name": "stdout",
     "output_type": "stream",
     "text": [
      "42.13272727272727\n",
      "12.59\n",
      "44.650000000000006\n",
      "14.58\n"
     ]
    }
   ],
   "source": [
    "# Filter for Belgium\n",
    "be_consumption = food_consumption[food_consumption['country'] == 'Belgium']\n",
    "\n",
    "# Filter for USA\n",
    "usa_consumption = food_consumption[food_consumption['country'] == 'USA']\n",
    "\n",
    "# Calculate mean and median consumption in Belgium\n",
    "print(np.mean(be_consumption['consumption']))\n",
    "print(np.median(be_consumption['consumption']))\n",
    "\n",
    "# Calculate mean and median consumption in USA\n",
    "print(np.mean(usa_consumption['consumption']))\n",
    "print(np.median(usa_consumption['consumption']))"
   ]
  },
  {
   "cell_type": "code",
   "execution_count": null,
   "id": "1eae6fe3",
   "metadata": {},
   "outputs": [],
   "source": [
    "# Subset for Belgium and USA only\n",
    "be_and_usa = food_consumption[(food_consumption['country'] == 'USA') | (food_consumption['country'] == 'Belgium')]\n",
    "\n",
    "# Group by country, select consumption column, and compute mean and median\n",
    "print(be_and_usa.groupby('country')['consumption'].agg([np.mean, np.median]))"
   ]
  },
  {
   "cell_type": "markdown",
   "id": "2a3d121c",
   "metadata": {},
   "source": [
    "When you want to compare summary statistics between groups, it's much easier to use .groupby() and .agg() instead of subsetting and calling the same functions multiple times."
   ]
  },
  {
   "cell_type": "code",
   "execution_count": 7,
   "id": "ceec2754",
   "metadata": {},
   "outputs": [
    {
     "data": {
      "image/png": "[encoded data removed]",
      "text/plain": [
       "<Figure size 432x288 with 1 Axes>"
      ]
     },
     "metadata": {
      "needs_background": "light"
     },
     "output_type": "display_data"
    }
   ],
   "source": [
    "# Subset for food_category equals rice\n",
    "rice_consumption = food_consumption[food_consumption['food_category'] == 'rice']\n",
    "\n",
    "# Histogram of co2_emission for rice and show plot\n",
    "rice_consumption['co2_emission'].hist()\n",
    "plt.show()"
   ]
  },
  {
   "cell_type": "markdown",
   "id": "6ffb8dca",
   "metadata": {},
   "source": [
    "We get right-skewed dataset"
   ]
  },
  {
   "cell_type": "code",
   "execution_count": 8,
   "id": "1564c706",
   "metadata": {},
   "outputs": [
    {
     "name": "stdout",
     "output_type": "stream",
     "text": [
      "mean      37.591615\n",
      "median    15.200000\n",
      "Name: co2_emission, dtype: float64\n"
     ]
    }
   ],
   "source": [
    "# Subset for food_category equals rice\n",
    "rice_consumption = food_consumption[food_consumption['food_category'] == 'rice']\n",
    "\n",
    "# Calculate mean and median of co2_emission with .agg()\n",
    "print(rice_consumption['co2_emission'].agg([np.mean, np.median]\n",
    "))"
   ]
  },
  {
   "cell_type": "markdown",
   "id": "1b7719b3",
   "metadata": {},
   "source": [
    "To describe this data median is better as the mean is substantially higher than the median since it's being pulled up by the high values over 100 kg/person/year."
   ]
  },
  {
   "cell_type": "code",
   "execution_count": 9,
   "id": "4fb6741e",
   "metadata": {},
   "outputs": [
    {
     "name": "stdout",
     "output_type": "stream",
     "text": [
      "[   0.        5.21     16.53     62.5975 1712.    ]\n"
     ]
    }
   ],
   "source": [
    "# Calculate the quartiles of co2_emission\n",
    "print(np.quantile(food_consumption['co2_emission'], [0, 0.25, 0.5, 0.75, 1]))"
   ]
  },
  {
   "cell_type": "code",
   "execution_count": 10,
   "id": "26108a53",
   "metadata": {},
   "outputs": [
    {
     "name": "stdout",
     "output_type": "stream",
     "text": [
      "[   0.       3.54    11.026   25.59    99.978 1712.   ]\n"
     ]
    }
   ],
   "source": [
    "# Calculate the quintiles of co2_emission\n",
    "print(np.quantile(food_consumption['co2_emission'], [0, 0.2, 0.4, 0.6, 0.8, 1]))"
   ]
  },
  {
   "cell_type": "code",
   "execution_count": 11,
   "id": "900c617a",
   "metadata": {},
   "outputs": [
    {
     "name": "stdout",
     "output_type": "stream",
     "text": [
      "[0.00000e+00 6.68000e-01 3.54000e+00 7.04000e+00 1.10260e+01 1.65300e+01\n",
      " 2.55900e+01 4.42710e+01 9.99780e+01 2.03629e+02 1.71200e+03]\n"
     ]
    }
   ],
   "source": [
    "# Calculate the deciles of co2_emission\n",
    "print(np.quantile(food_consumption['co2_emission'], np.linspace(0,1,11)))"
   ]
  },
  {
   "cell_type": "code",
   "execution_count": 12,
   "id": "7def115e",
   "metadata": {},
   "outputs": [
    {
     "name": "stdout",
     "output_type": "stream",
     "text": [
      "                        var         std\n",
      "food_category                          \n",
      "beef           88748.408132  297.906710\n",
      "dairy          17671.891985  132.935669\n",
      "eggs              21.371819    4.622966\n",
      "fish             921.637349   30.358481\n",
      "lamb_goat      16475.518363  128.356996\n",
      "nuts              35.639652    5.969895\n",
      "pork            3094.963537   55.632396\n",
      "poultry          245.026801   15.653332\n",
      "rice            2281.376243   47.763754\n",
      "soybeans           0.879882    0.938020\n",
      "wheat             71.023937    8.427570\n"
     ]
    },
    {
     "data": {
      "image/png": "[encoded data removed]",
      "text/plain": [
       "<Figure size 432x288 with 1 Axes>"
      ]
     },
     "metadata": {
      "needs_background": "light"
     },
     "output_type": "display_data"
    },
    {
     "data": {
      "image/png": "[encoded data removed]",
      "text/plain": [
       "<Figure size 432x288 with 1 Axes>"
      ]
     },
     "metadata": {
      "needs_background": "light"
     },
     "output_type": "display_data"
    }
   ],
   "source": [
    "# Print variance and sd of co2_emission for each food_category\n",
    "print(food_consumption.groupby('food_category')['co2_emission'].agg([np.var, np.std]))\n",
    "\n",
    "# Create histogram of co2_emission for food_category 'beef'\n",
    "food_consumption[food_consumption['food_category']=='beef']['co2_emission'].hist()\n",
    "# Show plot\n",
    "plt.show()\n",
    "\n",
    "food_consumption[food_consumption['food_category']=='eggs']['co2_emission'].hist()\n",
    "# Show plot\n",
    "plt.show()"
   ]
  },
  {
   "cell_type": "markdown",
   "id": "ce82f891",
   "metadata": {},
   "source": [
    "Beef has the largest amount of variation in its CO2 emissions, while eggs have a relatively small amount of variation."
   ]
  },
  {
   "cell_type": "code",
   "execution_count": 13,
   "id": "c676f6ce",
   "metadata": {},
   "outputs": [
    {
     "name": "stdout",
     "output_type": "stream",
     "text": [
      "country\n",
      "Albania      1777.85\n",
      "Algeria       707.88\n",
      "Angola        412.99\n",
      "Argentina    2172.40\n",
      "Armenia      1109.93\n",
      "              ...   \n",
      "Uruguay      1634.91\n",
      "Venezuela    1104.10\n",
      "Vietnam       641.51\n",
      "Zambia        225.30\n",
      "Zimbabwe      350.33\n",
      "Name: co2_emission, Length: 130, dtype: float64\n"
     ]
    }
   ],
   "source": [
    "# Calculate total co2_emission per country: emissions_by_country\n",
    "emissions_by_country = food_consumption.groupby('country')['co2_emission'].sum()\n",
    "\n",
    "print(emissions_by_country)"
   ]
  },
  {
   "cell_type": "code",
   "execution_count": 14,
   "id": "52090b76",
   "metadata": {},
   "outputs": [],
   "source": [
    "# Compute the first and third quartiles and IQR of emissions_by_country\n",
    "q1 = np.quantile(emissions_by_country, 0.25)\n",
    "q3 = np.quantile(emissions_by_country, 0.75)\n",
    "iqr = q3 - q1"
   ]
  },
  {
   "cell_type": "code",
   "execution_count": 15,
   "id": "01650e87",
   "metadata": {},
   "outputs": [],
   "source": [
    "# Calculate the lower and upper cutoffs for outliers\n",
    "lower = q1 - (1.5 * iqr)\n",
    "upper = q3 + (1.5 * iqr)"
   ]
  },
  {
   "cell_type": "code",
   "execution_count": 16,
   "id": "0a5c5ae0",
   "metadata": {},
   "outputs": [
    {
     "name": "stdout",
     "output_type": "stream",
     "text": [
      "country\n",
      "Argentina    2172.4\n",
      "Name: co2_emission, dtype: float64\n"
     ]
    }
   ],
   "source": [
    "# Subset emissions_by_country to find outliers\n",
    "outliers = emissions_by_country[(emissions_by_country < lower) | (emissions_by_country > upper)]\n",
    "print(outliers)"
   ]
  },
  {
   "cell_type": "markdown",
   "id": "a9fef5e5",
   "metadata": {},
   "source": [
    "It looks like Argentina has a substantially higher amount of CO2 emissions per person than other countries in the world."
   ]
  },
  {
   "cell_type": "markdown",
   "id": "746efdec",
   "metadata": {},
   "source": [
    "## ***Random numbers and probability***"
   ]
  },
  {
   "cell_type": "markdown",
   "id": "e0bf7d01",
   "metadata": {},
   "source": [
    "Here are some questions and answers summarizing the main points from the transcript:\n",
    "\n",
    "### Q: How do we measure chance in statistics?\n",
    "A: We measure the chances of an event using probability, which is calculated by dividing the number of ways the event can happen by the total number of possible outcomes.\n",
    "\n",
    "### Q: What does probability range between?\n",
    "A: Probability always ranges between zero and 100 percent. If the probability is zero, the event is impossible, and if it's 100 percent, the event will certainly happen.\n",
    "\n",
    "### Q: How is sampling without replacement different from sampling with replacement?\n",
    "A: Sampling without replacement means once an item is selected, it is removed from the population, affecting the probabilities of subsequent selections. Sampling with replacement means each item selected is returned to the population before the next selection, maintaining consistent probabilities.\n",
    "\n",
    "### Q: What is the significance of setting a random seed in Python?\n",
    "A: Setting a random seed ensures reproducibility in random processes. It allows for the generation of the same random values each time the script is run, which is useful for consistency in testing and presentations.\n",
    "\n",
    "### Q: Define independent and dependent events in probability.\n",
    "A: Independent events are events where the outcome of one event does not affect the outcome of the other. Dependent events are events where the outcome of one event affects the outcome of the other.\n",
    "\n",
    "### Q: How does sampling with replacement affect the independence of events?\n",
    "A: In sampling with replacement, each pick is independent because the probability of each subsequent pick is not affected by the previous picks.\n",
    "\n",
    "### Q: Can you explain how probability is calculated in a real-life scenario, such as selecting salespeople for meetings?\n",
    "A: Probability can be calculated by dividing the number of favorable outcomes (selecting a specific salesperson) by the total number of possible outcomes (number of salespeople). For instance, if there are 4 salespeople and one needs to be selected randomly, the probability of selecting any one of them is 1/4 or 25%.\n",
    "\n",
    "### Q: How can sampling be implemented in Python, both with and without replacement?\n",
    "A: In Python, sampling can be implemented using the `sample()` method from libraries like pandas or NumPy. By setting the `replace` argument to True, sampling with replacement can be simulated, and by setting it to False, sampling without replacement can be simulated.\n",
    "\n",
    "Based on the transcript, here are some questions and answers summarizing the main points:\n",
    "\n",
    "### Q: What is a probability distribution, and how is it related to outcomes in a scenario?\n",
    "A: A probability distribution describes the likelihood of each possible outcome in a scenario. It represents the probability of each outcome occurring.\n",
    "\n",
    "### Q: How do we calculate the expected value of a probability distribution?\n",
    "A: It can be calculated by multiplying each outcome by its probability and summing the results.\n",
    "\n",
    "### Q: How can a probability distribution be visualized?\n",
    "A: A probability distribution can be visualized using a barplot, where each bar represents an outcome, and the height of each bar represents the probability of that outcome.\n",
    "\n",
    "### Q: How do we calculate probabilities using a probability distribution?\n",
    "A: Probabilities of different outcomes can be calculated by finding the area under the probability distribution curve corresponding to those outcomes.\n",
    "\n",
    "### Q: What is a discrete probability distribution, and what are its characteristics?\n",
    "A: A discrete probability distribution represents situations with discrete outcomes, where each outcome has a specific probability. It is characterized by having distinct, separate outcomes with finite probabilities.\n",
    "\n",
    "### Q: What is the significance of sampling from a probability distribution?\n",
    "A: Sampling from a probability distribution allows us to simulate random outcomes from the distribution, which can help us understand its behavior and properties.\n",
    "\n",
    "### Q: What is the Law of Large Numbers, and how does it relate to probability distributions?\n",
    "A: The Law of Large Numbers states that as the size of a sample increases, the sample mean will approach the theoretical mean of the distribution. This means that with a larger sample size, the observed outcomes will more closely resemble the expected outcomes from the distribution.\n",
    "\n",
    "### Q: How does the sample size affect the accuracy of observed outcomes compared to the theoretical distribution?\n",
    "A: With larger sample sizes, the observed outcomes tend to be closer to the theoretical distribution, and the sample mean approaches the expected value of the distribution. This phenomenon is described by the Law of Large Numbers.\n",
    "\n",
    "### Q: How are continuous variables modeled in probability distributions?\n",
    "A: Continuous variables are modeled using continuous probability distributions, which are represented by continuous lines rather than discrete blocks.\n",
    "\n",
    "### Q: What is the continuous uniform distribution, and how does it work?\n",
    "A: The continuous uniform distribution is used to model situations where each value within a given range has an equal probability of occurring. In this distribution, the probability density remains constant over the entire range.\n",
    "\n",
    "### Q: How is probability calculated in continuous uniform distributions?\n",
    "A: Probability in continuous uniform distributions is still calculated as the area under the probability density function. For example, to find the probability of an event occurring between two points, you calculate the area under the curve between those points.\n",
    "\n",
    "### Q: How can we use Python to work with continuous uniform distributions?\n",
    "A: In Python, we can use the `uniform` distribution from the `scipy.stats` module. Functions like `cdf` (cumulative distribution function) and `rvs` (random variable sampling) can be used to calculate probabilities and generate random values, respectively.\n",
    "\n",
    "### Q: What does it mean for the total area under a probability distribution curve to equal 1?\n",
    "A: The total area under the curve of a probability distribution always equals 1. This ensures that the sum of all probabilities across all possible outcomes equals 1, indicating certainty that one of the outcomes will occur.\n",
    "\n",
    "### Q: Besides the continuous uniform distribution, what are some other types of continuous distributions?\n",
    "A: Other types of continuous distributions include the normal distribution, exponential distribution, and various other specialized distributions. Each distribution has its own unique shape and properties.\n",
    "\n",
    "### Q: How are random numbers generated according to a continuous uniform distribution?\n",
    "A: Random numbers following a continuous uniform distribution can be generated using the `rvs` function, which takes the minimum and maximum values of the range and the number of random values to generate.\n",
    "\n",
    "### Q: What is the significance of the area under the probability distribution curve?\n",
    "A: The area under the probability distribution curve represents the total probability of all possible outcomes. This area always sums to 1, ensuring that the probabilities are normalized.\n",
    "\n",
    "### Q: What is the binomial distribution and what does it describe?\n",
    "A: The binomial distribution describes the probability of the number of successes in a sequence of independent trials, where each trial has two possible outcomes (success or failure).\n",
    "\n",
    "### Q: How is a single coin flip simulated using the binomial distribution in Python?\n",
    "A: A single coin flip can be simulated using the `binom.rvs()` function from the `scipy.stats` module, specifying the number of trials as 1 and the probability of heads (or success) as 0.5.\n",
    "\n",
    "### Q: What are the parameters of the binomial distribution?\n",
    "A: The binomial distribution has two parameters: \\(n\\), which represents the total number of trials, and \\(p\\), which is the probability of success in each trial.\n",
    "\n",
    "### Q: How can we calculate the probability of a specific number of successes using the binomial distribution?\n",
    "A: The probability mass function (`binom.pmf()`) can be used to calculate the probability of a specific number of successes given the parameters \\(n\\) and \\(p\\) of the binomial distribution.\n",
    "\n",
    "### Q: What is the expected value of the binomial distribution and how is it calculated?\n",
    "A: The expected value of the binomial distribution is calculated by multiplying the number of trials (\\(n\\)) by the probability of success (\\(p\\)). It represents the average number of successes in the given number of trials.\n",
    "\n",
    "### Q: Why is independence of trials important in the binomial distribution?\n",
    "A: Independence ensures that the outcome of one trial does not affect the outcome of another trial. This is essential for the binomial distribution to accurately model the probability of successes in a sequence of trials.\n",
    "\n",
    "### Q: Can the binomial distribution be applied to situations with dependent trials?\n",
    "A: No, the binomial distribution cannot be accurately applied to situations with dependent trials because the assumption of independence is violated. In such cases, other distributions or methods should be used.\n",
    "\n",
    "### Q: What are some examples of binary outcomes besides coin flipping?\n",
    "A: Binary outcomes include scenarios such as success or failure, win or loss, yes or no, and 1 or 0, among others. These outcomes can be modeled using the binomial distribution when the trials are independent."
   ]
  },
  {
   "cell_type": "code",
   "execution_count": 17,
   "id": "dc92606b",
   "metadata": {},
   "outputs": [],
   "source": [
    "amir_deals = pd.read_csv(\"amir_deals.csv\")"
   ]
  },
  {
   "cell_type": "code",
   "execution_count": 18,
   "id": "5a678948",
   "metadata": {},
   "outputs": [
    {
     "name": "stdout",
     "output_type": "stream",
     "text": [
      "Product B    62\n",
      "Product D    40\n",
      "Product A    23\n",
      "Product C    15\n",
      "Product F    11\n",
      "Product H     8\n",
      "Product I     7\n",
      "Product E     5\n",
      "Product N     3\n",
      "Product G     2\n",
      "Product J     2\n",
      "Name: product, dtype: int64\n"
     ]
    }
   ],
   "source": [
    "# Count the deals for each product\n",
    "counts = amir_deals['product'].value_counts()\n",
    "print(counts)"
   ]
  },
  {
   "cell_type": "code",
   "execution_count": 19,
   "id": "03e38c9f",
   "metadata": {},
   "outputs": [
    {
     "name": "stdout",
     "output_type": "stream",
     "text": [
      "Product B    0.348315\n",
      "Product D    0.224719\n",
      "Product A    0.129213\n",
      "Product C    0.084270\n",
      "Product F    0.061798\n",
      "Product H    0.044944\n",
      "Product I    0.039326\n",
      "Product E    0.028090\n",
      "Product N    0.016854\n",
      "Product G    0.011236\n",
      "Product J    0.011236\n",
      "Name: product, dtype: float64\n"
     ]
    }
   ],
   "source": [
    "# Calculate probability of picking a deal with each product\n",
    "probs = counts / amir_deals.shape[0]\n",
    "print(probs)"
   ]
  },
  {
   "cell_type": "code",
   "execution_count": 20,
   "id": "c78fb3db",
   "metadata": {},
   "outputs": [
    {
     "name": "stdout",
     "output_type": "stream",
     "text": [
      "     Unnamed: 0    product   client status   amount  num_users\n",
      "127         128  Product B  Current    Won  2070.25          7\n",
      "148         149  Product D  Current    Won  3485.48         52\n",
      "77           78  Product B  Current    Won  6252.30         27\n",
      "104         105  Product D  Current    Won  4110.98         39\n",
      "166         167  Product C      New   Lost  3779.86         11\n"
     ]
    }
   ],
   "source": [
    "# Set random seed\n",
    "np.random.seed(24)\n",
    "\n",
    "# Sample 5 deals without replacement\n",
    "sample_without_replacement = amir_deals.sample(5)\n",
    "print(sample_without_replacement)"
   ]
  },
  {
   "cell_type": "code",
   "execution_count": 21,
   "id": "f44a1fd3",
   "metadata": {},
   "outputs": [
    {
     "name": "stdout",
     "output_type": "stream",
     "text": [
      "     Unnamed: 0    product   client status   amount  num_users\n",
      "162         163  Product D  Current    Won  6755.66         59\n",
      "131         132  Product B  Current    Won  6872.29         25\n",
      "87           88  Product C  Current    Won  3579.63          3\n",
      "145         146  Product A  Current    Won  4682.94         63\n",
      "145         146  Product A  Current    Won  4682.94         63\n"
     ]
    }
   ],
   "source": [
    "# Set random seed\n",
    "np.random.seed(24)\n",
    "\n",
    "# Sample 5 deals with replacement\n",
    "sample_with_replacement = amir_deals.sample(5, replace = True)\n",
    "print(sample_with_replacement)"
   ]
  },
  {
   "cell_type": "code",
   "execution_count": 23,
   "id": "24608b1c",
   "metadata": {},
   "outputs": [],
   "source": [
    "# Min and max wait times for back-up that happens every 30 min\n",
    "min_time = 0\n",
    "max_time = 30"
   ]
  },
  {
   "cell_type": "code",
   "execution_count": 24,
   "id": "10c57d2f",
   "metadata": {},
   "outputs": [
    {
     "name": "stdout",
     "output_type": "stream",
     "text": [
      "0.16666666666666666\n"
     ]
    }
   ],
   "source": [
    "# Calculate probability of waiting less than 5 mins\n",
    "prob_less_than_5 = uniform.cdf(5, 0, 30)\n",
    "print(prob_less_than_5)"
   ]
  },
  {
   "cell_type": "code",
   "execution_count": 25,
   "id": "101a2e4c",
   "metadata": {},
   "outputs": [
    {
     "name": "stdout",
     "output_type": "stream",
     "text": [
      "0.8333333333333334\n"
     ]
    }
   ],
   "source": [
    "# Calculate probability of waiting more than 5 mins\n",
    "prob_greater_than_5 = 1 - uniform.cdf(5, 0, 30)\n",
    "print(prob_greater_than_5)"
   ]
  },
  {
   "cell_type": "code",
   "execution_count": 26,
   "id": "31d91013",
   "metadata": {},
   "outputs": [
    {
     "name": "stdout",
     "output_type": "stream",
     "text": [
      "0.3333333333333333\n"
     ]
    }
   ],
   "source": [
    "# Calculate probability of waiting 10-20 mins\n",
    "prob_between_10_and_20 = uniform.cdf(20, 0, 30) - uniform.cdf(10, 0, 30)\n",
    "print(prob_between_10_and_20)"
   ]
  },
  {
   "cell_type": "code",
   "execution_count": 27,
   "id": "020bc311",
   "metadata": {},
   "outputs": [],
   "source": [
    "# Set random seed to 334\n",
    "np.random.seed(334)"
   ]
  },
  {
   "cell_type": "code",
   "execution_count": 28,
   "id": "fdd01c7b",
   "metadata": {},
   "outputs": [
    {
     "name": "stdout",
     "output_type": "stream",
     "text": [
      "[ 7.144097    0.97455866  3.72802787  5.11644319  8.70602482 24.69140099\n",
      " 23.98012075  3.19592668 25.1985306  17.89048629 24.68695356 18.27160808\n",
      " 22.85829011  0.12929581 15.67789664  2.3262095  15.79151771 21.90473557\n",
      " 18.25817257 15.78657023 28.74328434  9.38971275 17.0010565   0.95433991\n",
      " 15.96917606  2.16395679  8.903302   19.24982156  6.52414731 14.10185677\n",
      " 27.86973455 14.38121016 28.59233824 13.17550521 22.96382405  2.52904371\n",
      "  6.2163781   8.40217036  4.48079914 28.16365298 19.73302715  3.63959282\n",
      "  1.74002295  1.5324219  26.97096908 29.37490861  4.71379092  6.44990488\n",
      "  6.81999564 22.81302458 12.41563042 11.14591581  8.08043184 29.60574053\n",
      "  3.24571518 19.66709277 13.38939302 29.56433707 24.84697258  6.249684\n",
      " 15.07668579  5.27474477 27.27430815  2.42084219 27.88317515  0.81231424\n",
      "  3.48564273 19.80738592  6.11128124 19.10323692  9.12156821 28.31696467\n",
      " 20.80158047 17.0840986  26.59969632 28.38502685 20.75398728 11.73610958\n",
      " 20.55950389 18.20349931  4.68857179 17.67638417 29.99091109 18.67756789\n",
      " 11.16391438  3.53028943 14.93882748 24.89203249 17.47310051 20.8740314\n",
      " 16.6070177  19.19564265  8.96414904  5.28451257  1.05350993 21.77737031\n",
      " 23.61684528 22.72809506 24.8322021  14.36218169  8.6091251  25.13656432\n",
      " 11.45898163 19.92575672 25.12266034  7.63273768  5.0240165  20.92435348\n",
      " 13.23933607  0.6401269  15.6813087  13.98669465  5.00961969 26.55407346\n",
      " 15.6478544   5.36392254 22.2807534  22.95452053 12.09657902 15.33347354\n",
      " 29.36367996 27.32761079 16.57775534 13.28054948 17.09693671 27.45768651\n",
      "  2.59501602  9.41004409  9.14688319 19.72368555  0.8399502   1.36535784\n",
      "  8.24745591 10.2650512  29.95498509 20.64562623  5.93986334 11.17818273\n",
      " 26.32817252  8.07638083  6.6348515  16.29376148 29.99092275 25.71567927\n",
      " 11.55546768 21.91960495 11.23343293 12.37874514 15.0825809  28.02838931\n",
      " 22.8535862   8.8911682  27.94808637 18.59880054 19.31673054  4.78414772\n",
      " 24.68245155  4.61858339  4.34185585  9.86285797 22.64196176 20.70638537\n",
      "  2.07610021 16.5432359   0.83932634 26.55708037 11.96557209  8.07255521\n",
      " 10.80342781 23.29099616 22.86574237 14.34997804  5.88657148 13.93691899\n",
      "  3.85622609 15.39470306 21.25310818 18.36870054  8.06383855 27.35806466\n",
      "  8.24616015 21.22703251 17.37235409  4.83719581 17.84253763  3.31270513\n",
      " 28.05979944 28.42309918  8.73094692 25.71299775  2.22366188  4.30187426\n",
      " 21.89436597 29.49072021 15.30664125 22.3802789   0.08102944 14.78896917\n",
      " 16.40399119  7.68390804  2.10437223  6.68794817 10.19108918 22.31258787\n",
      "  5.8189225  27.60781938 19.51339944 21.33124269  1.6294243  15.51174843\n",
      " 13.47212795 16.24027513 22.10266715  5.52406499  7.22056009  7.36829948\n",
      " 18.91081125 19.80927487 12.80401324  2.70031211 26.86102574 22.01951095\n",
      " 17.17665123 18.81827876  3.67837051 15.46293386 29.51597515 15.89595847\n",
      " 17.41855781 25.55857784 25.65737763 16.4151132   5.00323267 11.63197386\n",
      " 17.66808546 25.466024   15.18486451  0.85940046 27.00984537 14.42468181\n",
      " 27.4812224   9.47231537  2.05988889 17.30621667 24.95053845  5.57417231\n",
      " 16.0357139  13.26420998 29.46815429  1.16904392  4.53575356 10.65537707\n",
      " 11.26270564  6.0214732  27.64202445 10.29940068 28.54836132 22.22931556\n",
      " 17.55762098 28.31703818  3.20547158  6.51317017  9.60103128 11.55504752\n",
      "  1.10769737 25.19601111 26.41265999  3.17669809 29.03461951 23.78452941\n",
      " 22.35394515 18.03280452 11.23378656 25.18138124 23.9597556  10.58566727\n",
      "  2.56203807 16.32353266  8.34705721 21.65497161 27.82670318  3.24006097\n",
      "  9.48180202  1.48689026 12.89086955  0.84704402 21.10201173  9.14793573\n",
      " 27.17361576 18.45069642 14.49691685  3.98370201  0.44134824  5.05259221\n",
      " 18.47816542  8.11334339 19.95136747  7.1754582  20.10018729  4.97982617\n",
      "  8.81527565  5.76132824 15.72125645  4.76049255  4.76730185  4.54755451\n",
      " 11.99610604 22.19271804  7.0054561   0.9554475  12.72622458  5.10178612\n",
      "  3.46974455  7.75842307 13.13578589  3.8451399  11.02848319  5.77758805\n",
      " 16.19423275 23.15484726 20.1239129   8.50840771 10.91441361  7.11704929\n",
      " 20.25016912 28.69395694 20.42004446 24.35824921 24.56208344 18.70863082\n",
      "  1.55698104 27.49671811  2.57368945 23.03303579  2.38875615 13.98131955\n",
      " 21.8838685   8.44024292 25.05019036 21.95993093  8.76034493 22.85418651\n",
      " 26.07063198  5.46361622 25.58172855 15.67874872 17.81956733 26.81841668\n",
      " 13.19033546 23.19910687 23.62718492 13.15663104 23.41668296  1.87489683\n",
      " 25.2484807   8.4845543   4.92042842 22.73961665 20.2466653  19.58723259\n",
      "  2.03270822 22.9895573   7.3372969  17.54273192 21.09771191 16.96192787\n",
      "  3.48948107 16.15590988 17.70440831  1.60420151 19.81559878 25.80086106\n",
      " 15.68959678 18.83009183 23.19198615 12.66930187  7.00118096  6.64600958\n",
      " 19.87400439 19.55842619 25.54278522 14.27653959 12.0734572  22.78237983\n",
      " 17.15165279 24.08463516 28.59624819 28.16152099  5.93891699 16.94105605\n",
      " 20.80665928  9.99890108  8.79730012  7.05110922  3.8104523   5.62610024\n",
      "  5.58639014 18.78260685  9.95891585 20.62479473 28.77797774 25.81469814\n",
      "  2.25609181 13.65905187 21.1528068   8.01290913  7.73848867 26.88193447\n",
      " 21.44953343 10.12615075 19.75731318  4.27872352 20.30849315 26.77882578\n",
      "  1.351449   20.8075843   0.46173517 19.80997905  9.7624355  17.37924972\n",
      "  1.43062491 22.20157066 25.1824487  28.8357933  16.09702531 24.73842767\n",
      "  0.2308042   6.13048075 29.614561    8.33629603 16.12795224 29.21240454\n",
      " 13.45025092 28.92901674 28.68113999 18.76015795  8.85400148  0.72177506\n",
      " 18.5678127   1.5946721   6.51114298  0.14954964  8.40759558 15.3456776\n",
      " 18.16257912 21.48146244 19.35734786  6.69307887 11.14786018  5.19542535\n",
      " 20.11979092 15.36643858  1.75976538  1.88235419 14.67047828 17.87206607\n",
      " 23.89728101 11.53568193 19.55519337 12.9925055   3.75560435  8.84921298\n",
      " 10.41509647 10.05015649  2.08203941 13.95507535 18.69687686  3.65394569\n",
      " 16.73715719 25.9668531  19.90170356 10.66486523 27.98606183 19.33610382\n",
      " 27.37475735 24.1411498  28.39648506 10.56397635 17.67065935 19.81446104\n",
      "  5.08556252 21.61589418  4.91334443 10.25571404 13.86547777 28.5015485\n",
      " 19.52083861 22.05488912  9.17148377  1.11732389 18.30445657 13.80853\n",
      "  2.00270834 26.65687785  8.33324258 16.37203881 24.89846207  8.62610704\n",
      " 29.82242843 16.81338141 17.33734435  1.0612399  29.2449401   6.66842773\n",
      " 14.65276829 11.46127532  5.94042969  8.51718703 19.16192131 27.77484802\n",
      " 26.80478414 18.46459441 14.64021886 10.41881806  5.05273386 22.93123257\n",
      " 12.32037453 29.07333784 19.8933068  19.33393445 23.75624561 27.41576612\n",
      "  4.89400728 27.97022569  5.46431449 26.39553105 23.10148492  5.59326106\n",
      "  5.43438053 12.80881651 22.58136604  6.81522341  1.29891598  8.92824717\n",
      "  0.06222649  0.31415758  1.49504525 14.46068646 17.65853438  7.4496374\n",
      " 17.22446855 21.84287476 21.60599421 28.86047834 28.24253893  7.10948381\n",
      " 26.95417677 22.69920835 14.85402627  8.3681587  29.58708806 13.78486659\n",
      " 17.35864925 26.46297136 21.22739031 28.53046947  8.93805023  7.02914326\n",
      " 11.80133052 18.99940059 14.08892962  3.85612353 13.56279119 20.12274586\n",
      " 16.74078625 29.53044614  5.18316362 11.53812907 27.43654492  0.42476924\n",
      " 29.87062735  5.50874294  3.8568494   6.41204685 20.30702925  3.32308882\n",
      "  3.94770677  6.87059867  3.93014852 21.98204107  0.86507581 20.56982783\n",
      " 10.47517828  5.51681714 28.14377379 29.45286026 11.06512511 16.61676719\n",
      "  1.98579434  5.54260989  1.07592481  2.31764882  8.88290412 21.4881271\n",
      " 22.64224754  7.27994039  9.37643238 10.83908073  0.69663121 21.23717882\n",
      "  9.66027816 16.97956524 14.81638878 16.5534871   9.75601043  5.93087217\n",
      " 28.36797115 21.09462207 13.03173376  0.7983171   3.50516639 19.00649926\n",
      "  5.82081691  5.81833671 20.61983383 28.71056507  6.91237663 12.4619051\n",
      " 12.30761644 19.84040954  4.64447622  0.64917761 19.86567877  5.99418851\n",
      "  1.35794716 27.48067897 29.73644518 28.6065078   8.5299145   4.12152041\n",
      "  0.5607774  18.57081877 22.17373158  7.58966957 18.2784296  10.70211771\n",
      " 11.13177466 29.30678999  1.2423198  14.35713294 17.35500663 17.14866592\n",
      " 10.3789623  24.17742423 14.94162775  2.59992154 11.85508506 27.4947809\n",
      " 22.37927752 16.63597764  2.18654009 27.58998237 24.9960839  18.97091648\n",
      " 19.87097998 29.71143066 18.15641786  8.02594757 12.34873726  6.39950324\n",
      " 26.71285573  5.72013105 27.25611587 11.11118651 13.14563054 24.3161132\n",
      "  9.12227066  6.09164062  7.61512695 15.27894726  1.55172543 16.11462964\n",
      " 20.01927489  0.36023495 22.18975204 10.68017381 26.67207213 18.49390616\n",
      " 14.12316947 12.30157185 24.46937392  2.94349773  2.71721257 19.89328934\n",
      " 11.60564868 20.99716418  6.83938153  3.15126472 21.18057782 23.04084254\n",
      " 29.52319489 13.41468779  8.36540008  1.17474372 16.52320975 16.29079038\n",
      " 23.68058086  9.73990339 21.21125025 11.64009223  8.27581985 25.34508281\n",
      " 27.14020237 20.99498767 26.36379634 22.12460919 14.38182874 12.83843751\n",
      "  2.4921115   3.30654254 15.38775096  9.47486316 16.53719202 12.18243936\n",
      "  6.94896378  5.99117553 16.06222869  5.82268307 10.69273715  8.58678605\n",
      " 27.77414396  6.29565658 22.85039389 22.68722007  0.43084526 19.12501901\n",
      " 23.05647004  6.23804663 16.49611786 10.854354   12.4620608  26.2548841\n",
      " 19.76816626  6.54492209 28.71514653  7.80202629 16.96751571 11.15377563\n",
      " 22.80092952  5.09403519 24.00001246  8.21769557 13.53560859  2.94076629\n",
      "  4.02757203  8.96659938  6.86912639 12.0326642  27.15751025 15.4782868\n",
      "  7.22781653 17.19415714 10.47116023 21.49491811  5.4747806  26.51862933\n",
      " 26.16289208 29.74722369 26.5735013  16.7792301  15.31299374  5.97510684\n",
      " 14.539767    5.34494067  8.90650139 13.70810391  0.63137974  9.78624106\n",
      " 22.98898991 21.52163702  5.36747243  2.08048168  7.42243152 25.8369847\n",
      " 25.40242175 13.07497422 28.66966768 24.04491316 21.29637332  7.42492739\n",
      "  2.11604443 29.49179095  4.27645773  8.61358603 17.16555207 26.59803794\n",
      " 13.78944191 15.62067191  9.21670849 12.14562662 10.52617782 25.98579879\n",
      " 14.39787573  8.08763319 16.78552727 22.79597812  8.7695133  17.27072338\n",
      " 24.43151203 16.88485001 24.44534146 16.21756467 13.61941002 19.87394843\n",
      " 12.63576776 14.50185412 26.83264391  3.00081583 16.48057545  2.45212633\n",
      " 18.83439311 13.19865842  9.40766691 15.60923545  1.63933761 23.76828936\n",
      " 10.15252566  0.40447879 24.59292978  1.3675066   9.71814934 12.16659686\n",
      " 23.04867235 20.03414656  8.5168254  19.59414161  6.77825259  8.8070403\n",
      "  5.87152425  2.5970591   4.93086037 21.00689143 10.53794997  4.50059669\n",
      "  4.80161712 19.86587841 13.82231035 25.92370876 16.76861995 19.88191792\n",
      "  5.11770677 29.00105159 25.65446515  6.84179709 22.57233685  8.15577205\n",
      " 24.13735729  4.03149435  4.13231282 16.12464321 22.48533776 20.282976\n",
      "  5.74012718 22.43342651  2.60477234  3.21766129  5.65283575 28.84370986\n",
      " 23.65634284 21.7798963  16.85637734  0.61478999  4.53882038  4.65444933\n",
      "  9.04857098 19.63428333 15.00766938 17.76592972 21.46082362 25.77459268\n",
      " 19.85548771  8.20584755  8.47650143 21.69630957  3.13097349 10.20447772\n",
      " 29.66564838 23.56946713 26.2778947  23.81853285 10.81655255  6.05639951\n",
      "  2.85441413 19.56517693 23.71136826 20.36624573  6.59131157 23.74895849\n",
      " 22.42574624 10.31297875  6.60447634  5.37750477 29.10394928 12.33961909\n",
      " 14.61065264 27.83726115  5.16829978 19.01401557  5.2640168  10.30361904\n",
      " 24.32169445  3.18704573 25.06890427 26.01541021 13.94792952 21.25266832\n",
      " 25.93658805 16.80375076  1.50816509  2.64600638 13.47500562 15.08548187\n",
      " 14.90796765 20.88436957 22.53457433 15.84915157  8.86204958 27.73245412\n",
      " 11.22385246 15.78749796 15.91197569 22.37113884  3.19226887  4.65976517\n",
      "  9.30923397 10.77526643  3.97151627 29.28059273 29.27602822 20.71976894\n",
      " 18.60895651  4.29611269 23.93608872 22.58290622  4.47426371  7.2489746\n",
      " 15.22674952 27.63320022  8.78304562 28.40607909 17.1539386   2.61718331\n",
      " 10.65596075 29.8980006  29.91966885 27.34174997  0.61629001 15.17716754\n",
      "  9.90825324 16.72368794 12.96779625 10.46723235  1.79071474  4.91140186\n",
      "  0.71891742 27.83882355 26.95599526 19.63276655 25.02837667  6.70120501\n",
      " 27.8039181   3.93032514 29.20218039 20.45922096 18.39870488  6.64103042\n",
      " 15.9427296  29.26956198 29.75236465  6.24029179 10.9032813  25.74945237\n",
      " 19.34538144 16.31296664 10.93219849 10.70922385 21.19432171 10.39189311\n",
      "  1.8610141  24.11741202 25.59864155  0.68627027 15.7876837   1.10010957\n",
      "  3.47094738 27.61646738 10.07577678 19.84021078 27.29452887  8.52034156\n",
      "  5.181769   12.92311547 14.25423041 26.70151037 27.44545754 24.06119139\n",
      " 14.00076717  8.56031135 25.99043117 20.11722212]\n"
     ]
    }
   ],
   "source": [
    "# Generate 1000 wait times between 0 and 30 mins\n",
    "wait_times = uniform.rvs(0, 30, 1000)\n",
    "\n",
    "print(wait_times)"
   ]
  },
  {
   "cell_type": "code",
   "execution_count": 29,
   "id": "659eab08",
   "metadata": {},
   "outputs": [
    {
     "data": {
      "image/png": "[encoded data removed]",
      "text/plain": [
       "<Figure size 432x288 with 1 Axes>"
      ]
     },
     "metadata": {
      "needs_background": "light"
     },
     "output_type": "display_data"
    }
   ],
   "source": [
    "# Create a histogram of simulated times and show plot\n",
    "plt.hist(wait_times)\n",
    "plt.show()"
   ]
  },
  {
   "cell_type": "markdown",
   "id": "1f9476b4",
   "metadata": {},
   "source": [
    "Unless Amir figures out exactly what time each backup happens, he won't be able to time his data entry so it gets backed up sooner, but it looks like he'll wait about 15 minutes on average."
   ]
  },
  {
   "cell_type": "code",
   "execution_count": 33,
   "id": "d58a9559",
   "metadata": {},
   "outputs": [
    {
     "name": "stdout",
     "output_type": "stream",
     "text": [
      "[1]\n",
      "[0]\n",
      "0.8461538461538461\n"
     ]
    }
   ],
   "source": [
    "# Set random seed to 10\n",
    "np.random.seed(10)\n",
    "\n",
    "# Simulate a single deal\n",
    "print(binom.rvs(1, 0.3, size=1))\n",
    "\n",
    "# Simulate 1 week of 3 deals\n",
    "print(binom.rvs(3, 0.3, size=1))\n",
    "\n",
    "# Simulate 52 weeks of 3 deals\n",
    "deals = binom.rvs(3, 0.3, size=52)\n",
    "\n",
    "# Print mean deals won per week\n",
    "print(deals.mean())"
   ]
  },
  {
   "cell_type": "markdown",
   "id": "1d082add",
   "metadata": {},
   "source": [
    "In this simulated year, Amir won 0.83 deals on average each week."
   ]
  },
  {
   "cell_type": "code",
   "execution_count": 34,
   "id": "609b62a1",
   "metadata": {},
   "outputs": [
    {
     "name": "stdout",
     "output_type": "stream",
     "text": [
      "0.026999999999999996\n"
     ]
    }
   ],
   "source": [
    "# Probability of closing 3 out of 3 deals\n",
    "prob_3 = binom.pmf(3, 3, 0.3)\n",
    "\n",
    "print(prob_3)"
   ]
  },
  {
   "cell_type": "code",
   "execution_count": 35,
   "id": "eeb9193d",
   "metadata": {},
   "outputs": [
    {
     "name": "stdout",
     "output_type": "stream",
     "text": [
      "0.784\n"
     ]
    }
   ],
   "source": [
    "# Probability of closing <= 1 deal out of 3 deals\n",
    "prob_less_than_or_equal_1 = binom.cdf(1, 3, 0.3)\n",
    "\n",
    "print(prob_less_than_or_equal_1)"
   ]
  },
  {
   "cell_type": "code",
   "execution_count": 36,
   "id": "0bebd6e8",
   "metadata": {},
   "outputs": [
    {
     "name": "stdout",
     "output_type": "stream",
     "text": [
      "0.21599999999999997\n"
     ]
    }
   ],
   "source": [
    "# Probability of closing > 1 deal out of 3 deals\n",
    "prob_greater_than_1 = 1 - 0.784\n",
    "\n",
    "print(prob_greater_than_1)"
   ]
  },
  {
   "cell_type": "code",
   "execution_count": 37,
   "id": "fce2d581",
   "metadata": {},
   "outputs": [
    {
     "name": "stdout",
     "output_type": "stream",
     "text": [
      "0.8999999999999999\n",
      "0.75\n",
      "1.0499999999999998\n"
     ]
    }
   ],
   "source": [
    "# Expected number won with 30% win rate\n",
    "won_30pct = 3 * 0.3\n",
    "print(won_30pct)\n",
    "\n",
    "# Expected number won with 25% win rate\n",
    "won_25pct = 3 * 0.25\n",
    "print(won_25pct)\n",
    "\n",
    "# Expected number won with 35% win rate\n",
    "won_35pct = 3 * 0.35\n",
    "print(won_35pct)"
   ]
  },
  {
   "cell_type": "markdown",
   "id": "ff112855",
   "metadata": {},
   "source": [
    "If Amir's win rate goes up by 5%, he can expect to close more than 1 deal on average each week."
   ]
  },
  {
   "cell_type": "markdown",
   "id": "f502da1d",
   "metadata": {},
   "source": [
    "## ***More Distributions and the Central Limit Theorem***"
   ]
  },
  {
   "cell_type": "markdown",
   "id": "8664498a",
   "metadata": {},
   "source": [
    "### Q: What is the normal distribution and what is another name for it?\n",
    "A: The normal distribution, often referred to as a \"bell curve,\" is a symmetrical probability distribution that describes many natural phenomena. It is characterized by its mean and standard deviation.\n",
    "\n",
    "### Q: What are some key properties of the normal distribution?\n",
    "A: Some key properties of the normal distribution include its symmetry, the fact that the area under the curve equals 1, and that it extends infinitely in both directions without ever touching zero probability.\n",
    "\n",
    "### Q: How are mean and standard deviation related to the normal distribution?\n",
    "A: The normal distribution is described by its mean (center) and standard deviation (spread). A special case is the standard normal distribution, which has a mean of 0 and a standard deviation of 1.\n",
    "\n",
    "### Q: What is the 68-95-99.7 rule in the context of the normal distribution?\n",
    "A: The 68-95-99.7 rule states that approximately 68% of the data falls within one standard deviation of the mean, about 95% falls within two standard deviations, and around 99.7% falls within three standard deviations.\n",
    "\n",
    "### Q: How can the normal distribution be used to approximate real-world data?\n",
    "A: The normal distribution can be used to approximate real-world data that closely resembles its shape. By knowing the mean and standard deviation of the data, percentages of observations falling within certain ranges can be calculated.\n",
    "\n",
    "### Q: How can the normal distribution be used to answer questions about percentages of a population?\n",
    "A: By using functions like `norm.cdf()` and `norm.ppf()` from `scipy.stats`, one can calculate the percentage of a population falling below or above a certain value, between two values, or find the value corresponding to a given percentage.\n",
    "\n",
    "### Q: How can random numbers be generated from a normal distribution?\n",
    "A: Random numbers from a normal distribution can be generated using the `norm.rvs()` function, specifying the mean and standard deviation of the distribution, as well as the desired sample size.\n",
    "\n",
    "### Q: What are some examples of real-world phenomena that can be modeled using the normal distribution?\n",
    "A: Real-world phenomena that can be modeled using the normal distribution include heights, weights, test scores, IQ scores, and many other measurable quantities where data clusters around a central value with a symmetric spread.\n",
    "\n",
    "### Q: How does the normal distribution play a crucial role in statistics and data analysis?\n",
    "A: The normal distribution is foundational in statistics and data analysis because many statistical methods and hypothesis tests rely on the assumption of normality. Additionally, it provides a framework for understanding variability and making predictions based on data.\n",
    "\n",
    "### Q: What is the central limit theorem?\n",
    "A: The central limit theorem (CLT) states that the sampling distribution of a sample statistic, such as the sample mean or sample proportion, will tend to be normally distributed as the sample size increases, regardless of the shape of the population distribution.\n",
    "\n",
    "### Q: How is the central limit theorem demonstrated using the example of rolling a die?\n",
    "A: The central limit theorem is demonstrated by repeatedly rolling a die and calculating the mean of the outcomes. As the number of rolls increases, the distribution of these sample means approaches a normal distribution.\n",
    "\n",
    "### Q: What are some key points about the central limit theorem?\n",
    "A: \n",
    "1. The CLT applies to the sampling distribution of various sample statistics, not just the sample mean.\n",
    "2. It requires random sampling and independence of observations.\n",
    "3. The sampling distribution approaches normality as the sample size increases, even if the population distribution is not normal.\n",
    "4. It allows for the estimation of population parameters based on sample statistics.\n",
    "\n",
    "### Q: How does the central limit theorem apply to different summary statistics?\n",
    "A: The CLT applies not only to the sample mean but also to other summary statistics such as the sample standard deviation and sample proportion. As the sample size increases, the sampling distributions of these statistics tend to become more normally distributed.\n",
    "\n",
    "### Q: How can the central limit theorem be used in practice?\n",
    "A: The CLT is useful for estimating population parameters based on sample statistics, especially when dealing with large populations where it's impractical to collect data on every individual. By taking multiple random samples and analyzing their sampling distributions, one can estimate population characteristics such as the mean or standard deviation.\n",
    "\n",
    "### Q: What are some limitations or assumptions of the central limit theorem?\n",
    "A: The central limit theorem assumes random sampling and independence of observations. It may not apply well to small sample sizes or when these assumptions are violated. Additionally, the convergence to a normal distribution may be slow for certain types of population distributions.\n",
    "\n",
    "### Q: What is a Poisson process?\n",
    "A: A Poisson process is a random process where events occur at a constant average rate over a given interval of time or space, but the timing of individual events is unpredictable. Examples include the number of customers arriving at a store per hour or the number of phone calls received at a call center per minute.\n",
    "\n",
    "### Q: How is the Poisson distribution defined?\n",
    "A: The Poisson distribution describes the probability of a certain number of events occurring within a fixed interval of time or space in a Poisson process. It is characterized by a single parameter, lambda (λ), which represents the average rate of event occurrences in the given interval.\n",
    "\n",
    "### Q: What is the significance of the parameter lambda (λ) in the Poisson distribution?\n",
    "A: Lambda (λ) represents the average number of events that occur in the specified interval. It is also the mean or expected value of the Poisson distribution. Lambda determines both the shape and location of the distribution's peak.\n",
    "\n",
    "### Q: How can the Poisson distribution be used to calculate probabilities?\n",
    "A: The Poisson distribution can be used to calculate the probability of observing a specific number of events within the interval. This can be done using the probability mass function (PMF) for a given value or the cumulative distribution function (CDF) for a range of values.\n",
    "\n",
    "### Q: What does the shape of the Poisson distribution look like, and how does it change with different values of lambda?\n",
    "A: The Poisson distribution is a discrete probability distribution with a peak at its mean value (lambda). As lambda changes, the shape of the distribution also changes. Higher values of lambda result in distributions that are more spread out, while lower values lead to distributions that are more concentrated around the mean.\n",
    "\n",
    "### Q: How can samples be generated from a Poisson distribution?\n",
    "A: Samples can be generated from a Poisson distribution using the `poisson.rvs()` function from the `scipy.stats` module in Python. This function generates random variates from a Poisson distribution based on the specified lambda parameter.\n",
    "\n",
    "### Q: How does the central limit theorem apply to the sampling distribution of sample means from a Poisson distribution?\n",
    "A: Like other distributions, the sampling distribution of sample means from a Poisson distribution tends to become approximately normal as the sample size increases, according to the central limit theorem. This allows for the application of statistical methods that assume normality, even when dealing with Poisson data.\n",
    "\n",
    "### Q: What is the exponential distribution?\n",
    "A: \n",
    "The exponential distribution represents the probability of a certain time passing between Poisson events. It is used to predict the probability of events occurring within specific time intervals, such as the time between customer service requests, the time between arrivals at a restaurant, or the time between earthquakes. The exponential distribution is characterized by a parameter lambda (λ), which represents the rate of events and is also known as the mean number of events per unit time.\n",
    "\n",
    "### Q: How does the rate parameter affect the exponential distribution?\n",
    "A: \n",
    "The rate parameter (lambda, λ) determines the shape of the exponential distribution and how steeply it declines. A higher lambda value results in a steeper decline, indicating a higher frequency of events occurring within a given time interval. Conversely, a lower lambda value leads to a slower decline, indicating fewer events occurring within the same time interval.\n",
    "\n",
    "### Q: What is the expected value of the exponential distribution?\n",
    "A: \n",
    "The expected value of the exponential distribution can be calculated by taking the reciprocal of the rate parameter (λ). In other words, if λ represents the average number of events per unit time, then the expected time between events is 1/λ. For example, if λ = 0.5 (representing one event every 2 minutes), the expected time between events is 1 / 0.5 = 2 minutes.\n",
    "\n",
    "### Q: How can probabilities be calculated with the exponential distribution?\n",
    "A: \n",
    "Probabilities in the exponential distribution can be calculated using the cumulative distribution function (CDF). For example, to find the probability of waiting less than 1 minute for a new request, one would use the `expon.cdf` function with a time threshold of 1 and the rate parameter (λ). Similarly, the probability of waiting between two specific time intervals can be calculated by subtracting the cumulative probabilities at those intervals.\n",
    "\n",
    "### Q: What is the t-distribution and how does it differ from the normal distribution?\n",
    "A: \n",
    "The t-distribution, also known as Student's t-distribution, is a probability distribution that resembles the normal distribution but has thicker tails. These thicker tails indicate that observations in a t-distribution are more likely to fall further from the mean compared to the normal distribution. The t-distribution is characterized by a parameter called degrees of freedom, which affects the thickness of the distribution's tails.\n",
    "\n",
    "### Q: What is the significance of degrees of freedom in the t-distribution?\n",
    "A: \n",
    "Degrees of freedom is a parameter in the t-distribution that determines the shape of the distribution's tails. Lower degrees of freedom result in thicker tails and a higher standard deviation, while higher degrees of freedom lead to thinner tails, resembling the normal distribution more closely. As the number of degrees of freedom increases, the t-distribution converges towards the normal distribution.\n",
    "\n",
    "### Q: What is the log-normal distribution and how does it differ from the normal distribution?\n",
    "A: \n",
    "The log-normal distribution is a probability distribution where the logarithm of the data follows a normal distribution. This results in distributions that are skewed, unlike the symmetrical normal distribution. Real-world examples of phenomena that follow a log-normal distribution include the length of chess games, blood pressure in adults, and the number of hospitalizations during outbreaks.\n",
    "\n",
    "### Q: How can one practice and learn more about probability distributions?\n",
    "A: \n",
    "In addition to the distributions covered in this lesson, there are numerous other probability distributions that one can learn about in other courses. Practicing the distributions learned so far is essential to gaining a deeper understanding of their applications and characteristics."
   ]
  },
  {
   "cell_type": "code",
   "execution_count": 38,
   "id": "f4c3e924",
   "metadata": {},
   "outputs": [
    {
     "data": {
      "image/png": "[encoded data removed]",
      "text/plain": [
       "<Figure size 432x288 with 1 Axes>"
      ]
     },
     "metadata": {
      "needs_background": "light"
     },
     "output_type": "display_data"
    }
   ],
   "source": [
    "# Histogram of amount with 10 bins and show plot\n",
    "amir_deals['amount'].hist(bins=10)\n",
    "plt.show()"
   ]
  },
  {
   "cell_type": "code",
   "execution_count": 42,
   "id": "ae82a421",
   "metadata": {},
   "outputs": [
    {
     "name": "stdout",
     "output_type": "stream",
     "text": [
      "0.8943502263331446\n",
      "0.9772498680518208\n",
      "0.6826894921370859\n",
      "3651.0204996078364\n"
     ]
    }
   ],
   "source": [
    "# Probability of deal < 7500\n",
    "prob_less_7500 = norm.cdf(7500, 5000, 2000)\n",
    "\n",
    "print(prob_less_7500)\n",
    "\n",
    "# Probability of deal > 1000\n",
    "prob_over_1000 = 1 - norm.cdf(1000, 5000, 2000)\n",
    "\n",
    "print(prob_over_1000)\n",
    "\n",
    "# Probability of deal between 3000 and 7000\n",
    "prob_3000_to_7000 = norm.cdf(7000, 5000, 2000) - norm.cdf(3000, 5000, 2000)\n",
    "\n",
    "print(prob_3000_to_7000)\n",
    "\n",
    "# Calculate amount that 25% of deals will be less than\n",
    "pct_25 = norm.ppf(0.25, 5000, 2000)\n",
    "\n",
    "print(pct_25)"
   ]
  },
  {
   "cell_type": "markdown",
   "id": "b350384c",
   "metadata": {},
   "source": [
    "You know that you can count on Amir 75% (1-0.25) of the time to make a sale worth at least $3651.02. This information could be useful in making company-wide sales projections."
   ]
  },
  {
   "cell_type": "code",
   "execution_count": 43,
   "id": "319c4dce",
   "metadata": {},
   "outputs": [
    {
     "data": {
      "image/png": "[encoded data removed]",
      "text/plain": [
       "<Figure size 432x288 with 1 Axes>"
      ]
     },
     "metadata": {
      "needs_background": "light"
     },
     "output_type": "display_data"
    }
   ],
   "source": [
    "# Calculate new average amount\n",
    "new_mean = 5000 * 1.2\n",
    "\n",
    "# Calculate new standard deviation\n",
    "new_sd = 2000 * 1.3\n",
    "\n",
    "# Simulate 36 new sales\n",
    "new_sales = norm.rvs(new_mean, new_sd, 36)\n",
    "\n",
    "# Create histogram and show\n",
    "plt.hist(new_sales)\n",
    "plt.show()"
   ]
  },
  {
   "cell_type": "markdown",
   "id": "2ce80169",
   "metadata": {},
   "source": [
    "Although the average sale amount went up, the variation also increased, so it's not straightforward to decide whether these sales are better than his current ones."
   ]
  },
  {
   "cell_type": "code",
   "execution_count": 44,
   "id": "6429e427",
   "metadata": {},
   "outputs": [
    {
     "data": {
      "image/png": "[encoded data removed]",
      "text/plain": [
       "<Figure size 432x288 with 1 Axes>"
      ]
     },
     "metadata": {
      "needs_background": "light"
     },
     "output_type": "display_data"
    }
   ],
   "source": [
    "# Create a histogram of num_users and show\n",
    "amir_deals['num_users'].hist()\n",
    "plt.show()"
   ]
  },
  {
   "cell_type": "code",
   "execution_count": null,
   "id": "c29c1285",
   "metadata": {},
   "outputs": [],
   "source": [
    "# Set seed to 104\n",
    "np.random.seed(104)\n",
    "\n",
    "# Sample 20 num_users with replacement from amir_deals and take mean\n",
    "samp_20 = amir_deals['num_users'].sample(20, replace=True)\n",
    "np.mean(samp_20)\n",
    "\n",
    "sample_means = []\n",
    "# Loop 100 times\n",
    "for i in range(100):\n",
    "  # Take sample of 20 num_users\n",
    "  samp_20 = amir_deals['num_users'].sample(20, replace=True)\n",
    "  # Calculate mean of samp_20\n",
    "  samp_20_mean = np.mean(samp_20)\n",
    "  # Append samp_20_mean to sample_means\n",
    "  sample_means.append(samp_20_mean)\n",
    "  \n",
    "# Convert to Series and plot histogram\n",
    "sample_means_series = pd.Series(sample_means)\n",
    "sample_means_series.hist()\n",
    "# Show plot\n",
    "plt.show()"
   ]
  },
  {
   "cell_type": "markdown",
   "id": "5797ed93",
   "metadata": {},
   "source": [
    "Even though the distribution of num_users is not normal, the distribution of its sample means resembles the normal distribution."
   ]
  },
  {
   "cell_type": "code",
   "execution_count": null,
   "id": "e5d06ed6",
   "metadata": {},
   "outputs": [],
   "source": [
    "# Set seed to 321\n",
    "np.random.seed(321)\n",
    "\n",
    "sample_means = []\n",
    "# Loop 30 times to take 30 means\n",
    "for i in range(30):\n",
    "  # Take sample of size 20 from num_users col of all_deals with replacement\n",
    "  cur_sample = all_deals['num_users'].sample(20, replace=True)\n",
    "  # Take mean of cur_sample\n",
    "  cur_mean = np.mean(cur_sample)\n",
    "  # Append cur_mean to sample_means\n",
    "  sample_means.append(cur_mean)\n",
    "\n",
    "# Print mean of sample_means\n",
    "print(np.mean(sample_means))\n",
    "\n",
    "# Print mean of num_users in amir_deals\n",
    "print(np.mean(amir_deals['num_users']))"
   ]
  },
  {
   "cell_type": "markdown",
   "id": "517b1816",
   "metadata": {},
   "source": [
    "Amir's average number of users is very close to the overall average, so it looks like he's meeting expectations. Make sure to note this in his performance review!"
   ]
  },
  {
   "cell_type": "code",
   "execution_count": 49,
   "id": "6881b407",
   "metadata": {},
   "outputs": [
    {
     "name": "stdout",
     "output_type": "stream",
     "text": [
      "0.1562934518505317\n",
      "0.17140068409793663\n",
      "0.23810330555354436\n",
      "0.0028397661205137315\n"
     ]
    }
   ],
   "source": [
    "# Probability of 5 responses\n",
    "prob_5 = poisson.pmf(5, 4)\n",
    "\n",
    "print(prob_5)\n",
    "\n",
    "# Probability of 5 responses\n",
    "prob_coworker = poisson.pmf(5 ,5.5)\n",
    "\n",
    "print(prob_coworker)\n",
    "\n",
    "# Probability of 2 or fewer responses\n",
    "prob_2_or_less = poisson.cdf(2, 4)\n",
    "\n",
    "print(prob_2_or_less)\n",
    "\n",
    "# Probability of > 10 responses\n",
    "prob_over_10 = 1 - poisson.cdf(10, 4)\n",
    "\n",
    "print(prob_over_10)"
   ]
  },
  {
   "cell_type": "code",
   "execution_count": null,
   "id": "afb9c4f3",
   "metadata": {},
   "outputs": [],
   "source": [
    "# Print probability response takes < 1 hour\n",
    "print(expon.cdf(1, scale=2.5))\n",
    "\n",
    "# Print probability response takes > 4 hours\n",
    "print(1 - expon.cdf(4, scale=2.5))\n",
    "\n",
    "# Print probability response takes 3-4 hours\n",
    "print(expon.cdf(4, scale=2.5) - expon.cdf(3, scale=2.5))"
   ]
  },
  {
   "cell_type": "markdown",
   "id": "630a3714",
   "metadata": {},
   "source": [
    "There's only about a 20% chance it will take Amir more than 4 hours to respond"
   ]
  },
  {
   "cell_type": "markdown",
   "id": "e9434c98",
   "metadata": {},
   "source": [
    "## ***Correlation and Experimental Design***"
   ]
  },
  {
   "cell_type": "markdown",
   "id": "6836d1cb",
   "metadata": {},
   "source": [
    "### Q: What is correlation?\n",
    "A: \n",
    "Correlation refers to the measure of association or relationship between two numeric variables. It helps us understand how changes in one variable are associated with changes in another variable.\n",
    "\n",
    "### Q: How is correlation visualized?\n",
    "A: \n",
    "Correlation can be visualized using scatter plots, where each point represents a pair of observations for the two variables being analyzed. The scatter plot allows us to observe the pattern or trend between the variables, such as whether they move in the same direction (positive correlation), opposite directions (negative correlation), or show no apparent relationship.\n",
    "\n",
    "### Q: What is the correlation coefficient?\n",
    "A: \n",
    "The correlation coefficient is a numerical measure that quantifies the strength and direction of the relationship between two variables. It ranges from -1 to 1, where 1 indicates a perfect positive linear relationship, -1 indicates a perfect negative linear relationship, and 0 indicates no linear relationship. The sign of the correlation coefficient indicates the direction of the relationship (positive or negative), while the magnitude indicates the strength.\n",
    "\n",
    "### Q: How is correlation coefficient computed?\n",
    "A: \n",
    "The correlation coefficient, often denoted as \\( r \\), is computed using a formula that involves the means and standard deviations of the two variables. The most commonly used method for computing correlation is the Pearson product-moment correlation, which calculates the linear relationship between variables. Other methods, such as Kendall's tau and Spearman's rho, exist for measuring correlation, but they assess different types of relationships and patterns.\n",
    "\n",
    "### Q: How are correlations visualized using Python?\n",
    "A: \n",
    "Correlations can be visualized using Python libraries such as seaborn and matplotlib. Scatter plots can be created using seaborn's `scatterplot` function, and trendlines can be added using the `lmplot` function. These visualizations help in understanding the relationship between variables and identifying any patterns or trends present in the data.\n",
    "\n",
    "### Q: Can correlation be used to infer causation?\n",
    "A: \n",
    "No, correlation does not imply causation. While a strong correlation between two variables may suggest a relationship, it does not necessarily mean that changes in one variable cause changes in the other. Correlation measures only the degree of association between variables and does not provide information about causality. Establishing causation requires further analysis and experimentation.\n",
    "\n",
    "### Q: What are some caveats of using correlation as a measure of relationship between variables?\n",
    "A: \n",
    "Correlation is a useful measure, but it has limitations:\n",
    "1. **Non-linear relationships**: Correlation measures the strength of linear relationships only. If the relationship between variables is non-linear, correlation may not accurately capture it.\n",
    "2. **Correlation vs. causation**: Correlation does not imply causation. Just because two variables are correlated does not mean that one causes the other. There could be other hidden variables at play, leading to spurious correlations.\n",
    "3. **Confounding variables**: Confounding variables, also known as lurking variables, can distort the relationship between variables by influencing both of them. Ignoring confounding variables can lead to incorrect interpretations of correlations.\n",
    "\n",
    "### Q: How can non-linear relationships affect correlation?\n",
    "A: \n",
    "Correlation measures the strength of linear relationships between variables. If the relationship between variables is non-linear, correlation may not accurately capture it. For example, a quadratic relationship between variables will not be well-represented by correlation, as correlation only accounts for linear associations.\n",
    "\n",
    "### Q: How can skewed data distributions affect correlation analysis?\n",
    "A: \n",
    "Skewed data distributions can affect correlation analysis by distorting the relationship between variables. When data is highly skewed, applying transformations such as logarithmic transformation can help make the relationship more linear. Ignoring skewed distributions and failing to apply appropriate transformations can lead to inaccurate correlation estimates.\n",
    "\n",
    "### Q: What is the significance of confounding variables in correlation analysis?\n",
    "A: \n",
    "Confounding variables, also known as lurking variables, are third variables that can distort the relationship between variables of interest. When confounding variables are not accounted for, correlations between variables may be misleading, leading to incorrect interpretations. It is essential to identify and control for confounding variables to ensure accurate analysis and interpretation of correlations.\n",
    "\n",
    "### Q: How does correlation differ from causation?\n",
    "A: \n",
    "Correlation measures the degree of association between two variables but does not imply causation. Correlation indicates that two variables change together, but it does not establish a causal relationship between them. Causation implies that changes in one variable directly cause changes in another variable, which correlation alone cannot determine.\n",
    "\n",
    "### Q: What is the purpose of experiments, and how are they typically structured?\n",
    "A: Experiments aim to answer questions about the effect of a treatment on a response variable. They usually involve comparing groups, with one group receiving the treatment (treatment group) and another group not receiving the treatment (control group).\n",
    "\n",
    "### Q: Describe the vocabulary associated with experiments.\n",
    "A: In experiments, the treatment refers to the independent variable being studied, while the response refers to the dependent variable being measured. For example, in studying the effect of an advertisement on product purchases, the advertisement is the treatment, and the number of products purchased is the response.\n",
    "\n",
    "### Q: What is a controlled experiment, and why is random assignment important?\n",
    "A: In a controlled experiment, participants are randomly assigned to either the treatment or control group. Random assignment is crucial because it helps ensure that the groups are comparable, minimizing the potential for confounding variables to bias the results.\n",
    "\n",
    "### Q: What are some tools used in the gold standard of experiments, and how do they help reduce bias?\n",
    "A: The gold standard of experiments employs randomized controlled trials, placebos, and double-blind procedures. Random assignment ensures groups are comparable, placebos help distinguish treatment effects from placebo effects, and double-blind procedures prevent bias in administering treatments and analyzing results.\n",
    "\n",
    "### Q: How do observational studies differ from controlled experiments, and what limitations do they have?\n",
    "A: Observational studies do not involve random assignment of participants to groups; instead, participants self-select based on pre-existing characteristics. These studies can't establish causation, only association, and are susceptible to confounding variables influencing the results.\n",
    "\n",
    "### Q: What is the difference between longitudinal and cross-sectional studies, and what are their respective advantages?\n",
    "A: Longitudinal studies follow the same participants over time, while cross-sectional studies collect data from different participants at a single point in time. Longitudinal studies eliminate confounding by following participants, but they are more expensive and time-consuming. Cross-sectional studies are cheaper and faster but are more prone to confounding."
   ]
  },
  {
   "cell_type": "code",
   "execution_count": 52,
   "id": "d0fd7d0f",
   "metadata": {},
   "outputs": [],
   "source": [
    "world_happiness = pd.read_csv(\"world_happiness.csv\")"
   ]
  },
  {
   "cell_type": "code",
   "execution_count": 56,
   "id": "e818c4aa",
   "metadata": {},
   "outputs": [
    {
     "data": {
      "image/png": "[encoded data removed]",
      "text/plain": [
       "<Figure size 432x288 with 1 Axes>"
      ]
     },
     "metadata": {
      "needs_background": "light"
     },
     "output_type": "display_data"
    }
   ],
   "source": [
    "# Create a scatterplot of happiness_score vs. life_exp and show\n",
    "sns.scatterplot(x='life_exp', y='happiness_score', data=world_happiness)\n",
    "\n",
    "# Show plot\n",
    "plt.show()"
   ]
  },
  {
   "cell_type": "code",
   "execution_count": 57,
   "id": "2a6d3437",
   "metadata": {},
   "outputs": [
    {
     "data": {
      "image/png": "[encoded data removed]",
      "text/plain": [
       "<Figure size 360x360 with 1 Axes>"
      ]
     },
     "metadata": {
      "needs_background": "light"
     },
     "output_type": "display_data"
    }
   ],
   "source": [
    "# Create scatterplot of happiness_score vs life_exp with trendline\n",
    "sns.lmplot(x='life_exp', y='happiness_score', data=world_happiness, ci=None)\n",
    "\n",
    "# Show plot\n",
    "plt.show()"
   ]
  },
  {
   "cell_type": "code",
   "execution_count": 59,
   "id": "85052e00",
   "metadata": {},
   "outputs": [
    {
     "name": "stdout",
     "output_type": "stream",
     "text": [
      "0.7802249053272065\n"
     ]
    }
   ],
   "source": [
    "# Correlation between life_exp and happiness_score\n",
    "cor = world_happiness['life_exp'].corr(world_happiness['happiness_score'])\n",
    "\n",
    "print(cor)"
   ]
  },
  {
   "cell_type": "code",
   "execution_count": 60,
   "id": "35dbfb52",
   "metadata": {},
   "outputs": [
    {
     "data": {
      "image/png": "[encoded data removed]",
      "text/plain": [
       "<Figure size 432x288 with 1 Axes>"
      ]
     },
     "metadata": {
      "needs_background": "light"
     },
     "output_type": "display_data"
    }
   ],
   "source": [
    "# Scatterplot of gdp_per_cap and life_exp\n",
    "sns.scatterplot(x='gdp_per_cap', y='life_exp', data=world_happiness)\n",
    "\n",
    "# Show plot\n",
    "plt.show()"
   ]
  },
  {
   "cell_type": "code",
   "execution_count": null,
   "id": "11a134b6",
   "metadata": {},
   "outputs": [],
   "source": [
    "# Correlation between gdp_per_cap and life_exp\n",
    "cor = world_happiness['gdp_per_cap'].corr(world_happiness['life_exp'])\n",
    "\n",
    "print(cor)"
   ]
  },
  {
   "cell_type": "markdown",
   "id": "06c09d73",
   "metadata": {},
   "source": [
    "The correlation coefficient can't account for any relationships that aren't linear, regardless of strength."
   ]
  },
  {
   "cell_type": "code",
   "execution_count": 62,
   "id": "e0a52918",
   "metadata": {},
   "outputs": [
    {
     "data": {
      "image/png": "[encoded data removed]",
      "text/plain": [
       "<Figure size 432x288 with 1 Axes>"
      ]
     },
     "metadata": {
      "needs_background": "light"
     },
     "output_type": "display_data"
    },
    {
     "name": "stdout",
     "output_type": "stream",
     "text": [
      "0.7279733012222976\n"
     ]
    }
   ],
   "source": [
    "# Scatterplot of happiness_score vs. gdp_per_cap\n",
    "sns.scatterplot(x='gdp_per_cap', y='happiness_score', data=world_happiness)\n",
    "plt.show()\n",
    "\n",
    "# Calculate correlation\n",
    "cor = world_happiness['happiness_score'].corr(world_happiness['gdp_per_cap'])\n",
    "print(cor)"
   ]
  },
  {
   "cell_type": "code",
   "execution_count": 63,
   "id": "c0648e68",
   "metadata": {},
   "outputs": [
    {
     "data": {
      "image/png": "[encoded data removed]",
      "text/plain": [
       "<Figure size 432x288 with 1 Axes>"
      ]
     },
     "metadata": {
      "needs_background": "light"
     },
     "output_type": "display_data"
    },
    {
     "name": "stdout",
     "output_type": "stream",
     "text": [
      "0.8043146004918289\n"
     ]
    }
   ],
   "source": [
    "# Create log_gdp_per_cap column\n",
    "world_happiness['log_gdp_per_cap'] = np.log(world_happiness['gdp_per_cap'])\n",
    "\n",
    "# Scatterplot of happiness_score vs. log_gdp_per_cap\n",
    "sns.scatterplot(x='log_gdp_per_cap', y='happiness_score', data=world_happiness)\n",
    "plt.show()\n",
    "\n",
    "# Calculate correlation\n",
    "cor = world_happiness['log_gdp_per_cap'].corr(world_happiness['happiness_score'])\n",
    "print(cor)"
   ]
  },
  {
   "cell_type": "markdown",
   "id": "e3eab20e",
   "metadata": {},
   "source": [
    "The relationship between GDP per capita and happiness became more linear by applying a log transformation. Log transformations are great to use on variables with a skewed distribution, such as GDP."
   ]
  },
  {
   "cell_type": "markdown",
   "id": "11cf1a7d",
   "metadata": {},
   "source": [
    "![fun image at the end](images/numbersdontaddup.webp)"
   ]
  },
  {
   "cell_type": "code",
   "execution_count": null,
   "id": "85699993",
   "metadata": {},
   "outputs": [],
   "source": []
  }
 ],
 "metadata": {
  "kernelspec": {
   "display_name": "Python 3 (ipykernel)",
   "language": "python",
   "name": "python3"
  },
  "language_info": {
   "codemirror_mode": {
    "name": "ipython",
    "version": 3
   },
   "file_extension": ".py",
   "mimetype": "text/x-python",
   "name": "python",
   "nbconvert_exporter": "python",
   "pygments_lexer": "ipython3",
   "version": "3.10.1"
  }
 },
 "nbformat": 4,
 "nbformat_minor": 5
}
