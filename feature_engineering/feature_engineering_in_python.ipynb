{
 "cells": [
  {
   "cell_type": "markdown",
   "id": "880499c1",
   "metadata": {},
   "source": [
    "# Feature Engineering for Machine Learning in Python"
   ]
  },
  {
   "cell_type": "markdown",
   "id": "e31be933",
   "metadata": {},
   "source": [
    "1. Creating Features\n",
    "2. Dealing with Messy Data\n",
    "3. Conforming to Statistical Assumptions\n",
    "4. Dealing with Text Data"
   ]
  },
  {
   "cell_type": "code",
   "execution_count": 88,
   "id": "9c7c0c47",
   "metadata": {},
   "outputs": [],
   "source": [
    "import pandas as pd\n",
    "import numpy as np\n",
    "import matplotlib.pyplot as plt\n",
    "import seaborn as sns\n",
    "from sklearn.preprocessing import MinMaxScaler, StandardScaler, PowerTransformer\n",
    "from sklearn.model_selection import train_test_split\n",
    "from sklearn.feature_extraction.text import CountVectorizer, TfidfVectorizer"
   ]
  },
  {
   "cell_type": "code",
   "execution_count": 2,
   "id": "661abddf",
   "metadata": {},
   "outputs": [],
   "source": [
    "df = pd.read_csv(\"Combined_DS_v10.csv\")"
   ]
  },
  {
   "cell_type": "code",
   "execution_count": 3,
   "id": "c3dcc00e",
   "metadata": {},
   "outputs": [],
   "source": [
    "df = df[df['Country'] != 'Russia']"
   ]
  },
  {
   "cell_type": "code",
   "execution_count": 14,
   "id": "49380e36",
   "metadata": {},
   "outputs": [
    {
     "data": {
      "text/plain": [
       "SurveyDate                     object\n",
       "FormalEducation                object\n",
       "ConvertedSalary               float64\n",
       "Hobby                          object\n",
       "Country                        object\n",
       "StackOverflowJobsRecommend    float64\n",
       "VersionControl                 object\n",
       "Age                             int64\n",
       "Years Experience                int64\n",
       "Gender                         object\n",
       "RawSalary                      object\n",
       "dtype: object"
      ]
     },
     "execution_count": 14,
     "metadata": {},
     "output_type": "execute_result"
    }
   ],
   "source": [
    "df.dtypes"
   ]
  },
  {
   "cell_type": "code",
   "execution_count": 4,
   "id": "1cbe853f",
   "metadata": {},
   "outputs": [
    {
     "data": {
      "text/html": [
       "<div>\n",
       "<style scoped>\n",
       "    .dataframe tbody tr th:only-of-type {\n",
       "        vertical-align: middle;\n",
       "    }\n",
       "\n",
       "    .dataframe tbody tr th {\n",
       "        vertical-align: top;\n",
       "    }\n",
       "\n",
       "    .dataframe thead th {\n",
       "        text-align: right;\n",
       "    }\n",
       "</style>\n",
       "<table border=\"1\" class=\"dataframe\">\n",
       "  <thead>\n",
       "    <tr style=\"text-align: right;\">\n",
       "      <th></th>\n",
       "      <th>SurveyDate</th>\n",
       "      <th>FormalEducation</th>\n",
       "      <th>ConvertedSalary</th>\n",
       "      <th>Hobby</th>\n",
       "      <th>Country</th>\n",
       "      <th>StackOverflowJobsRecommend</th>\n",
       "      <th>VersionControl</th>\n",
       "      <th>Age</th>\n",
       "      <th>Years Experience</th>\n",
       "      <th>Gender</th>\n",
       "      <th>RawSalary</th>\n",
       "    </tr>\n",
       "  </thead>\n",
       "  <tbody>\n",
       "    <tr>\n",
       "      <th>0</th>\n",
       "      <td>2/28/18 20:20</td>\n",
       "      <td>Bachelor's degree (BA. BS. B.Eng.. etc.)</td>\n",
       "      <td>NaN</td>\n",
       "      <td>Yes</td>\n",
       "      <td>South Africa</td>\n",
       "      <td>NaN</td>\n",
       "      <td>Git</td>\n",
       "      <td>21</td>\n",
       "      <td>13</td>\n",
       "      <td>Male</td>\n",
       "      <td>NaN</td>\n",
       "    </tr>\n",
       "    <tr>\n",
       "      <th>1</th>\n",
       "      <td>6/28/18 13:26</td>\n",
       "      <td>Bachelor's degree (BA. BS. B.Eng.. etc.)</td>\n",
       "      <td>70841.0</td>\n",
       "      <td>Yes</td>\n",
       "      <td>Sweeden</td>\n",
       "      <td>7.0</td>\n",
       "      <td>Git;Subversion</td>\n",
       "      <td>38</td>\n",
       "      <td>9</td>\n",
       "      <td>Male</td>\n",
       "      <td>70,841.00</td>\n",
       "    </tr>\n",
       "    <tr>\n",
       "      <th>2</th>\n",
       "      <td>6/6/18 3:37</td>\n",
       "      <td>Bachelor's degree (BA. BS. B.Eng.. etc.)</td>\n",
       "      <td>NaN</td>\n",
       "      <td>No</td>\n",
       "      <td>Sweeden</td>\n",
       "      <td>8.0</td>\n",
       "      <td>Git</td>\n",
       "      <td>45</td>\n",
       "      <td>11</td>\n",
       "      <td>NaN</td>\n",
       "      <td>NaN</td>\n",
       "    </tr>\n",
       "    <tr>\n",
       "      <th>3</th>\n",
       "      <td>5/9/18 1:06</td>\n",
       "      <td>Some college/university study without earning ...</td>\n",
       "      <td>21426.0</td>\n",
       "      <td>Yes</td>\n",
       "      <td>Sweeden</td>\n",
       "      <td>NaN</td>\n",
       "      <td>Zip file back-ups</td>\n",
       "      <td>46</td>\n",
       "      <td>12</td>\n",
       "      <td>Male</td>\n",
       "      <td>21,426.00</td>\n",
       "    </tr>\n",
       "    <tr>\n",
       "      <th>4</th>\n",
       "      <td>4/12/18 22:41</td>\n",
       "      <td>Bachelor's degree (BA. BS. B.Eng.. etc.)</td>\n",
       "      <td>41671.0</td>\n",
       "      <td>Yes</td>\n",
       "      <td>UK</td>\n",
       "      <td>8.0</td>\n",
       "      <td>Git</td>\n",
       "      <td>39</td>\n",
       "      <td>7</td>\n",
       "      <td>Male</td>\n",
       "      <td>£41,671.00</td>\n",
       "    </tr>\n",
       "  </tbody>\n",
       "</table>\n",
       "</div>"
      ],
      "text/plain": [
       "      SurveyDate                                    FormalEducation  \\\n",
       "0  2/28/18 20:20           Bachelor's degree (BA. BS. B.Eng.. etc.)   \n",
       "1  6/28/18 13:26           Bachelor's degree (BA. BS. B.Eng.. etc.)   \n",
       "2    6/6/18 3:37           Bachelor's degree (BA. BS. B.Eng.. etc.)   \n",
       "3    5/9/18 1:06  Some college/university study without earning ...   \n",
       "4  4/12/18 22:41           Bachelor's degree (BA. BS. B.Eng.. etc.)   \n",
       "\n",
       "   ConvertedSalary Hobby       Country  StackOverflowJobsRecommend  \\\n",
       "0              NaN   Yes  South Africa                         NaN   \n",
       "1          70841.0   Yes       Sweeden                         7.0   \n",
       "2              NaN    No       Sweeden                         8.0   \n",
       "3          21426.0   Yes       Sweeden                         NaN   \n",
       "4          41671.0   Yes            UK                         8.0   \n",
       "\n",
       "      VersionControl  Age  Years Experience Gender   RawSalary  \n",
       "0                Git   21                13   Male         NaN  \n",
       "1     Git;Subversion   38                 9   Male   70,841.00  \n",
       "2                Git   45                11    NaN         NaN  \n",
       "3  Zip file back-ups   46                12   Male   21,426.00  \n",
       "4                Git   39                 7   Male  £41,671.00  "
      ]
     },
     "execution_count": 4,
     "metadata": {},
     "output_type": "execute_result"
    }
   ],
   "source": [
    "df.head()"
   ]
  },
  {
   "cell_type": "code",
   "execution_count": 15,
   "id": "455b29fc",
   "metadata": {},
   "outputs": [],
   "source": [
    "numeric_df = df.select_dtypes(include=[\"int\", \"float\"])"
   ]
  },
  {
   "cell_type": "code",
   "execution_count": 16,
   "id": "beee86d2",
   "metadata": {},
   "outputs": [
    {
     "data": {
      "text/plain": [
       "Index(['ConvertedSalary', 'StackOverflowJobsRecommend', 'Age',\n",
       "       'Years Experience'],\n",
       "      dtype='object')"
      ]
     },
     "execution_count": 16,
     "metadata": {},
     "output_type": "execute_result"
    }
   ],
   "source": [
    "numeric_df.columns"
   ]
  },
  {
   "cell_type": "markdown",
   "id": "54f0da47",
   "metadata": {},
   "source": [
    "## Encoding categorial  variables\n",
    "1. **One-hot encoding:**\n",
    "   - Explainable features\n",
    "   \n",
    "   \n",
    "\n",
    "2. **Dummy encoding:**\n",
    "   - Necessary information without duplication"
   ]
  },
  {
   "cell_type": "code",
   "execution_count": 17,
   "id": "95d53ac1",
   "metadata": {},
   "outputs": [],
   "source": [
    "one_hot_encoded = pd.get_dummies(df, columns=[\"Country\"], prefix='OH')"
   ]
  },
  {
   "cell_type": "code",
   "execution_count": 18,
   "id": "5787a865",
   "metadata": {},
   "outputs": [
    {
     "data": {
      "text/plain": [
       "Index(['SurveyDate', 'FormalEducation', 'ConvertedSalary', 'Hobby',\n",
       "       'StackOverflowJobsRecommend', 'VersionControl', 'Age',\n",
       "       'Years Experience', 'Gender', 'RawSalary', 'OH_France', 'OH_India',\n",
       "       'OH_Ireland', 'OH_South Africa', 'OH_Spain', 'OH_Sweeden', 'OH_UK',\n",
       "       'OH_USA', 'OH_Ukraine'],\n",
       "      dtype='object')"
      ]
     },
     "execution_count": 18,
     "metadata": {},
     "output_type": "execute_result"
    }
   ],
   "source": [
    "one_hot_encoded.columns"
   ]
  },
  {
   "cell_type": "code",
   "execution_count": 22,
   "id": "212497b0",
   "metadata": {},
   "outputs": [],
   "source": [
    "dummy = pd.get_dummies(df, columns=[\"Country\"], drop_first=True, prefix='DM')"
   ]
  },
  {
   "cell_type": "code",
   "execution_count": 23,
   "id": "36529aad",
   "metadata": {},
   "outputs": [
    {
     "data": {
      "text/plain": [
       "Index(['SurveyDate', 'FormalEducation', 'ConvertedSalary', 'Hobby',\n",
       "       'StackOverflowJobsRecommend', 'VersionControl', 'Age',\n",
       "       'Years Experience', 'Gender', 'RawSalary', 'DM_India', 'DM_Ireland',\n",
       "       'DM_South Africa', 'DM_Spain', 'DM_Sweeden', 'DM_UK', 'DM_USA',\n",
       "       'DM_Ukraine'],\n",
       "      dtype='object')"
      ]
     },
     "execution_count": 23,
     "metadata": {},
     "output_type": "execute_result"
    }
   ],
   "source": [
    "dummy.columns"
   ]
  },
  {
   "cell_type": "markdown",
   "id": "853b5bd9",
   "metadata": {},
   "source": [
    "## Encoding numeric variables"
   ]
  },
  {
   "cell_type": "markdown",
   "id": "557d3dca",
   "metadata": {},
   "source": [
    "### Masking"
   ]
  },
  {
   "cell_type": "code",
   "execution_count": 5,
   "id": "0896dc5d",
   "metadata": {},
   "outputs": [
    {
     "name": "stdout",
     "output_type": "stream",
     "text": [
      "South Africa    166\n",
      "USA             164\n",
      "Spain           134\n",
      "Sweeden         119\n",
      "France          115\n",
      "UK               95\n",
      "India            95\n",
      "Ukraine           9\n",
      "Ireland           5\n",
      "Name: Country, dtype: int64\n"
     ]
    }
   ],
   "source": [
    "countries = df.Country\n",
    "country_counts = countries.value_counts()\n",
    "print(country_counts)"
   ]
  },
  {
   "cell_type": "code",
   "execution_count": 28,
   "id": "917e2f03",
   "metadata": {},
   "outputs": [
    {
     "data": {
      "text/plain": [
       "0    False\n",
       "1    False\n",
       "2    False\n",
       "3    False\n",
       "4    False\n",
       "Name: Country, dtype: bool"
      ]
     },
     "execution_count": 28,
     "metadata": {},
     "output_type": "execute_result"
    }
   ],
   "source": [
    "mask = countries.isin(country_counts[country_counts < 10].index)\n",
    "mask.head()"
   ]
  },
  {
   "cell_type": "code",
   "execution_count": 29,
   "id": "e4d12817",
   "metadata": {
    "scrolled": true
   },
   "outputs": [
    {
     "data": {
      "text/plain": [
       "South Africa    166\n",
       "USA             164\n",
       "Spain           134\n",
       "Sweeden         119\n",
       "France          115\n",
       "UK               95\n",
       "India            95\n",
       "Other            14\n",
       "Name: Country, dtype: int64"
      ]
     },
     "execution_count": 29,
     "metadata": {},
     "output_type": "execute_result"
    }
   ],
   "source": [
    "countries[mask] = 'Other'\n",
    "countries.value_counts()"
   ]
  },
  {
   "cell_type": "markdown",
   "id": "75fc7d67",
   "metadata": {},
   "source": [
    "### Binarizing"
   ]
  },
  {
   "cell_type": "code",
   "execution_count": 11,
   "id": "186234d5",
   "metadata": {},
   "outputs": [
    {
     "data": {
      "text/html": [
       "<div>\n",
       "<style scoped>\n",
       "    .dataframe tbody tr th:only-of-type {\n",
       "        vertical-align: middle;\n",
       "    }\n",
       "\n",
       "    .dataframe tbody tr th {\n",
       "        vertical-align: top;\n",
       "    }\n",
       "\n",
       "    .dataframe thead th {\n",
       "        text-align: right;\n",
       "    }\n",
       "</style>\n",
       "<table border=\"1\" class=\"dataframe\">\n",
       "  <thead>\n",
       "    <tr style=\"text-align: right;\">\n",
       "      <th></th>\n",
       "      <th>Paid_Job</th>\n",
       "      <th>ConvertedSalary</th>\n",
       "    </tr>\n",
       "  </thead>\n",
       "  <tbody>\n",
       "    <tr>\n",
       "      <th>0</th>\n",
       "      <td>0</td>\n",
       "      <td>NaN</td>\n",
       "    </tr>\n",
       "    <tr>\n",
       "      <th>1</th>\n",
       "      <td>1</td>\n",
       "      <td>70841.0</td>\n",
       "    </tr>\n",
       "    <tr>\n",
       "      <th>2</th>\n",
       "      <td>0</td>\n",
       "      <td>NaN</td>\n",
       "    </tr>\n",
       "    <tr>\n",
       "      <th>3</th>\n",
       "      <td>1</td>\n",
       "      <td>21426.0</td>\n",
       "    </tr>\n",
       "    <tr>\n",
       "      <th>4</th>\n",
       "      <td>1</td>\n",
       "      <td>41671.0</td>\n",
       "    </tr>\n",
       "  </tbody>\n",
       "</table>\n",
       "</div>"
      ],
      "text/plain": [
       "   Paid_Job  ConvertedSalary\n",
       "0         0              NaN\n",
       "1         1          70841.0\n",
       "2         0              NaN\n",
       "3         1          21426.0\n",
       "4         1          41671.0"
      ]
     },
     "execution_count": 11,
     "metadata": {},
     "output_type": "execute_result"
    }
   ],
   "source": [
    "df['Paid_Job'] = 0\n",
    "df.loc[df['ConvertedSalary'] > 0, 'Paid_Job'] = 1\n",
    "df[['Paid_Job', 'ConvertedSalary']].head()"
   ]
  },
  {
   "cell_type": "markdown",
   "id": "779b3a7a",
   "metadata": {},
   "source": [
    "### Binning"
   ]
  },
  {
   "cell_type": "code",
   "execution_count": 32,
   "id": "2ca0700f",
   "metadata": {},
   "outputs": [
    {
     "name": "stdout",
     "output_type": "stream",
     "text": [
      "          equal_binned  ConvertedSalary\n",
      "0                  NaN              NaN\n",
      "1  (-2000.0, 400000.0]          70841.0\n",
      "2                  NaN              NaN\n",
      "3  (-2000.0, 400000.0]          21426.0\n",
      "4  (-2000.0, 400000.0]          41671.0\n"
     ]
    }
   ],
   "source": [
    "df['equal_binned'] = pd.cut(df['ConvertedSalary'], bins=5)\n",
    "\n",
    "print(df[['equal_binned', 'ConvertedSalary']].head())"
   ]
  },
  {
   "cell_type": "code",
   "execution_count": 7,
   "id": "9b7699fe",
   "metadata": {},
   "outputs": [
    {
     "name": "stdout",
     "output_type": "stream",
     "text": [
      "  boundary_binned  ConvertedSalary\n",
      "0             NaN              NaN\n",
      "1          Medium          70841.0\n",
      "2             NaN              NaN\n",
      "3             Low          21426.0\n",
      "4             Low          41671.0\n"
     ]
    }
   ],
   "source": [
    "bins = [-np.inf, 10000, 50000, 100000, 150000, np.inf]\n",
    "\n",
    "labels = ['Very low', 'Low', 'Medium', 'High', 'Very high']\n",
    "\n",
    "df['boundary_binned'] = pd.cut(df['ConvertedSalary'], \n",
    "                                         bins=bins, labels=labels)\n",
    "\n",
    "print(df[['boundary_binned', 'ConvertedSalary']].head())"
   ]
  },
  {
   "cell_type": "markdown",
   "id": "1dde0869",
   "metadata": {},
   "source": [
    "## Dealing with messy data"
   ]
  },
  {
   "cell_type": "code",
   "execution_count": 17,
   "id": "3fd8bd93",
   "metadata": {},
   "outputs": [],
   "source": [
    "sub_df = df[[\"Age\", \"Gender\"]]"
   ]
  },
  {
   "cell_type": "code",
   "execution_count": 18,
   "id": "21ae72d1",
   "metadata": {},
   "outputs": [
    {
     "data": {
      "text/plain": [
       "Age       902\n",
       "Gender    618\n",
       "dtype: int64"
      ]
     },
     "execution_count": 18,
     "metadata": {},
     "output_type": "execute_result"
    }
   ],
   "source": [
    "sub_df.notnull().sum()"
   ]
  },
  {
   "cell_type": "code",
   "execution_count": 19,
   "id": "94452bc6",
   "metadata": {},
   "outputs": [
    {
     "data": {
      "text/plain": [
       "Age         0\n",
       "Gender    284\n",
       "dtype: int64"
      ]
     },
     "execution_count": 19,
     "metadata": {},
     "output_type": "execute_result"
    }
   ],
   "source": [
    "sub_df.isnull().sum()"
   ]
  },
  {
   "cell_type": "markdown",
   "id": "f8092b1e",
   "metadata": {},
   "source": [
    "### Listwise deletion"
   ]
  },
  {
   "cell_type": "code",
   "execution_count": 22,
   "id": "4b9e6e02",
   "metadata": {},
   "outputs": [
    {
     "data": {
      "text/plain": [
       "(902, 12)"
      ]
     },
     "execution_count": 22,
     "metadata": {},
     "output_type": "execute_result"
    }
   ],
   "source": [
    "df.shape"
   ]
  },
  {
   "cell_type": "code",
   "execution_count": 21,
   "id": "e4e66b93",
   "metadata": {},
   "outputs": [
    {
     "data": {
      "text/plain": [
       "(238, 12)"
      ]
     },
     "execution_count": 21,
     "metadata": {},
     "output_type": "execute_result"
    }
   ],
   "source": [
    "no_missing_values_rows = df.dropna()\n",
    "no_missing_values_rows.shape"
   ]
  },
  {
   "cell_type": "code",
   "execution_count": 23,
   "id": "1529c37e",
   "metadata": {},
   "outputs": [
    {
     "data": {
      "text/plain": [
       "(902, 8)"
      ]
     },
     "execution_count": 23,
     "metadata": {},
     "output_type": "execute_result"
    }
   ],
   "source": [
    "no_missing_values_cols = df.dropna(axis=1)\n",
    "no_missing_values_cols.shape"
   ]
  },
  {
   "cell_type": "code",
   "execution_count": null,
   "id": "120ddf3d",
   "metadata": {},
   "outputs": [],
   "source": [
    "no_gender = df.dropna(subset=[\"Gender\"], axis=0)\n",
    "no_gender.shape"
   ]
  },
  {
   "cell_type": "markdown",
   "id": "b229a8fb",
   "metadata": {},
   "source": [
    "### Replacing missing values with constants"
   ]
  },
  {
   "cell_type": "code",
   "execution_count": 25,
   "id": "9e9502af",
   "metadata": {},
   "outputs": [
    {
     "data": {
      "text/plain": [
       "Male                                                      564\n",
       "Female                                                     47\n",
       "Female;Male                                                 2\n",
       "Transgender                                                 2\n",
       "Male;Non-binary. genderqueer. or gender non-conforming      1\n",
       "Non-binary. genderqueer. or gender non-conforming           1\n",
       "Female;Transgender                                          1\n",
       "Name: Gender, dtype: int64"
      ]
     },
     "execution_count": 25,
     "metadata": {},
     "output_type": "execute_result"
    }
   ],
   "source": [
    "df[\"Gender\"].value_counts()"
   ]
  },
  {
   "cell_type": "code",
   "execution_count": 26,
   "id": "656ced32",
   "metadata": {},
   "outputs": [
    {
     "data": {
      "text/plain": [
       "Male                                                      564\n",
       "Not Given                                                 284\n",
       "Female                                                     47\n",
       "Female;Male                                                 2\n",
       "Transgender                                                 2\n",
       "Male;Non-binary. genderqueer. or gender non-conforming      1\n",
       "Non-binary. genderqueer. or gender non-conforming           1\n",
       "Female;Transgender                                          1\n",
       "Name: Gender, dtype: int64"
      ]
     },
     "execution_count": 26,
     "metadata": {},
     "output_type": "execute_result"
    }
   ],
   "source": [
    "df[\"Gender\"].fillna(value=\"Not Given\", inplace = True)\n",
    "df[\"Gender\"].value_counts()"
   ]
  },
  {
   "cell_type": "markdown",
   "id": "55016d53",
   "metadata": {},
   "source": [
    "### Filling continious missing values"
   ]
  },
  {
   "cell_type": "code",
   "execution_count": 28,
   "id": "959a663a",
   "metadata": {},
   "outputs": [
    {
     "data": {
      "text/plain": [
       "0    NaN\n",
       "1    7.0\n",
       "2    8.0\n",
       "3    NaN\n",
       "4    8.0\n",
       "Name: StackOverflowJobsRecommend, dtype: float64"
      ]
     },
     "execution_count": 28,
     "metadata": {},
     "output_type": "execute_result"
    }
   ],
   "source": [
    "df[\"StackOverflowJobsRecommend\"].head(5)"
   ]
  },
  {
   "cell_type": "code",
   "execution_count": 30,
   "id": "cee71a95",
   "metadata": {},
   "outputs": [
    {
     "data": {
      "text/plain": [
       "0    7.045558\n",
       "1    7.000000\n",
       "2    8.000000\n",
       "3    7.045558\n",
       "4    8.000000\n",
       "Name: StackOverflowJobsRecommend, dtype: float64"
      ]
     },
     "execution_count": 30,
     "metadata": {},
     "output_type": "execute_result"
    }
   ],
   "source": [
    "df[\"StackOverflowJobsRecommend\"].fillna(df[\"StackOverflowJobsRecommend\"].mean(), inplace=True)\n",
    "df[\"StackOverflowJobsRecommend\"].head(5)"
   ]
  },
  {
   "cell_type": "code",
   "execution_count": 32,
   "id": "d9b86f3b",
   "metadata": {},
   "outputs": [
    {
     "data": {
      "text/plain": [
       "0    7.0\n",
       "1    7.0\n",
       "2    8.0\n",
       "3    7.0\n",
       "4    8.0\n",
       "Name: StackOverflowJobsRecommend, dtype: float64"
      ]
     },
     "execution_count": 32,
     "metadata": {},
     "output_type": "execute_result"
    }
   ],
   "source": [
    "df[\"StackOverflowJobsRecommend\"] = round(df[\"StackOverflowJobsRecommend\"])\n",
    "df[\"StackOverflowJobsRecommend\"].head(5)"
   ]
  },
  {
   "cell_type": "markdown",
   "id": "404a9970",
   "metadata": {},
   "source": [
    "### Dealing with other data issues"
   ]
  },
  {
   "cell_type": "code",
   "execution_count": 38,
   "id": "7b041e84",
   "metadata": {},
   "outputs": [
    {
     "name": "stderr",
     "output_type": "stream",
     "text": [
      "C:\\Users\\admin\\AppData\\Local\\Temp\\ipykernel_9552\\358242868.py:2: FutureWarning: The default value of regex will change from True to False in a future version. In addition, single character regular expressions will *not* be treated as literal strings when regex=True.\n",
      "  df['RawSalary'] = df['RawSalary'].str.replace('$', '')\n"
     ]
    }
   ],
   "source": [
    "df['RawSalary'] = df['RawSalary'].str.replace(',', '')\n",
    "df['RawSalary'] = df['RawSalary'].str.replace('$', '')"
   ]
  },
  {
   "cell_type": "code",
   "execution_count": 46,
   "id": "0a0e2255",
   "metadata": {},
   "outputs": [
    {
     "data": {
      "text/plain": [
       "0     NaN\n",
       "2     NaN\n",
       "6     NaN\n",
       "8     NaN\n",
       "11    NaN\n",
       "       ..\n",
       "989   NaN\n",
       "990   NaN\n",
       "992   NaN\n",
       "994   NaN\n",
       "997   NaN\n",
       "Name: RawSalary, Length: 306, dtype: float64"
      ]
     },
     "execution_count": 46,
     "metadata": {},
     "output_type": "execute_result"
    }
   ],
   "source": [
    "numeric_vals = pd.to_numeric(df['RawSalary'], errors='coerce')\n",
    "\n",
    "idx = numeric_vals.isna()\n",
    "\n",
    "df.loc[idx, \"RawSalary\"] # df[\"RawSalary\"][idx]"
   ]
  },
  {
   "cell_type": "code",
   "execution_count": 47,
   "id": "38687f09",
   "metadata": {},
   "outputs": [
    {
     "data": {
      "text/plain": [
       "0          NaN\n",
       "1      70841.0\n",
       "2          NaN\n",
       "3      21426.0\n",
       "4      41671.0\n",
       "        ...   \n",
       "993    30000.0\n",
       "994        NaN\n",
       "995    58746.0\n",
       "996    55000.0\n",
       "997        NaN\n",
       "Name: RawSalary, Length: 902, dtype: float64"
      ]
     },
     "execution_count": 47,
     "metadata": {},
     "output_type": "execute_result"
    }
   ],
   "source": [
    "df[\"RawSalary\"]"
   ]
  },
  {
   "cell_type": "code",
   "execution_count": 40,
   "id": "9af3612b",
   "metadata": {},
   "outputs": [
    {
     "data": {
      "text/plain": [
       "0          NaN\n",
       "1      70841.0\n",
       "2          NaN\n",
       "3      21426.0\n",
       "4      41671.0\n",
       "        ...   \n",
       "993    30000.0\n",
       "994        NaN\n",
       "995    58746.0\n",
       "996    55000.0\n",
       "997        NaN\n",
       "Name: RawSalary, Length: 902, dtype: float64"
      ]
     },
     "execution_count": 40,
     "metadata": {},
     "output_type": "execute_result"
    }
   ],
   "source": [
    "df['RawSalary'] = df['RawSalary'].str.replace(\"£\", \"\")\n",
    "\n",
    "df['RawSalary'] = df['RawSalary'].astype(\"float\")\n",
    "\n",
    "df['RawSalary']"
   ]
  },
  {
   "cell_type": "markdown",
   "id": "1f698e0e",
   "metadata": {},
   "source": [
    "## Conforming to Statistical Assumptions"
   ]
  },
  {
   "cell_type": "markdown",
   "id": "0dc967ef",
   "metadata": {},
   "source": [
    "### Data Distributions"
   ]
  },
  {
   "cell_type": "code",
   "execution_count": 49,
   "id": "bb8003ba",
   "metadata": {},
   "outputs": [
    {
     "data": {
      "image/png": "[encoded data removed]",
      "text/plain": [
       "<Figure size 432x288 with 6 Axes>"
      ]
     },
     "metadata": {
      "needs_background": "light"
     },
     "output_type": "display_data"
    }
   ],
   "source": [
    "df.hist()\n",
    "plt.show()"
   ]
  },
  {
   "cell_type": "code",
   "execution_count": 50,
   "id": "98c8bd0a",
   "metadata": {
    "scrolled": true
   },
   "outputs": [
    {
     "data": {
      "image/png": "[encoded data removed]",
      "text/plain": [
       "<Figure size 432x288 with 1 Axes>"
      ]
     },
     "metadata": {
      "needs_background": "light"
     },
     "output_type": "display_data"
    }
   ],
   "source": [
    "df[[\"Age\", \"Years Experience\"]].boxplot()\n",
    "plt.show()"
   ]
  },
  {
   "cell_type": "code",
   "execution_count": 51,
   "id": "a6d5e858",
   "metadata": {},
   "outputs": [
    {
     "data": {
      "image/png": "[encoded data removed]",
      "text/plain": [
       "<Figure size 432x288 with 1 Axes>"
      ]
     },
     "metadata": {
      "needs_background": "light"
     },
     "output_type": "display_data"
    }
   ],
   "source": [
    "df[[\"ConvertedSalary\"]].boxplot()\n",
    "plt.show()"
   ]
  },
  {
   "cell_type": "code",
   "execution_count": 53,
   "id": "2b8ba32a",
   "metadata": {},
   "outputs": [
    {
     "data": {
      "image/png": "[encoded data removed]",
      "text/plain": [
       "<Figure size 1080x1080 with 42 Axes>"
      ]
     },
     "metadata": {
      "needs_background": "light"
     },
     "output_type": "display_data"
    }
   ],
   "source": [
    "sns.pairplot(df)\n",
    "plt.show()"
   ]
  },
  {
   "cell_type": "code",
   "execution_count": 54,
   "id": "5086fadc",
   "metadata": {},
   "outputs": [
    {
     "data": {
      "text/html": [
       "<div>\n",
       "<style scoped>\n",
       "    .dataframe tbody tr th:only-of-type {\n",
       "        vertical-align: middle;\n",
       "    }\n",
       "\n",
       "    .dataframe tbody tr th {\n",
       "        vertical-align: top;\n",
       "    }\n",
       "\n",
       "    .dataframe thead th {\n",
       "        text-align: right;\n",
       "    }\n",
       "</style>\n",
       "<table border=\"1\" class=\"dataframe\">\n",
       "  <thead>\n",
       "    <tr style=\"text-align: right;\">\n",
       "      <th></th>\n",
       "      <th>ConvertedSalary</th>\n",
       "      <th>StackOverflowJobsRecommend</th>\n",
       "      <th>Age</th>\n",
       "      <th>Years Experience</th>\n",
       "      <th>RawSalary</th>\n",
       "      <th>Paid_Job</th>\n",
       "    </tr>\n",
       "  </thead>\n",
       "  <tbody>\n",
       "    <tr>\n",
       "      <th>count</th>\n",
       "      <td>5.960000e+02</td>\n",
       "      <td>902.000000</td>\n",
       "      <td>902.000000</td>\n",
       "      <td>902.000000</td>\n",
       "      <td>5.960000e+02</td>\n",
       "      <td>902.000000</td>\n",
       "    </tr>\n",
       "    <tr>\n",
       "      <th>mean</th>\n",
       "      <td>8.589639e+04</td>\n",
       "      <td>7.022173</td>\n",
       "      <td>36.032151</td>\n",
       "      <td>9.905765</td>\n",
       "      <td>8.589639e+04</td>\n",
       "      <td>0.658537</td>\n",
       "    </tr>\n",
       "    <tr>\n",
       "      <th>std</th>\n",
       "      <td>1.849308e+05</td>\n",
       "      <td>1.823377</td>\n",
       "      <td>13.196713</td>\n",
       "      <td>4.872969</td>\n",
       "      <td>1.849308e+05</td>\n",
       "      <td>0.474464</td>\n",
       "    </tr>\n",
       "    <tr>\n",
       "      <th>min</th>\n",
       "      <td>0.000000e+00</td>\n",
       "      <td>0.000000</td>\n",
       "      <td>18.000000</td>\n",
       "      <td>0.000000</td>\n",
       "      <td>0.000000e+00</td>\n",
       "      <td>0.000000</td>\n",
       "    </tr>\n",
       "    <tr>\n",
       "      <th>25%</th>\n",
       "      <td>2.530200e+04</td>\n",
       "      <td>7.000000</td>\n",
       "      <td>25.000000</td>\n",
       "      <td>7.000000</td>\n",
       "      <td>2.530200e+04</td>\n",
       "      <td>0.000000</td>\n",
       "    </tr>\n",
       "    <tr>\n",
       "      <th>50%</th>\n",
       "      <td>5.357200e+04</td>\n",
       "      <td>7.000000</td>\n",
       "      <td>35.000000</td>\n",
       "      <td>10.000000</td>\n",
       "      <td>5.357200e+04</td>\n",
       "      <td>1.000000</td>\n",
       "    </tr>\n",
       "    <tr>\n",
       "      <th>75%</th>\n",
       "      <td>8.634000e+04</td>\n",
       "      <td>7.000000</td>\n",
       "      <td>45.000000</td>\n",
       "      <td>13.000000</td>\n",
       "      <td>8.634000e+04</td>\n",
       "      <td>1.000000</td>\n",
       "    </tr>\n",
       "    <tr>\n",
       "      <th>max</th>\n",
       "      <td>2.000000e+06</td>\n",
       "      <td>10.000000</td>\n",
       "      <td>83.000000</td>\n",
       "      <td>27.000000</td>\n",
       "      <td>2.000000e+06</td>\n",
       "      <td>1.000000</td>\n",
       "    </tr>\n",
       "  </tbody>\n",
       "</table>\n",
       "</div>"
      ],
      "text/plain": [
       "       ConvertedSalary  StackOverflowJobsRecommend         Age  \\\n",
       "count     5.960000e+02                  902.000000  902.000000   \n",
       "mean      8.589639e+04                    7.022173   36.032151   \n",
       "std       1.849308e+05                    1.823377   13.196713   \n",
       "min       0.000000e+00                    0.000000   18.000000   \n",
       "25%       2.530200e+04                    7.000000   25.000000   \n",
       "50%       5.357200e+04                    7.000000   35.000000   \n",
       "75%       8.634000e+04                    7.000000   45.000000   \n",
       "max       2.000000e+06                   10.000000   83.000000   \n",
       "\n",
       "       Years Experience     RawSalary    Paid_Job  \n",
       "count        902.000000  5.960000e+02  902.000000  \n",
       "mean           9.905765  8.589639e+04    0.658537  \n",
       "std            4.872969  1.849308e+05    0.474464  \n",
       "min            0.000000  0.000000e+00    0.000000  \n",
       "25%            7.000000  2.530200e+04    0.000000  \n",
       "50%           10.000000  5.357200e+04    1.000000  \n",
       "75%           13.000000  8.634000e+04    1.000000  \n",
       "max           27.000000  2.000000e+06    1.000000  "
      ]
     },
     "execution_count": 54,
     "metadata": {},
     "output_type": "execute_result"
    }
   ],
   "source": [
    "df.describe()"
   ]
  },
  {
   "cell_type": "markdown",
   "id": "e746689e",
   "metadata": {},
   "source": [
    "### Scaling and transformations"
   ]
  },
  {
   "cell_type": "markdown",
   "id": "df56adb2",
   "metadata": {},
   "source": [
    "1. **Normalization** : scale values between upper and lower bound"
   ]
  },
  {
   "cell_type": "code",
   "execution_count": 59,
   "id": "2e8ff227",
   "metadata": {},
   "outputs": [
    {
     "data": {
      "text/html": [
       "<div>\n",
       "<style scoped>\n",
       "    .dataframe tbody tr th:only-of-type {\n",
       "        vertical-align: middle;\n",
       "    }\n",
       "\n",
       "    .dataframe tbody tr th {\n",
       "        vertical-align: top;\n",
       "    }\n",
       "\n",
       "    .dataframe thead th {\n",
       "        text-align: right;\n",
       "    }\n",
       "</style>\n",
       "<table border=\"1\" class=\"dataframe\">\n",
       "  <thead>\n",
       "    <tr style=\"text-align: right;\">\n",
       "      <th></th>\n",
       "      <th>Age_MM</th>\n",
       "      <th>Age</th>\n",
       "    </tr>\n",
       "  </thead>\n",
       "  <tbody>\n",
       "    <tr>\n",
       "      <th>0</th>\n",
       "      <td>0.046154</td>\n",
       "      <td>21</td>\n",
       "    </tr>\n",
       "    <tr>\n",
       "      <th>1</th>\n",
       "      <td>0.307692</td>\n",
       "      <td>38</td>\n",
       "    </tr>\n",
       "    <tr>\n",
       "      <th>2</th>\n",
       "      <td>0.415385</td>\n",
       "      <td>45</td>\n",
       "    </tr>\n",
       "    <tr>\n",
       "      <th>3</th>\n",
       "      <td>0.430769</td>\n",
       "      <td>46</td>\n",
       "    </tr>\n",
       "    <tr>\n",
       "      <th>4</th>\n",
       "      <td>0.323077</td>\n",
       "      <td>39</td>\n",
       "    </tr>\n",
       "    <tr>\n",
       "      <th>...</th>\n",
       "      <td>...</td>\n",
       "      <td>...</td>\n",
       "    </tr>\n",
       "    <tr>\n",
       "      <th>993</th>\n",
       "      <td>0.153846</td>\n",
       "      <td>28</td>\n",
       "    </tr>\n",
       "    <tr>\n",
       "      <th>994</th>\n",
       "      <td>0.415385</td>\n",
       "      <td>45</td>\n",
       "    </tr>\n",
       "    <tr>\n",
       "      <th>995</th>\n",
       "      <td>0.138462</td>\n",
       "      <td>27</td>\n",
       "    </tr>\n",
       "    <tr>\n",
       "      <th>996</th>\n",
       "      <td>0.553846</td>\n",
       "      <td>54</td>\n",
       "    </tr>\n",
       "    <tr>\n",
       "      <th>997</th>\n",
       "      <td>0.076923</td>\n",
       "      <td>23</td>\n",
       "    </tr>\n",
       "  </tbody>\n",
       "</table>\n",
       "<p>902 rows × 2 columns</p>\n",
       "</div>"
      ],
      "text/plain": [
       "       Age_MM  Age\n",
       "0    0.046154   21\n",
       "1    0.307692   38\n",
       "2    0.415385   45\n",
       "3    0.430769   46\n",
       "4    0.323077   39\n",
       "..        ...  ...\n",
       "993  0.153846   28\n",
       "994  0.415385   45\n",
       "995  0.138462   27\n",
       "996  0.553846   54\n",
       "997  0.076923   23\n",
       "\n",
       "[902 rows x 2 columns]"
      ]
     },
     "execution_count": 59,
     "metadata": {},
     "output_type": "execute_result"
    }
   ],
   "source": [
    "MM_scaler = MinMaxScaler()\n",
    "MM_scaler.fit(df[[\"Age\"]])\n",
    "df[\"Age_MM\"] = MM_scaler.transform(df[[\"Age\"]])\n",
    "df[[\"Age_MM\", \"Age\"]]"
   ]
  },
  {
   "cell_type": "markdown",
   "id": "c97461be",
   "metadata": {},
   "source": [
    "2. **Standartization**: center data around the mean and calculate the number of std each data point is far away from the mean (useful when even one of the columns is affected by outliers)"
   ]
  },
  {
   "cell_type": "code",
   "execution_count": 62,
   "id": "f8cfaed1",
   "metadata": {},
   "outputs": [
    {
     "data": {
      "text/html": [
       "<div>\n",
       "<style scoped>\n",
       "    .dataframe tbody tr th:only-of-type {\n",
       "        vertical-align: middle;\n",
       "    }\n",
       "\n",
       "    .dataframe tbody tr th {\n",
       "        vertical-align: top;\n",
       "    }\n",
       "\n",
       "    .dataframe thead th {\n",
       "        text-align: right;\n",
       "    }\n",
       "</style>\n",
       "<table border=\"1\" class=\"dataframe\">\n",
       "  <thead>\n",
       "    <tr style=\"text-align: right;\">\n",
       "      <th></th>\n",
       "      <th>Age_SS</th>\n",
       "      <th>Age</th>\n",
       "    </tr>\n",
       "  </thead>\n",
       "  <tbody>\n",
       "    <tr>\n",
       "      <th>0</th>\n",
       "      <td>-1.139715</td>\n",
       "      <td>21</td>\n",
       "    </tr>\n",
       "    <tr>\n",
       "      <th>1</th>\n",
       "      <td>0.149199</td>\n",
       "      <td>38</td>\n",
       "    </tr>\n",
       "    <tr>\n",
       "      <th>2</th>\n",
       "      <td>0.679929</td>\n",
       "      <td>45</td>\n",
       "    </tr>\n",
       "    <tr>\n",
       "      <th>3</th>\n",
       "      <td>0.755747</td>\n",
       "      <td>46</td>\n",
       "    </tr>\n",
       "    <tr>\n",
       "      <th>4</th>\n",
       "      <td>0.225018</td>\n",
       "      <td>39</td>\n",
       "    </tr>\n",
       "    <tr>\n",
       "      <th>...</th>\n",
       "      <td>...</td>\n",
       "      <td>...</td>\n",
       "    </tr>\n",
       "    <tr>\n",
       "      <th>993</th>\n",
       "      <td>-0.608985</td>\n",
       "      <td>28</td>\n",
       "    </tr>\n",
       "    <tr>\n",
       "      <th>994</th>\n",
       "      <td>0.679929</td>\n",
       "      <td>45</td>\n",
       "    </tr>\n",
       "    <tr>\n",
       "      <th>995</th>\n",
       "      <td>-0.684804</td>\n",
       "      <td>27</td>\n",
       "    </tr>\n",
       "    <tr>\n",
       "      <th>996</th>\n",
       "      <td>1.362295</td>\n",
       "      <td>54</td>\n",
       "    </tr>\n",
       "    <tr>\n",
       "      <th>997</th>\n",
       "      <td>-0.988078</td>\n",
       "      <td>23</td>\n",
       "    </tr>\n",
       "  </tbody>\n",
       "</table>\n",
       "<p>902 rows × 2 columns</p>\n",
       "</div>"
      ],
      "text/plain": [
       "       Age_SS  Age\n",
       "0   -1.139715   21\n",
       "1    0.149199   38\n",
       "2    0.679929   45\n",
       "3    0.755747   46\n",
       "4    0.225018   39\n",
       "..        ...  ...\n",
       "993 -0.608985   28\n",
       "994  0.679929   45\n",
       "995 -0.684804   27\n",
       "996  1.362295   54\n",
       "997 -0.988078   23\n",
       "\n",
       "[902 rows x 2 columns]"
      ]
     },
     "execution_count": 62,
     "metadata": {},
     "output_type": "execute_result"
    }
   ],
   "source": [
    "SS_scaler = StandardScaler()\n",
    "SS_scaler.fit(df[[\"Age\"]])\n",
    "df[\"Age_SS\"] = SS_scaler.transform(df[[\"Age\"]])\n",
    "df[[\"Age_SS\", \"Age\"]]"
   ]
  },
  {
   "cell_type": "markdown",
   "id": "774ae66f",
   "metadata": {},
   "source": [
    "3. **Log Transformation**: prevous techniques are useful when data is (closely) normally distributed. Log Transformation is a goood choice when most of the data is centered around low values but also contains larger ones"
   ]
  },
  {
   "cell_type": "code",
   "execution_count": 65,
   "id": "6f65a491",
   "metadata": {},
   "outputs": [
    {
     "data": {
      "image/png": "[encoded data removed]",
      "text/plain": [
       "<Figure size 432x288 with 2 Axes>"
      ]
     },
     "metadata": {
      "needs_background": "light"
     },
     "output_type": "display_data"
    }
   ],
   "source": [
    "pow_trans = PowerTransformer()\n",
    "pow_trans.fit(df[[\"ConvertedSalary\"]])\n",
    "df[\"ConvertedSalary_LG\"] = pow_trans.transform(df[[\"ConvertedSalary\"]])\n",
    "df[[\"ConvertedSalary_LG\", \"ConvertedSalary\"]].hist()\n",
    "plt.show()"
   ]
  },
  {
   "cell_type": "markdown",
   "id": "0e248589",
   "metadata": {},
   "source": [
    "4. **Removing outliers**\n",
    "- remove certain percantage of the highest/lowest value (calc percentile). It will remove N percents of the data even if there is no outliers\n",
    "- remove data point that are higher/lower than 3std"
   ]
  },
  {
   "cell_type": "code",
   "execution_count": 68,
   "id": "4abf83ee",
   "metadata": {},
   "outputs": [
    {
     "data": {
      "image/png": "[encoded data removed]",
      "text/plain": [
       "<Figure size 432x288 with 1 Axes>"
      ]
     },
     "metadata": {
      "needs_background": "light"
     },
     "output_type": "display_data"
    },
    {
     "data": {
      "text/plain": [
       "<Figure size 432x288 with 0 Axes>"
      ]
     },
     "metadata": {},
     "output_type": "display_data"
    },
    {
     "data": {
      "image/png": "[encoded data removed]",
      "text/plain": [
       "<Figure size 432x288 with 1 Axes>"
      ]
     },
     "metadata": {
      "needs_background": "light"
     },
     "output_type": "display_data"
    }
   ],
   "source": [
    "quantile = df[\"ConvertedSalary\"].quantile(0.95)\n",
    "trimmed_df = df[df[\"ConvertedSalary\"] < quantile]\n",
    "df[[\"ConvertedSalary\"]].hist()\n",
    "plt.show()\n",
    "plt.clf()\n",
    "\n",
    "trimmed_df[[\"ConvertedSalary\"]].hist()\n",
    "plt.show()"
   ]
  },
  {
   "cell_type": "code",
   "execution_count": 69,
   "id": "b348cc8e",
   "metadata": {},
   "outputs": [
    {
     "data": {
      "image/png": "[encoded data removed]",
      "text/plain": [
       "<Figure size 432x288 with 1 Axes>"
      ]
     },
     "metadata": {
      "needs_background": "light"
     },
     "output_type": "display_data"
    }
   ],
   "source": [
    "std = df[\"ConvertedSalary\"].std()\n",
    "mean = df[\"ConvertedSalary\"].mean()\n",
    "\n",
    "cut_off = mean * 3\n",
    "lower, upper = mean - cut_off, mean + cut_off\n",
    "trimmed_df = df[(df[\"ConvertedSalary\"] > lower) & df[\"ConvertedSalary\"] < upper]\n",
    "trimmed_df[[\"ConvertedSalary\"]].boxplot()\n",
    "plt.show()"
   ]
  },
  {
   "cell_type": "markdown",
   "id": "fc7682ae",
   "metadata": {},
   "source": [
    "### Train and Testing transformations"
   ]
  },
  {
   "cell_type": "code",
   "execution_count": 71,
   "id": "d5da42e4",
   "metadata": {},
   "outputs": [],
   "source": [
    "df_train, df_test = train_test_split(df, test_size=0.2, random_state=42)"
   ]
  },
  {
   "cell_type": "code",
   "execution_count": 72,
   "id": "89fb3805",
   "metadata": {},
   "outputs": [
    {
     "data": {
      "text/html": [
       "<div>\n",
       "<style scoped>\n",
       "    .dataframe tbody tr th:only-of-type {\n",
       "        vertical-align: middle;\n",
       "    }\n",
       "\n",
       "    .dataframe tbody tr th {\n",
       "        vertical-align: top;\n",
       "    }\n",
       "\n",
       "    .dataframe thead th {\n",
       "        text-align: right;\n",
       "    }\n",
       "</style>\n",
       "<table border=\"1\" class=\"dataframe\">\n",
       "  <thead>\n",
       "    <tr style=\"text-align: right;\">\n",
       "      <th></th>\n",
       "      <th>Age_SS</th>\n",
       "      <th>Age</th>\n",
       "    </tr>\n",
       "  </thead>\n",
       "  <tbody>\n",
       "    <tr>\n",
       "      <th>11</th>\n",
       "      <td>0.301565</td>\n",
       "      <td>42</td>\n",
       "    </tr>\n",
       "    <tr>\n",
       "      <th>416</th>\n",
       "      <td>0.141965</td>\n",
       "      <td>40</td>\n",
       "    </tr>\n",
       "    <tr>\n",
       "      <th>275</th>\n",
       "      <td>-1.454036</td>\n",
       "      <td>20</td>\n",
       "    </tr>\n",
       "    <tr>\n",
       "      <th>429</th>\n",
       "      <td>-0.257035</td>\n",
       "      <td>35</td>\n",
       "    </tr>\n",
       "    <tr>\n",
       "      <th>480</th>\n",
       "      <td>-0.815636</td>\n",
       "      <td>28</td>\n",
       "    </tr>\n",
       "    <tr>\n",
       "      <th>...</th>\n",
       "      <td>...</td>\n",
       "      <td>...</td>\n",
       "    </tr>\n",
       "    <tr>\n",
       "      <th>120</th>\n",
       "      <td>0.381365</td>\n",
       "      <td>43</td>\n",
       "    </tr>\n",
       "    <tr>\n",
       "      <th>300</th>\n",
       "      <td>-0.336836</td>\n",
       "      <td>34</td>\n",
       "    </tr>\n",
       "    <tr>\n",
       "      <th>950</th>\n",
       "      <td>1.099565</td>\n",
       "      <td>52</td>\n",
       "    </tr>\n",
       "    <tr>\n",
       "      <th>482</th>\n",
       "      <td>-0.735836</td>\n",
       "      <td>29</td>\n",
       "    </tr>\n",
       "    <tr>\n",
       "      <th>115</th>\n",
       "      <td>-0.975236</td>\n",
       "      <td>26</td>\n",
       "    </tr>\n",
       "  </tbody>\n",
       "</table>\n",
       "<p>721 rows × 2 columns</p>\n",
       "</div>"
      ],
      "text/plain": [
       "       Age_SS  Age\n",
       "11   0.301565   42\n",
       "416  0.141965   40\n",
       "275 -1.454036   20\n",
       "429 -0.257035   35\n",
       "480 -0.815636   28\n",
       "..        ...  ...\n",
       "120  0.381365   43\n",
       "300 -0.336836   34\n",
       "950  1.099565   52\n",
       "482 -0.735836   29\n",
       "115 -0.975236   26\n",
       "\n",
       "[721 rows x 2 columns]"
      ]
     },
     "execution_count": 72,
     "metadata": {},
     "output_type": "execute_result"
    }
   ],
   "source": [
    "SS_scaler.fit(df_train[[\"Age\"]])\n",
    "df_test[\"Age_SS\"] = SS_scaler.transform(df_test[[\"Age\"]])\n",
    "df_test[[\"Age_SS\", \"Age\"]]"
   ]
  },
  {
   "cell_type": "code",
   "execution_count": null,
   "id": "d85f3276",
   "metadata": {},
   "outputs": [],
   "source": [
    "train_std = df_train['ConvertedSalary'].std()\n",
    "train_mean = df_test['ConvertedSalary'].mean()\n",
    "\n",
    "cut_off = train_std * 3\n",
    "train_lower, train_upper = train_mean - cut_off, train_mean + cut_off\n",
    "\n",
    "# Trim the test DataFrame\n",
    "trimmed_df = df_test[(df_test['ConvertedSalary'] < train_upper) \\\n",
    "                             & (df_test['ConvertedSalary'] > train_lower)]"
   ]
  },
  {
   "cell_type": "markdown",
   "id": "baf705e5",
   "metadata": {},
   "source": [
    "## Dealing with text data"
   ]
  },
  {
   "cell_type": "code",
   "execution_count": 75,
   "id": "e8a45bc7",
   "metadata": {},
   "outputs": [],
   "source": [
    "speech_df = pd.read_csv(\"inaugural_speeches.csv\")"
   ]
  },
  {
   "cell_type": "markdown",
   "id": "b9689939",
   "metadata": {},
   "source": [
    "### Encoding text"
   ]
  },
  {
   "cell_type": "code",
   "execution_count": 77,
   "id": "497c361c",
   "metadata": {},
   "outputs": [
    {
     "data": {
      "text/plain": [
       "0    Fellow-Citizens of the Senate and of the House...\n",
       "1    Fellow Citizens:  I AM again called upon by th...\n",
       "2    WHEN it was first perceived, in early times, t...\n",
       "3    Friends and Fellow-Citizens:  CALLED upon to u...\n",
       "4    PROCEEDING, fellow-citizens, to that qualifica...\n",
       "Name: text, dtype: object"
      ]
     },
     "execution_count": 77,
     "metadata": {},
     "output_type": "execute_result"
    }
   ],
   "source": [
    "speech_df[\"text\"].head(5)"
   ]
  },
  {
   "cell_type": "code",
   "execution_count": 80,
   "id": "4718efab",
   "metadata": {},
   "outputs": [
    {
     "name": "stderr",
     "output_type": "stream",
     "text": [
      "C:\\Users\\admin\\AppData\\Local\\Temp\\ipykernel_9552\\2221067115.py:1: FutureWarning: The default value of regex will change from True to False in a future version.\n",
      "  speech_df['text_clean'] = speech_df['text'].str.replace('[^a-zA-Z]', ' ')\n"
     ]
    },
    {
     "data": {
      "text/plain": [
       "0    fellow citizens of the senate and of the house...\n",
       "1    fellow citizens   i am again called upon by th...\n",
       "2    when it was first perceived  in early times  t...\n",
       "3    friends and fellow citizens   called upon to u...\n",
       "4    proceeding  fellow citizens  to that qualifica...\n",
       "Name: text_clean, dtype: object"
      ]
     },
     "execution_count": 80,
     "metadata": {},
     "output_type": "execute_result"
    }
   ],
   "source": [
    "speech_df['text_clean'] = speech_df['text'].str.replace('[^a-zA-Z]', ' ')\n",
    "\n",
    "speech_df['text_clean'] = speech_df['text_clean'].str.lower()\n",
    "\n",
    "speech_df['text_clean'].head()"
   ]
  },
  {
   "cell_type": "code",
   "execution_count": 81,
   "id": "4b47d738",
   "metadata": {},
   "outputs": [
    {
     "data": {
      "text/html": [
       "<div>\n",
       "<style scoped>\n",
       "    .dataframe tbody tr th:only-of-type {\n",
       "        vertical-align: middle;\n",
       "    }\n",
       "\n",
       "    .dataframe tbody tr th {\n",
       "        vertical-align: top;\n",
       "    }\n",
       "\n",
       "    .dataframe thead th {\n",
       "        text-align: right;\n",
       "    }\n",
       "</style>\n",
       "<table border=\"1\" class=\"dataframe\">\n",
       "  <thead>\n",
       "    <tr style=\"text-align: right;\">\n",
       "      <th></th>\n",
       "      <th>text_clean</th>\n",
       "      <th>char_cnt</th>\n",
       "      <th>word_cnt</th>\n",
       "      <th>avg_word_length</th>\n",
       "    </tr>\n",
       "  </thead>\n",
       "  <tbody>\n",
       "    <tr>\n",
       "      <th>0</th>\n",
       "      <td>fellow citizens of the senate and of the house...</td>\n",
       "      <td>8616</td>\n",
       "      <td>1432</td>\n",
       "      <td>6.016760</td>\n",
       "    </tr>\n",
       "    <tr>\n",
       "      <th>1</th>\n",
       "      <td>fellow citizens   i am again called upon by th...</td>\n",
       "      <td>787</td>\n",
       "      <td>135</td>\n",
       "      <td>5.829630</td>\n",
       "    </tr>\n",
       "    <tr>\n",
       "      <th>2</th>\n",
       "      <td>when it was first perceived  in early times  t...</td>\n",
       "      <td>13871</td>\n",
       "      <td>2323</td>\n",
       "      <td>5.971158</td>\n",
       "    </tr>\n",
       "    <tr>\n",
       "      <th>3</th>\n",
       "      <td>friends and fellow citizens   called upon to u...</td>\n",
       "      <td>10144</td>\n",
       "      <td>1736</td>\n",
       "      <td>5.843318</td>\n",
       "    </tr>\n",
       "    <tr>\n",
       "      <th>4</th>\n",
       "      <td>proceeding  fellow citizens  to that qualifica...</td>\n",
       "      <td>12902</td>\n",
       "      <td>2169</td>\n",
       "      <td>5.948363</td>\n",
       "    </tr>\n",
       "    <tr>\n",
       "      <th>...</th>\n",
       "      <td>...</td>\n",
       "      <td>...</td>\n",
       "      <td>...</td>\n",
       "      <td>...</td>\n",
       "    </tr>\n",
       "    <tr>\n",
       "      <th>53</th>\n",
       "      <td>president clinton  distinguished guests and my...</td>\n",
       "      <td>9084</td>\n",
       "      <td>1606</td>\n",
       "      <td>5.656289</td>\n",
       "    </tr>\n",
       "    <tr>\n",
       "      <th>54</th>\n",
       "      <td>vice president cheney  mr  chief justice  pres...</td>\n",
       "      <td>12199</td>\n",
       "      <td>2122</td>\n",
       "      <td>5.748822</td>\n",
       "    </tr>\n",
       "    <tr>\n",
       "      <th>55</th>\n",
       "      <td>my fellow citizens     i stand here today humb...</td>\n",
       "      <td>13637</td>\n",
       "      <td>2452</td>\n",
       "      <td>5.561582</td>\n",
       "    </tr>\n",
       "    <tr>\n",
       "      <th>56</th>\n",
       "      <td>vice president biden  mr  chief justice  membe...</td>\n",
       "      <td>12174</td>\n",
       "      <td>2151</td>\n",
       "      <td>5.659693</td>\n",
       "    </tr>\n",
       "    <tr>\n",
       "      <th>57</th>\n",
       "      <td>chief justice roberts  president carter  presi...</td>\n",
       "      <td>8555</td>\n",
       "      <td>1488</td>\n",
       "      <td>5.749328</td>\n",
       "    </tr>\n",
       "  </tbody>\n",
       "</table>\n",
       "<p>58 rows × 4 columns</p>\n",
       "</div>"
      ],
      "text/plain": [
       "                                           text_clean  char_cnt  word_cnt  \\\n",
       "0   fellow citizens of the senate and of the house...      8616      1432   \n",
       "1   fellow citizens   i am again called upon by th...       787       135   \n",
       "2   when it was first perceived  in early times  t...     13871      2323   \n",
       "3   friends and fellow citizens   called upon to u...     10144      1736   \n",
       "4   proceeding  fellow citizens  to that qualifica...     12902      2169   \n",
       "..                                                ...       ...       ...   \n",
       "53  president clinton  distinguished guests and my...      9084      1606   \n",
       "54  vice president cheney  mr  chief justice  pres...     12199      2122   \n",
       "55  my fellow citizens     i stand here today humb...     13637      2452   \n",
       "56  vice president biden  mr  chief justice  membe...     12174      2151   \n",
       "57  chief justice roberts  president carter  presi...      8555      1488   \n",
       "\n",
       "    avg_word_length  \n",
       "0          6.016760  \n",
       "1          5.829630  \n",
       "2          5.971158  \n",
       "3          5.843318  \n",
       "4          5.948363  \n",
       "..              ...  \n",
       "53         5.656289  \n",
       "54         5.748822  \n",
       "55         5.561582  \n",
       "56         5.659693  \n",
       "57         5.749328  \n",
       "\n",
       "[58 rows x 4 columns]"
      ]
     },
     "execution_count": 81,
     "metadata": {},
     "output_type": "execute_result"
    }
   ],
   "source": [
    "speech_df['char_cnt'] = speech_df['text_clean'].str.len()\n",
    "\n",
    "speech_df['word_cnt'] = speech_df['text_clean'].str.split().str.len()\n",
    "\n",
    "speech_df['avg_word_length'] = speech_df['char_cnt'] / speech_df['word_cnt']\n",
    "\n",
    "speech_df[['text_clean', 'char_cnt', 'word_cnt', 'avg_word_length']]"
   ]
  },
  {
   "cell_type": "markdown",
   "id": "3061ac65",
   "metadata": {},
   "source": [
    "### Word Counts"
   ]
  },
  {
   "cell_type": "code",
   "execution_count": 82,
   "id": "5b1be4ec",
   "metadata": {},
   "outputs": [
    {
     "name": "stdout",
     "output_type": "stream",
     "text": [
      "['abandon', 'abandoned', 'abandonment', 'abate', 'abdicated', 'abeyance', 'abhorring', 'abide', 'abiding', 'abilities', 'ability', 'abject', 'able', 'ably', 'abnormal', 'abode', 'abolish', 'abolished', 'abolishing', 'aboriginal', 'aborigines', 'abound', 'abounding', 'abounds', 'about', 'above', 'abraham', 'abreast', 'abridging', 'abroad', 'absence', 'absent', 'absolute', 'absolutely', 'absolutism', 'absorb', 'absorbed', 'absorbing', 'absorbs', 'abstain', 'abstaining', 'abstract', 'abstractions', 'absurd', 'abundance', 'abundant', 'abundantly', 'abuse', 'abused', 'abuses', 'academies', 'accept', 'acceptance', 'accepted', 'accepting', 'accepts', 'access', 'accessible', 'accession', 'accident', 'accidental', 'accidents', 'acclaim', 'accommodation', 'accommodations', 'accompanied', 'accompany', 'accomplish', 'accomplished', 'accomplishing', 'accomplishment', 'accomplishments', 'accord', 'accordance', 'accorded', 'according', 'accordingly', 'accords', 'account', 'accountability', 'accountable', 'accounted', 'accrue', 'accrued', 'accruing', 'accumulate', 'accumulated', 'accumulation', 'accurately', 'accustom', 'achieve', 'achieved', 'achievement', 'achievements', 'achieving', 'acknowledge', 'acknowledged', 'acknowledging', 'acknowledgment', 'acquaintance', 'acquainted', 'acquiesce', 'acquiesced', 'acquiescence', 'acquire', 'acquired', 'acquires', 'acquiring', 'acquisition', 'acquisitions', 'acquit', 'acrimony', 'across', 'act', 'acted', 'acting', 'action', 'actions', 'active', 'actively', 'activism', 'activities', 'activity', 'acts', 'actual', 'actually', 'actuate', 'actuated', 'acute', 'adams', 'adapted', 'add', 'added', 'addiction', 'adding', 'addition', 'additional', 'additions', 'address', 'addressed', 'addresses', 'addressing', 'adds', 'adduced', 'adequate', 'adequately', 'adhere', 'adhered', 'adherence', 'adheres', 'adjective', 'adjunct', 'adjust', 'adjusted', 'adjusting', 'adjustment', 'adjustments', 'administer', 'administered', 'administering', 'administrated', 'administration', 'administrations', 'administrative', 'administrators', 'admirable', 'admirably', 'admiration', 'admission', 'admissions', 'admit', 'admitted', 'admitting', 'admonish', 'admonished', 'admonishes', 'admonition', 'admonitions', 'adopt', 'adopted', 'adopting', 'adoption', 'adore', 'adoring', 'adorn', 'adorns', 'advance', 'advanced', 'advancement', 'advances', 'advancing', 'advantage', 'advantageous', 'advantageously', 'advantages', 'adventure', 'adventurers', 'adventurously', 'adversaries', 'adversary', 'adverse', 'adverted', 'advice', 'advisable', 'advised', 'advisers', 'advisory', 'advocacy', 'advocate', 'advocated', 'advocates', 'aegis', 'affairs', 'affect', 'affected', 'affecting', 'affection', 'affectionate', 'affections', 'affiliation', 'affirm', 'affirmation', 'affirmations', 'affirmed', 'affirms', 'afflict', 'affliction', 'afford', 'afforded', 'affording', 'affords', 'afghanistan', 'afield', 'afloat', 'afraid', 'afresh', 'africa', 'african', 'after', 'aftermath', 'again', 'against', 'age', 'aged', 'agencies', 'agency', 'agent', 'agents', 'ages', 'aggrandizement', 'aggravated', 'aggravation', 'aggregate', 'aggregations', 'aggression', 'aggressive', 'aggressor', 'aggressors', 'agitate', 'agitated', 'agitating', 'agitation', 'agitations', 'ago', 'agonizing', 'agony', 'agree', 'agreeably', 'agreed', 'agreeing', 'agreement', 'agreements', 'agricultural', 'agriculture', 'agriculturists', 'ahead', 'aid', 'aided', 'aids', 'aim', 'aimed', 'aims', 'air', 'airports', 'alacrity', 'alamo', 'alarm', 'alarmed', 'alert', 'alien', 'alienate', 'alienated', 'aliens', 'alike', 'aliment', 'ality', 'alive', 'all', 'allayed', 'allegation', 'allegations', 'alleged', 'alleghanies', 'allegiance', 'alleviate', 'alliance', 'alliances', 'allies', 'allocating', 'allotted', 'allow', 'allowed', 'allowing', 'allows', 'allude', 'allured', 'alluring', 'allusion', 'ally', 'almighty', 'almost', 'alone', 'along', 'alongside', 'aloof', 'aloofness', 'already', 'also', 'altar', 'alter', 'alteration', 'altercation', 'altered', 'alternative', 'although', 'altogether', 'always', 'am', 'amalgamated', 'amass', 'ambassadors', 'ambiguity', 'ambition', 'ambitions', 'ambitious', 'ambush', 'amelia', 'amen', 'amendatory', 'amended', 'amending', 'amendment', 'amendments', 'america', 'american', 'americanism', 'americans', 'americas', 'amiable', 'amicable', 'amicably', 'amid', 'amidst', 'amity', 'amnesty', 'among', 'amongst', 'amount', 'amounts', 'ample', 'amply', 'an', 'anarchy', 'ancestors', 'anchor', 'ancient', 'and', 'andes', 'anew', 'angel', 'angels', 'anger', 'angry', 'anguish', 'anguished', 'animate', 'animated', 'animates', 'animating', 'animation', 'animosities', 'animosity', 'annals', 'annexation', 'annexed', 'annihilate', 'annihilation', 'anniversary', 'announce', 'announced', 'announces', 'annoyance', 'annual', 'annually', 'annul', 'another', 'answer', 'answerable', 'answered', 'antagonistic', 'anticipate', 'anticipated', 'anticipating', 'anticipation', 'anticipations', 'antifederal', 'anting', 'antipathies', 'antiphilosophists', 'antiquity', 'antirepublican', 'antitrust', 'ants', 'anxieties', 'anxiety', 'anxious', 'anxiously', 'any', 'anybody', 'anymore', 'anyone', 'anything', 'anywhere', 'apart', 'apathy', 'apollo', 'apologize', 'apology', 'appalachia', 'appalled', 'appalling', 'apparent', 'apparently', 'appeal', 'appealing', 'appeals', 'appear', 'appearance', 'appeared', 'appearing', 'appears', 'appeasement', 'appertain', 'applauded', 'applicable', 'applicants', 'application', 'applied', 'applies', 'apply', 'applying', 'appoint', 'appointed', 'appointee', 'appointees', 'appointing', 'appointment', 'appointments', 'appraisal', 'appraise', 'appreciate', 'appreciated', 'appreciating', 'appreciation', 'appreciative', 'apprehend', 'apprehension', 'apprehensions', 'apprehensive', 'apprised', 'approach', 'approached', 'approaches', 'approaching', 'approbation', 'appropriate', 'appropriately', 'appropriateness', 'appropriation', 'appropriations', 'approval', 'approve', 'approved', 'approving', 'approximate', 'approximated', 'april', 'apt', 'aqueducts', 'arbitrament', 'arbitrarily', 'arbitrary', 'arbitration', 'archibald', 'archipelago', 'ardent', 'ardor', 'arduous', 'are', 'area', 'areas', 'argonne', 'argue', 'argued', 'argument', 'arguments', 'arid', 'aright', 'arise', 'arisen', 'arises', 'arising', 'aristocracy', 'ark', 'arlington', 'arm', 'armament', 'armaments', 'armed', 'armies', 'arms', 'army', 'arose', 'around', 'arouse', 'arraignment', 'arrange', 'arrangement', 'arrangements', 'array', 'arrest', 'arrested', 'arresting', 'arrests', 'arrive', 'arrived', 'arrives', 'arriving', 'arrogance', 'arrogate', 'arsenal', 'arsenals', 'art', 'article', 'articles', 'articulated', 'artifice', 'artificial', 'artificially', 'artillery', 'artisans', 'artists', 'arts', 'as', 'ascendancy', 'ascended', 'ascendency', 'ascertain', 'ascertained', 'ascertaining', 'ascribe', 'ascribed', 'ashamed', 'asia', 'asiatic', 'aside', 'ask', 'asked', 'asking', 'asks', 'asleep', 'aspect', 'aspects', 'aspiration', 'aspirations', 'aspire', 'aspires', 'assail', 'assailed', 'assault', 'assemblage', 'assemble', 'assembled', 'assembly', 'assent', 'assert', 'asserted', 'assertion', 'assertions', 'asserts', 'assess', 'assessed', 'assessing', 'assign', 'assigned', 'assignment', 'assigns', 'assist', 'assistance', 'assisted', 'assisting', 'associate', 'associated', 'associates', 'association', 'associations', 'assuage', 'assuaged', 'assume', 'assumed', 'assumes', 'assuming', 'assumption', 'assurance', 'assurances', 'assure', 'assured', 'assuredly', 'assuring', 'astonishing', 'astounding', 'astray', 'astronauts', 'asunder', 'asylum', 'at', 'ate', 'athens', 'atlantic', 'atmosphere', 'atom', 'atone', 'atrocious', 'atrocity', 'attach', 'attached', 'attachment', 'attachments', 'attack', 'attacked', 'attacks', 'attain', 'attained', 'attaining', 'attainment', 'attainments', 'attempt', 'attempted', 'attempting', 'attempts', 'attend', 'attendant', 'attended', 'attending', 'attends', 'attention', 'attentive', 'attest', 'attitude', 'attitudes', 'attorneys', 'attractive', 'attributable', 'attributes', 'audacity', 'audience', 'aught', 'augment', 'augmentation', 'augmented', 'augments', 'auguring', 'august', 'auspices', 'auspicious', 'auspiciously', 'author', 'authoritative', 'authorities', 'authority', 'authorized', 'authorizes', 'authorizing', 'authors', 'autocracy', 'autocratic', 'autonomy', 'auxiliaries', 'auxiliary', 'avail', 'availability', 'available', 'availed', 'avenue', 'avenues', 'aver', 'avert', 'averted', 'averting', 'avoid', 'avoidance', 'avoided', 'avoiding', 'avow', 'avowal', 'avowed', 'avowing', 'await', 'awaited', 'awaiting', 'awaits', 'awake', 'awaken', 'awakened', 'awakens', 'awarded', 'aware', 'away', 'awesome', 'awful', 'ax', 'back', 'background', 'backgrounds', 'backs', 'backward', 'bacteria', 'bad', 'badge', 'badly', 'baffled', 'baggage', 'baker', 'balance', 'balanced', 'balances', 'balancing', 'balk', 'ballot', 'baltimore', 'band', 'bane', 'baneful', 'banished', 'banishment', 'bank', 'banking', 'bankrupt', 'banks', 'banner', 'baptism', 'bar', 'barbarian', 'barbarians', 'barbarism', 'barbary', 'barber', 'bare', 'barely', 'bargain', 'barriers', 'barter', 'bartered', 'base', 'based', 'basic', 'basis', 'bastion', 'batavian', 'battalion', 'battalions', 'battle', 'battlefield', 'battlefields', 'battles', 'bay', 'bays', 'be', 'beach', 'beachhead', 'beacon', 'bear', 'bearing', 'bearings', 'bears', 'beaten', 'beating', 'beautiful', 'beauty', 'became', 'because', 'beckon', 'beckons', 'becloud', 'become', 'becomes', 'becoming', 'bedrock', 'been', 'befit', 'befits', 'befitting', 'befo', 'before', 'beg', 'began', 'begets', 'begin', 'beginning', 'beginnings', 'begins', 'begun', 'behalf', 'behave', 'behind', 'behold', 'beholds', 'behooves', 'being', 'belaboring', 'belied', 'belief', 'beliefs', 'beliefunder', 'believe', 'believed', 'believers', 'believes', 'believing', 'bell', 'belleau', 'belligerent', 'belong', 'belonged', 'belonging', 'belongs', 'belove', 'beloved', 'below', 'bend', 'beneath', 'benediction', 'benedictions', 'benefactors', 'beneficence', 'beneficent', 'beneficial', 'benefit', 'benefited', 'benefiting', 'benefits', 'benevolence', 'benevolent', 'benign', 'bequeathed', 'bernardin', 'beseech', 'beseeching', 'beseems', 'beset', 'besides', 'best', 'bestow', 'bestowal', 'bestowed', 'betray', 'betrays', 'better', 'between', 'beware', 'bewildered', 'beyon', 'beyond', 'bible', 'bicentennial', 'bicker', 'bickering', 'bidding', 'biden', 'big', 'bigger', 'bigoted', 'bigotry', 'bill', 'billion', 'billions', 'billows', 'bills', 'bimetallism', 'bind', 'binding', 'binds', 'biological', 'bipartisanship', 'birth', 'birthday', 'birthright', 'bitter', 'bitterness', 'black', 'blame', 'blast', 'blaze', 'blazed', 'bleak', 'bleakest', 'bled', 'bleed', 'blend', 'blended', 'bless', 'blessed', 'blessing', 'blessings', 'blight', 'blind', 'blinded', 'blindly', 'bloated', 'blood', 'bloodiest', 'bloodshed', 'bloody', 'blot', 'blotches', 'blow', 'blowing', 'blown', 'blows', 'blue', 'blueprint', 'board', 'boast', 'boasted', 'boastfulness', 'boat', 'bodies', 'bodily', 'body', 'bold', 'boldest', 'boldly', 'boldness', 'bombastic', 'bona', 'bond', 'bondage', 'bonds', 'bondsman', 'book', 'border', 'bordering', 'borders', 'bore', 'born', 'borne', 'borrowed', 'borrowing', 'bosom', 'bosoms', 'boston', 'both', 'bottoms', 'bound', 'boundaries', 'boundary', 'bounded', 'boundless', 'bounds', 'bounteous', 'bounties', 'bountiful', 'bounty', 'bow', 'box', 'boy', 'boycott', 'branch', 'branches', 'brave', 'bravely', 'bravery', 'breach', 'bread', 'break', 'breaking', 'breaks', 'breast', 'breath', 'breathes', 'breathing', 'bred', 'breed', 'breeze', 'brethren', 'bridge', 'bridges', 'bridle', 'brief', 'briefly', 'bright', 'brightens', 'brighter', 'brightest', 'brightly', 'brilliant', 'bring', 'bringing', 'brings', 'brink', 'britain', 'britannic', 'british', 'broad', 'broadcast', 'broadening', 'broader', 'broadly', 'broils', 'broke', 'broken', 'brood', 'brother', 'brotherhood', 'brotherly', 'brothers', 'brought', 'brown', 'brutal', 'buccaneering', 'budapest', 'budget', 'build', 'builded', 'builders', 'building', 'buildup', 'built', 'bulk', 'bulky', 'bullies', 'bulwark', 'bulwarks', 'burden', 'burdened', 'burdens', 'burdensome', 'bureau', 'bureaus', 'burger', 'burma', 'burns', 'burthen', 'burthened', 'burthening', 'bush', 'business', 'businesses', 'busy', 'but', 'buy', 'by', 'bygone', 'cabbies', 'cabinet', 'caesar', 'calamities', 'calamitous', 'calamity', 'calculate', 'calculated', 'calculating', 'calculation', 'calculations', 'calendar', 'california', 'call', 'called', 'calling', 'callous', 'calls', 'calm', 'calmly', 'calmness', 'calvin', 'came', 'camp', 'campaign', 'campfires', 'camps', 'can', 'canal', 'canals', 'cancers', 'candid', 'candidacy', 'candidate', 'candidates', 'candidly', 'candle', 'candor', 'cannot', 'canvass', 'capability', 'capable', 'capacities', 'capacity', 'cape', 'capital', 'capitalist', 'capitals', 'capitol', 'capped', 'caprice', 'captive', 'captives', 'capture', 'car', 'cardinal', 'care', 'cared', 'career', 'careful', 'carefully', 'careless', 'carelessly', 'cares', 'cargoes', 'caring', 'carnage', 'carolina', 'carried', 'carriers', 'carries', 'carry', 'carrying', 'cars', 'carter', 'case', 'cases', 'cash', 'cast', 'casting', 'casts', 'casual', 'casualties', 'catalogue', 'catastrophe', 'catch', 'cathedral', 'cattle', 'caught', 'cause', 'caused', 'causes', 'causing', 'caution', 'cautious', 'cease', 'ceased', 'ceaseless', 'ceasing', 'cede', 'ceded', 'celebrate', 'celebrated', 'celebration', 'cement', 'cemented', 'cementing', 'cemetery', 'censorship', 'censure', 'census', 'centennial', 'centennials', 'center', 'centered', 'centers', 'central', 'centuries', 'century', 'cereals', 'ceremonial', 'ceremony', 'certain', 'certainly', 'certainty', 'chain', 'chains', 'chair', 'chairman', 'chairs', 'chalice', 'challenge', 'challenged', 'challenges', 'chamber', 'chance', 'chances', 'change', 'changed', 'changefirst', 'changeless', 'changeliberty', 'changers', 'changes', 'changethe', 'changing', 'channel', 'channels', 'chaos', 'chapter', 'character', 'characteristic', 'characterize', 'characterized', 'characters', 'charge', 'chargeable', 'charged', 'charges', 'charity', 'chart', 'charta', 'charter', 'chase', 'chattel', 'cheap', 'cheapness', 'check', 'checked', 'checking', 'checks', 'cheered', 'cheerful', 'cheerfully', 'cheerfulness', 'cheering', 'chemical', 'cheney', 'cherish', 'cherished', 'cherishes', 'chest', 'chief', 'chiefly', 'child', 'childhood', 'childish', 'children', 'china', 'choice', 'choices', 'choose', 'chooses', 'choosing', 'chop', 'chords', 'chorus', 'chosen', 'chosin', 'christian', 'christianity', 'christians', 'christmas', 'church', 'churches', 'churchill', 'ci', 'cincinnati', 'circ', 'circle', 'circulating', 'circulation', 'circumscribed', 'circumstance', 'circumstances', 'citement', 'cities', 'citizen', 'citizenry', 'citizens', 'citizenship', 'city', 'civic', 'civil', 'civility', 'civilization', 'civilized', 'clad', 'claim', 'claimed', 'claiming', 'claims', 'clamor', 'clarification', 'clarified', 'clarify', 'clarity', 'class', 'classed', 'classes', 'classroom', 'clause', 'clauses', 'clay', 'clean', 'cleaner', 'cleanse', 'clear', 'clearcut', 'clearly', 'clearness', 'cleaves', 'clergy', 'clerk', 'clerks', 'climate', 'climb', 'climes', 'clinching', 'cling', 'clinton', 'cloaked', 'clocks', 'clogged', 'close', 'closed', 'closely', 'closeness', 'closer', 'closest', 'closing', 'clothe', 'clothed', 'clothing', 'clouds', 'co', 'coal', 'coaling', 'coarse', 'coast', 'coasts', 'cocaine', 'code', 'coequal', 'coercion', 'coercions', 'coercive', 'coeval', 'coffers', 'coherence', 'coin', 'coinage', 'coincidence', 'coined', 'cold', 'coldest', 'coleman', 'collaborator', 'collapse', 'collect', 'collected', 'collection', 'collective', 'collectively', 'college', 'colleges', 'collision', 'collisions', 'colonel', 'colonial', 'colonies', 'colonists', 'colonization', 'color', 'colorable', 'colored', 'colors', 'colossal', 'columbia', 'columns', 'combat', 'combated', 'combination', 'combinations', 'combine', 'combined', 'combining', 'come', 'comes', 'cometh', 'comfort', 'comforts', 'coming', 'comities', 'comity', 'command', 'commanded', 'commander', 'commanders', 'commanding', 'commandments', 'commands', 'commence', 'commenced', 'commencement', 'commencing', 'commendable', 'commended', 'commensurate', 'commerce', 'commercial', 'commiseration', 'commission', 'commissioners', 'commissions', 'commit', 'commitment', 'commitments', 'committed', 'committing', 'commodities', 'common', 'commonly', 'commonplace', 'commons', 'commonwealth', 'communicate', 'communicated', 'communicating', 'communication', 'communications', 'communion', 'communism', 'communist', 'communists', 'communities', 'community', 'compact', 'compacts', 'companies', 'companions', 'company', 'comparative', 'comparatively', 'compare', 'compared', 'comparison', 'compass', 'compassion', 'compassionate', 'compatible', 'compel', 'compelled', 'compelling', 'compensate', 'compensated', 'compensation', 'compensations', 'compete', 'competency', 'competent', 'competing', 'competition', 'competitions', 'competitive', 'complain', 'complained', 'complaining', 'complaint', 'complete', 'completed', 'completely', 'completeness', 'completion', 'complex', 'complexity', 'compliance', 'complicated', 'complications', 'compliment', 'comply', 'comport', 'comports', 'compose', 'composed', 'composing', 'composite', 'composition', 'comprehend', 'comprehending', 'comprehension', 'comprehensive', 'comprehensively', 'compress', 'comprise', 'comprised', 'compromise', 'compromises', 'compulsory', 'computation', 'computer', 'comrades', 'conceded', 'conceive', 'conceived', 'conceives', 'conceiving', 'concentrated', 'concentrating', 'concentration', 'concept', 'conception', 'concepts', 'concern', 'concerned', 'concerning', 'concernment', 'concerns', 'concert', 'concerted', 'concess', 'concession', 'concessions', 'conciliate', 'conciliated', 'conciliation', 'concise', 'concluded', 'conclusion', 'conclusions', 'conclusive', 'concord', 'concrete', 'concur', 'concurrence', 'concurrent', 'condemn', 'condemned', 'condemning', 'condescending', 'condition', 'conditions', 'condoned', 'conduct', 'conducted', 'conducting', 'conducts', 'confederacies', 'confederacy', 'confederate', 'confederated', 'confederation', 'confer', 'conference', 'conferences', 'conferred', 'conferring', 'confers', 'confess', 'confessedly', 'confession', 'confide', 'confided', 'confidence', 'confident', 'confidently', 'confiding', 'configuration', 'confine', 'confined', 'confines', 'confirm', 'confirmed', 'conflict', 'conflicting', 'conflicts', 'conform', 'conformable', 'conforming', 'conformity', 'confound', 'confront', 'confrontation', 'confronted', 'confronting', 'confronts', 'confuse', 'confusion', 'congenial', 'congratulate', 'congratulation', 'congratulations', 'congregations', 'congress', 'congressional', 'congressman', 'conjecture', 'connected', 'connection', 'connections', 'connects', 'connive', 'conquer', 'conquered', 'conquering', 'conquest', 'conquests', 'conscience', 'consciences', 'conscientious', 'conscientiously', 'consciou', 'conscious', 'consciousness', 'consecrate', 'consecrated', 'consecrates', 'consecration', 'consent', 'consequence', 'consequences', 'consequent', 'consequential', 'consequently', 'conservation', 'conservative', 'conservator', 'conserve', 'conserving', 'consider', 'considerable', 'considerably', 'considerate', 'considerately', 'consideration', 'considerations', 'considered', 'considering', 'consist', 'consistency', 'consistent', 'consistently', 'consisting', 'consists', 'consolation', 'consolatory', 'console', 'consoled', 'consolidate', 'consolidated', 'consoling', 'consort', 'conspicuous', 'conspicuously', 'conspiracies', 'constant', 'constantly', 'constants', 'constellation', 'constituent', 'constituents', 'constitute', 'constituted', 'constituting', 'constitution', 'constitutional', 'constitutionally', 'constitutions', 'constrain', 'constrained', 'constraint', 'constricted', 'construct', 'constructed', 'constructing', 'construction', 'constructive', 'construe', 'construed', 'consul', 'consult', 'consultations', 'consulted', 'consulting', 'consume', 'consumed', 'consummate', 'consummating', 'consummation', 'consumption', 'contacts', 'contain', 'containing', 'contains', 'contemplate', 'contemplated', 'contemplating', 'contemplation', 'contemplations', 'contempt', 'contend', 'contended', 'contending', 'content', 'contented', 'contention', 'contentions', 'contentious', 'contentment', 'contest', 'contests', 'contiguous', 'continent', 'continents', 'contingency', 'continually', 'continuance', 'continuation', 'continue', 'continued', 'continues', 'continuing', 'continuity', 'continuum', 'contour', 'contract', 'contracted', 'contracting', 'contraction', 'contracts', 'contradistinction', 'contrary', 'contrast', 'contrasts', 'contribute', 'contributed', 'contribution', 'contributions', 'contributory', 'contriving', 'control', 'controlled', 'controlling', 'controls', 'controversies', 'controversy', 'convene', 'convenience', 'convenient', 'convening', 'convention', 'conventional', 'conventions', 'converging', 'conversion', 'convert', 'convertible', 'convey', 'conviction', 'convictions', 'convinced', 'convinces', 'convulsed', 'convulsions', 'cook', 'cool', 'coolidge', 'cooperate', 'cooperating', 'cooperation', 'cooperative', 'coordinat', 'coordinate', 'cope', 'cordant', 'cordial', 'cordially', 'core', 'corn', 'corner', 'corners', 'corporation', 'corporations', 'corpus', 'correct', 'corrected', 'correction', 'corrective', 'correctives', 'correctly', 'corresponded', 'correspondent', 'corresponding', 'corroded', 'corrupt', 'corrupted', 'corrupting', 'corruption', 'cortes', 'cosmopolitan', 'cosmos', 'cost', 'costly', 'costs', 'cotton', 'cottons', 'could', 'councils', 'counsel', 'counsels', 'count', 'counted', 'countenance', 'counter', 'counteract', 'counteracted', 'counteraction', 'counties', 'counting', 'countless', 'countries', 'country', 'countrymen', 'countryside', 'county', 'courage', 'courageous', 'courageously', 'courier', 'course', 'courses', 'court', 'courtesy', 'courts', 'covenant', 'covenants', 'covenantthey', 'cover', 'covered', 'covering', 'covers', 'covet', 'cradle', 'craft', 'crafty', 'crave', 'craving', 'create', 'created', 'creates', 'creating', 'creation', 'creative', 'creativity', 'creator', 'credit', 'creditable', 'creditors', 'credits', 'creed', 'creeds', 'creep', 'crime', 'crimes', 'criminal', 'criminality', 'criminals', 'cripple', 'crippling', 'crises', 'crisis', 'critical', 'critically', 'criticism', 'croix', 'croplands', 'crops', 'cross', 'crosses', 'crowded', 'crowds', 'crown', 'crowned', 'crucial', 'crude', 'cruel', 'cruelty', 'cruising', 'crumble', 'crush', 'crushes', 'crushing', 'cry', 'ct', 'cuba', 'cuban', 'cubans', 'culpable', 'culprits', 'cultivate', 'cultivated', 'cultivation', 'cultivator', 'cultural', 'culture', 'cultures', 'cup', 'cupidity', 'curb', 'cure', 'cured', 'cures', 'curiosity', 'currency', 'current', 'currents', 'curse', 'curtailment', 'custody', 'custom', 'customary', 'customs', 'cut', 'cuts', 'cutting', 'cycle', 'cynicism', 'cynics', 'daily', 'dakota', 'dakotas', 'dam', 'damage', 'dams', 'danger', 'dangerous', 'dangerously', 'dangers', 'dare', 'dared', 'dares', 'daring', 'dark', 'darkened', 'darkest', 'darkness', 'data', 'date', 'daughters', 'david', 'dawn', 'dawning', 'day', 'days', 'de', 'dead', 'deadlock', 'deadly', 'deaf', 'deal', 'dealing', 'dealings', 'dealt', 'dear', 'dearer', 'dearest', 'death', 'deathless', 'deaths', 'debased', 'debasement', 'debate', 'debates', 'debauched', 'debt', 'debtor', 'debts', 'decade', 'decadent', 'decades', 'decay', 'decayed', 'deceit', 'deceive', 'deceived', 'december', 'decencies', 'decency', 'decent', 'decide', 'decided', 'decides', 'deciding', 'decision', 'decisions', 'decisive', 'decisively', 'declaration', 'declarations', 'declare', 'declared', 'declares', 'declaring', 'decline', 'declining', 'decoding', 'decoration', 'decrease', 'decreased', 'decreasing', 'decree', 'decreed', 'decrees', 'dedicate', 'dedicated', 'dedication', 'deed', 'deeds', 'deem', 'deemed', 'deems', 'deep', 'deepen', 'deepened', 'deepening', 'deeper', 'deepest', 'deeply', 'defamation', 'defamatory', 'defaulters', 'defaulting', 'defeat', 'defeated', 'defeatism', 'defect', 'defective', 'defects', 'defend', 'defended', 'defenders', 'defending', 'defense', 'defenseless', 'defenses', 'defensive', 'defer', 'deference', 'deferred', 'deficiencies', 'deficiency', 'deficit', 'deficits', 'defied', 'defies', 'define', 'defined', 'defines', 'defining', 'definite', 'definitely', 'definition', 'definitions', 'defray', 'defrayed', 'defy', 'degenerate', 'degeneration', 'degradation', 'degradations', 'degrades', 'degrading', 'degree', 'degrees', 'delano', 'delay', 'delayed', 'delays', 'delegated', 'delegation', 'deliberate', 'deliberately', 'deliberating', 'deliberation', 'deliberations', 'delicacy', 'delicate', 'delicious', 'delight', 'delights', 'delineated', 'delinquency', 'delinquent', 'delirium', 'deliver', 'deliverance', 'delivered', 'delivering', 'deluge', 'delusion', 'delusions', 'delusive', 'demand', 'demanded', 'demanding', 'demands', 'demilitarize', 'democracies', 'democracy', 'democrat', 'democratic', 'democrats', 'demolish', 'demonstrate', 'demonstrated', 'demonstration', 'demonstrations', 'demoralization', 'demoralizes', 'demoralizing', 'denial', 'denied', 'denies', 'denominations', 'denounce', 'denounced', 'dense', 'densely', 'deny', 'denying', 'depart', 'departed', 'department', 'departments', 'departure', 'depend', 'dependable', 'depended', 'dependence', 'dependencies', 'dependency', 'dependent', 'depending', 'depends', 'depletion', 'deplorable', 'deplorably', 'deplore', 'deplored', 'depositaries', 'deposits', 'deprecated', 'depreciation', 'depressed', 'depression', 'deprivation', 'deprive', 'deprived', 'depth', 'depths', 'deputed', 'derive', 'derived', 'derives', 'deriving', 'descendants', 'descending', 'descends', 'describe', 'described', 'describes', 'desert', 'deserted', 'deserters', 'deserts', 'deserve', 'deserved', 'deserves', 'deserving', 'design', 'designates', 'designation', 'designed', 'designing', 'designs', 'desirable', 'desire', 'desired', 'desires', 'desiring', 'desirous', 'desolated', 'despair', 'despaired', 'desperate', 'desperation', 'despise', 'despite', 'despondence', 'despotic', 'despotism', 'despots', 'destination', 'destined', 'destinies', 'destiny', 'destitute', 'destroy', 'destroyed', 'destroying', 'destroys', 'destruction', 'destructive', 'detached', 'detachment', 'detail', 'detailed', 'details', 'detained', 'deter', 'deteriorate', 'determination', 'determinations', 'determine', 'determined', 'determines', 'determining', 'detract', 'detriment', 'detroit', 'devastated', 'devastates', 'devastating', 'devastation', 'develop', 'developed', 'developing', 'development', 'developments', 'deviation', 'device', 'devices', 'devise', 'devised', 'devising', 'devolve', 'devolved', 'devote', 'devoted', 'devoti', 'devoting', 'devotion', 'devout', 'dew', 'diadem', 'diamonds', 'diary', 'dictate', 'dictated', 'dictates', 'dictator', 'dictators', 'dictatorship', 'did', 'didn', 'die', 'died', 'dies', 'dif', 'differ', 'differed', 'difference', 'differences', 'different', 'differentiating', 'differentiation', 'differently', 'differing', 'difficult', 'difficulties', 'difficulty', 'diffidence', 'diffused', 'diffusion', 'digest', 'digital', 'dignified', 'dignifies', 'dignity', 'diligence', 'diligent', 'diligently', 'dimensions', 'diminish', 'diminished', 'diminishes', 'diminishing', 'dimmed', 'dimness', 'din', 'dingley', 'diplomacy', 'diplomatic', 'dire', 'direct', 'directed', 'directing', 'direction', 'directions', 'directly', 'directs', 'dirksen', 'dis', 'disability', 'disabled', 'disadvantaged', 'disaffection', 'disagree', 'disagreements', 'disappeared', 'disappearing', 'disappointed', 'disappointment', 'disapproved', 'disarmament', 'disaster', 'disasters', 'disastrous', 'disbursed', 'disbursement', 'discard', 'discarding', 'discern', 'discernment', 'discharge', 'discharged', 'discharging', 'discipline', 'disciplined', 'disclaim', 'disclosed', 'discontents', 'discontinue', 'discontinued', 'discord', 'discordant', 'discountenanced', 'discountenancing', 'discourage', 'discouragement', 'discouraging', 'discover', 'discovered', 'discoveries', 'discovering', 'discrediting', 'discretion', 'discretionary', 'discriminate', 'discriminating', 'discrimination', 'discriminations', 'discuss', 'discussing', 'discussion', 'discussions', 'disease', 'diseases', 'disfigure', 'disfranchised', 'disgraceful', 'disguise', 'disguised', 'disguises', 'disheartened', 'dishonor', 'dishonorable', 'disinclination', 'disinterested', 'disloyal', 'dismember', 'disobedience', 'disorder', 'disorderly', 'disorders', 'disorganization', 'disorganize', 'disorganizing', 'dispassionate', 'dispel', 'dispelled', 'dispensations', 'dispense', 'dispensed', 'displaced', 'display', 'displayed', 'displaying', 'disposal', 'dispose', 'disposing', 'disposition', 'dispositions', 'dispute', 'disputed', 'disputes', 'disqualification', 'disquisitions', 'disregard', 'disregarded', 'disregards', 'disrepair', 'disruption', 'dissatisfied', 'dissemination', 'dissension', 'dissensions', 'dissent', 'dissenting', 'dissidents', 'dissipated', 'dissipation', 'dissolution', 'dissolve', 'distance', 'distances', 'distant', 'distinct', 'distinction', 'distinctions', 'distinctively', 'distinguished', 'distorts', 'distract', 'distracted', 'distress', 'distressed', 'distresses', 'distressing', 'distribute', 'distributed', 'distributer', 'distribution', 'district', 'districts', 'distrust', 'distrusted', 'distrustful', 'disturb', 'disturbance', 'disturbances', 'disturbed', 'disturbing', 'disturbs', 'disunion', 'divergent', 'diverse', 'diversification', 'diversified', 'diversity', 'divert', 'diverted', 'diverting', 'divide', 'divided', 'divides', 'divine', 'divisible', 'division', 'divisions', 'divisive', 'divisiveness', 'divorce', 'divorced', 'do', 'dock', 'dockyards', 'doctrine', 'doctrines', 'document', 'documents', 'doers', 'does', 'dogmas', 'dogmatic', 'dogs', 'doing', 'dole', 'dollar', 'dollars', 'domain', 'domestic', 'domestics', 'domiciled', 'domiciliary', 'dominant', 'dominate', 'dominated', 'domination', 'domingo', 'dominion', 'dominions', 'don', 'done', 'doomed', 'dooms', 'door', 'doors', 'doorstep', 'dot', 'doth', 'doubled', 'doubly', 'doubt', 'doubted', 'doubtful', 'doubting', 'doubtless', 'doubts', 'down', 'downfall', 'downward', 'dr', 'draft', 'drafted', 'drain', 'draining', 'drama', 'dramatic', 'dramatically', 'drastic', 'drastically', 'draw', 'drawing', 'drawn', 'dread', 'dreaded', 'dream', 'dreamed', 'dreams', 'dreary', 'dress', 'drift', 'drifted', 'drifting', 'drive', 'driven', 'driving', 'drop', 'dropped', 'drought', 'drugs', 'dry', 'due', 'dulled', 'duly', 'durability', 'durable', 'durably', 'duration', 'during', 'dust', 'duties', 'duty', 'dwarfed', 'dwell', 'dying', 'dynamic', 'dynamos', 'each', 'eager', 'earlier', 'earliest', 'early', 'earn', 'earned', 'earner', 'earners', 'earnest', 'earnestly', 'earnestness', 'earnings', 'earns', 'ears', 'earth', 'earthly', 'ease', 'easier', 'easily', 'easing', 'east', 'eastern', 'eastward', 'easy', 'ebb', 'ebbing', 'ecclesiastical', 'echo', 'echoes', 'economic', 'economical', 'economically', 'economics', 'economies', 'economy', 'ed', 'edge', 'edicts', 'edifice', 'educate', 'educated', 'education', 'educational', 'effaced', 'effect', 'effected', 'effective', 'effectively', 'effectiveness', 'effects', 'effectual', 'effectually', 'efficiency', 'efficient', 'efficiently', 'effort', 'efforts', 'eight', 'eighteenth', 'eighth', 'eighty', 'eisenhower', 'either', 'eject', 'elapsed', 'elasticity', 'elderly', 'elect', 'elected', 'election', 'elections', 'elective', 'elector', 'electoral', 'electorate', 'electors', 'electric', 'element', 'elementary', 'elements', 'elevat', 'elevate', 'elevated', 'elevation', 'eligibility', 'eliminated', 'elimination', 'elite', 'eloquence', 'eloquent', 'else', 'elsewhere', 'em', 'emanate', 'emanates', 'emancipated', 'emancipation', 'embark', 'embarked', 'embarking', 'embarrassed', 'embarrassing', 'embarrassment', 'embarrassments', 'embattled', 'embedded', 'embittered', 'embody', 'embrace', 'embraced', 'embraces', 'embracing', 'emerge', 'emerged', 'emergencies', 'emergency', 'emerging', 'emerson', 'emigrants', 'emigrating', 'eminence', 'eminent', 'eminently', 'emoluments', 'emotion', 'emotions', 'emperor', 'emphasis', 'emphasize', 'emphasizes', 'emphatic', 'emphatically', 'empire', 'empires', 'employ', 'employed', 'employees', 'employers', 'employment', 'employments', 'empower', 'empty', 'emulation', 'enable', 'enabled', 'enables', 'enact', 'enacted', 'enactment', 'encounter', 'encountered', 'encountering', 'encourage', 'encouraged', 'encouragement', 'encourages', 'encouraging', 'encroach', 'encroaches', 'encroaching', 'encroachments', 'encyclopedia', 'end', 'endanger', 'endangered', 'endearing', 'endeavor', 'endeavored', 'endeavors', 'ended', 'ending', 'endless', 'endlessly', 'endowed', 'endowments', 'ends', 'endurance', 'endure', 'endured', 'endures', 'enduring', 'enemies', 'enemy', 'energetic', 'energetically', 'energies', 'energy', 'enfeeble', 'enfeebled', 'enforce', 'enforced', 'enforcement', 'enforcing', 'enfranchisement', 'engage', 'engaged', 'engagement', 'engagements', 'engaging', 'engender', 'engenders', 'engine', 'engineers', 'england', 'engraven', 'engrossed', 'engrosses', 'engulf', 'enhance', 'enhanced', 'enhancing', 'enjoined', 'enjoins', 'enjoy', 'enjoyed', 'enjoying', 'enjoyment', 'enjoyments', 'enjoys', 'enlarge', 'enlarged', 'enlargement', 'enlarging', 'enlighten', 'enlightened', 'enlightening', 'enlist', 'enlisted', 'enlists', 'ennobled', 'ennobling', 'enormous', 'enough', 'enriched', 'enriching', 'enrichment', 'enshrined', 'ensign', 'enslaved', 'enslavement', 'ensued', 'ensure', 'ensured', 'entailing', 'entails', 'entangled', 'entanglement', 'entanglements', 'entangling', 'enter', 'entered', 'entering', 'enterprise', 'enterprises', 'enterprising', 'enters', 'entertain', 'entertained', 'entertaining', 'enthralled', 'enthusiasm', 'enthusiastically', 'entire', 'entirely', 'entirety', 'entitle', 'entitled', 'entitles', 'entity', 'entrance', 'entrepreneurial', 'entrepreneurs', 'entries', 'entrust', 'entrusted', 'entrusting', 'entwined', 'enumerate', 'enumerated', 'enumerates', 'enumeration', 'envious', 'environment', 'envisage', 'envy', 'epidemics', 'equal', 'equaled', 'equality', 'equally', 'equals', 'equip', 'equipment', 'equipments', 'equipped', 'equipping', 'equitable', 'equitably', 'equity', 'equivalent', 'era', 'eradicate', 'eradication', 'erase', 'erect', 'erected', 'erience', 'erode', 'eroded', 'errant', 'erroneous', 'error', 'errors', 'escape', 'escapes', 'escaping', 'especial', 'especially', 'espouse', 'ess', 'essence', 'essential', 'essentially', 'essentials', 'establish', 'established', 'establishes', 'establishing', 'establishment', 'establishments', 'estate', 'esteem', 'esteemed', 'estimate', 'estimated', 'estimates', 'estimation', 'estranged', 'eternal', 'eternally', 'eternity', 'ethics', 'ethnic', 'etimes', 'europe', 'european', 'evacuation', 'evade', 'evanescent', 'evasion', 'eve', 'even', 'evening', 'evenly', 'event', 'eventful', 'events', 'eventual', 'eventually', 'ever', 'every', 'everyday', 'everyone', 'everything', 'everywhere', 'evidence', 'evidences', 'evident', 'evidently', 'evil', 'evils', 'evince', 'evinced', 'evoke', 'evoked', 'evolutions', 'ex', 'exact', 'exacted', 'exacting', 'exaction', 'exactions', 'exactly', 'exaggerated', 'exalt', 'exalted', 'examination', 'examine', 'example', 'examples', 'exasperated', 'exasperation', 'exceed', 'exceeded', 'exceeding', 'excellence', 'excellent', 'except', 'excepted', 'excepting', 'exception', 'exceptional', 'exceptions', 'excess', 'excessive', 'exchange', 'exchanged', 'exchanges', 'excise', 'excises', 'excite', 'excited', 'excitement', 'exciting', 'exclude', 'excluded', 'exclusive', 'exclusively', 'excursions', 'excusable', 'excuse', 'excused', 'execute', 'executed', 'executes', 'executing', 'execution', 'executions', 'executive', 'exemplar', 'exemplified', 'exemplify', 'exempt', 'exempted', 'exercise', 'exercised', 'exercises', 'exercising', 'exert', 'exerted', 'exertion', 'exertions', 'exhaust', 'exhausted', 'exhausting', 'exhaustive', 'exhaustless', 'exhibit', 'exhibited', 'exhibiting', 'exhibitions', 'exhilarated', 'exhortation', 'exhortations', 'exigencies', 'exigency', 'exile', 'exiles', 'exist', 'existed', 'existence', 'existing', 'exists', 'exonerated', 'exp', 'expand', 'expanded', 'expanding', 'expands', 'expansion', 'expect', 'expectation', 'expectations', 'expected', 'expecting', 'expedience', 'expedient', 'expedients', 'expeditionary', 'expeditious', 'expelled', 'expen', 'expendable', 'expenditure', 'expenditures', 'expense', 'expenses', 'expensive', 'experience', 'experienced', 'experiences', 'experiencing', 'experiment', 'experimentation', 'experiments', 'experts', 'expiration', 'expiring', 'explain', 'explained', 'explaining', 'explanation', 'explicitly', 'exploded', 'exploit', 'exploitation', 'exploits', 'explore', 'explored', 'exploring', 'export', 'exportation', 'exports', 'expose', 'exposed', 'exposing', 'exposition', 'expositions', 'exposure', 'expounded', 'express', 'expressed', 'expresses', 'expressing', 'expression', 'expressly', 'extend', 'extended', 'extending', 'extends', 'extension', 'extensive', 'extensively', 'extent', 'extenuating', 'exterior', 'exterminating', 'extermination', 'external', 'extinct', 'extinction', 'extinguish', 'extinguished', 'extinguishment', 'extorted', 'extra', 'extraneous', 'extraordinary', 'extravagance', 'extravagant', 'extreme', 'extremely', 'extremities', 'extricate', 'exultation', 'eye', 'eyes', 'fabric', 'fabrics', 'face', 'faced', 'faces', 'facile', 'facilitate', 'facilitating', 'facilities', 'facility', 'facing', 'fact', 'faction', 'factions', 'factor', 'factories', 'factory', 'facts', 'faculties', 'faculty', 'fade', 'fail', 'failed', 'failing', 'failure', 'failures', 'faint', 'faintness', 'fair', 'faire', 'fairer', 'fairest', 'fairly', 'fairness', 'faith', 'faithful', 'faithfully', 'faiths', 'fall', 'fallacy', 'fallen', 'fallible', 'falling', 'falls', 'false', 'falsehood', 'falsity', 'falter', 'fame', 'famed', 'familiar', 'familiarity', 'families', 'family', 'fanatical', 'fanaticism', 'fans', 'fantastic', 'far', 'fare', 'farewell', 'farm', 'farmer', 'farmers', 'farms', 'farthing', 'fascism', 'fashion', 'fashioned', 'fashioning', 'fast', 'fatal', 'fatalistic', 'fate', 'father', 'fathers', 'fault', 'faults', 'favor', 'favorable', 'favorably', 'favored', 'favoritism', 'favors', 'fear', 'feared', 'fearful', 'fearfully', 'fearing', 'fearless', 'fears', 'fearsome', 'feasibility', 'feasible', 'feature', 'features', 'february', 'fed', 'federal', 'federalists', 'federative', 'feeble', 'feed', 'feel', 'feeling', 'feelings', 'feet', 'felicitate', 'felicitation', 'felicities', 'felicity', 'fell', 'fellow', 'fellowmen', 'fellowship', 'felt', 'fertile', 'fervent', 'fervently', 'fever', 'feverish', 'few', 'fiat', 'fiber', 'fiction', 'fide', 'fidelity', 'field', 'fields', 'fierce', 'fifteen', 'fifteenth', 'fifth', 'fiftieth', 'fifty', 'fight', 'fighting', 'figures', 'fill', 'filled', 'fills', 'final', 'finally', 'finance', 'finances', 'financial', 'financing', 'find', 'finding', 'finds', 'fine', 'finer', 'finish', 'finished', 'finishing', 'fire', 'fired', 'firefighter', 'fires', 'firing', 'firm', 'firmament', 'firmer', 'firmest', 'firmly', 'firmness', 'first', 'fiscal', 'fiscally', 'fish', 'fisheries', 'fist', 'fit', 'fitness', 'fitted', 'fitting', 'five', 'fix', 'fixed', 'fixing', 'flag', 'flame', 'flames', 'flashes', 'flattered', 'flattering', 'flattery', 'flawed', 'flaws', 'fled', 'fleeting', 'fleets', 'flew', 'flexible', 'flimsy', 'float', 'floats', 'flocking', 'florida', 'floridas', 'flourish', 'flourished', 'flourishes', 'flourishing', 'flout', 'flow', 'flowing', 'flows', 'fluctuation', 'flushed', 'fly', 'flyleaf', 'foe', 'foes', 'fog', 'fold', 'folds', 'follow', 'followed', 'following', 'follows', 'folly', 'fomenting', 'fondest', 'fondly', 'food', 'foolish', 'foolishly', 'footing', 'footprints', 'footsteps', 'for', 'forbear', 'forbearance', 'forbearers', 'forbearing', 'forbid', 'forbidden', 'forbidding', 'forbids', 'force', 'forced', 'forces', 'forebears', 'foreboding', 'forebodings', 'forecast', 'foreclosure', 'forefathers', 'forefront', 'forego', 'foregoing', 'foreign', 'foreigners', 'foremost', 'foresaw', 'foresee', 'foreseen', 'foresight', 'forest', 'forests', 'foretold', 'forever', 'forge', 'forged', 'forget', 'forgetting', 'forging', 'forgiveness', 'forgotten', 'form', 'formation', 'formed', 'former', 'formerly', 'formidable', 'formidably', 'forming', 'forms', 'formula', 'formulate', 'formulating', 'formulation', 'forsake', 'forsaken', 'fort', 'forth', 'forthwith', 'fortifications', 'fortified', 'fortifies', 'fortify', 'fortitude', 'fortress', 'forts', 'fortuitous', 'fortunate', 'fortunately', 'fortune', 'fortunes', 'forty', 'forum', 'forward', 'foster', 'fostered', 'fostering', 'fought', 'found', 'foundation', 'foundations', 'founded', 'founders', 'founding', 'fountain', 'fountains', 'four', 'fourfold', 'fourteenth', 'fourth', 'fraction', 'fractured', 'fragile', 'fragments', 'frame', 'framed', 'framers', 'framework', 'framing', 'france', 'franchise', 'franchises', 'frank', 'franklin', 'frankly', 'frankness', 'fraternal', 'fraternity', 'fraud', 'frauds', 'fraught', 'free', 'freed', 'freedmen', 'freedom', 'freedoms', 'freeing', 'freely', 'freeman', 'freemen', 'freer', 'freezing', 'french', 'frequency', 'frequent', 'frequently', 'fresh', 'freshman', 'friction', 'friend', 'friendliest', 'friendliness', 'friendly', 'friends', 'friendship', 'friendships', 'frightened', 'frightful', 'fringe', 'fringed', 'from', 'front', 'frontier', 'frontiers', 'frowning', 'frozen', 'frugal', 'frugality', 'fruit', 'fruitful', 'fruition', 'fruits', 'frustrated', 'frustration', 'fuel', 'fugitive', 'fugitives', 'fulfill', 'fulfilled', 'fulfilling', 'fulfillment', 'full', 'fuller', 'fullest', 'fullness', 'fully', 'function', 'functionaries', 'functions', 'fund', 'fundamental', 'fundamentally', 'funds', 'funeral', 'furnace', 'furnaces', 'furnish', 'furnished', 'furnishes', 'furnishing', 'further', 'furtherance', 'fury', 'futile', 'futility', 'future', 'gain', 'gained', 'gaining', 'gains', 'galaxy', 'gallant', 'gallantry', 'gangs', 'gaping', 'garden', 'garrison', 'gates', 'gather', 'gathered', 'gathering', 'gatun', 'gave', 'gay', 'gaze', 'general', 'generally', 'generate', 'generation', 'generations', 'generosity', 'generous', 'genial', 'genius', 'gentlemen', 'gentleness', 'gentler', 'genuine', 'geographical', 'george', 'germany', 'get', 'gets', 'gettysburg', 'ghent', 'giant', 'giants', 'gift', 'gifts', 'gigantic', 'gillis', 'girl', 'give', 'given', 'giver', 'gives', 'giving', 'glad', 'gladdened', 'gladly', 'gladness', 'glance', 'global', 'globe', 'gloomy', 'glories', 'glorified', 'glorious', 'glory', 'glow', 'glut', 'go', 'goad', 'goal', 'goals', 'god', 'godsend', 'goes', 'goethals', 'going', 'goingness', 'gold', 'golden', 'gone', 'good', 'goodness', 'goods', 'goodwill', 'gore', 'gotten', 'gover', 'govern', 'governed', 'governing', 'government', 'governmental', 'governments', 'governs', 'grace', 'gracious', 'graciously', 'gradual', 'gradually', 'graduated', 'grand', 'grandchildren', 'grander', 'grandest', 'grandeur', 'grandparents', 'grant', 'granted', 'granting', 'grants', 'grasp', 'grasping', 'grateful', 'gratefully', 'gratification', 'gratified', 'gratifying', 'gratitude', 'grave', 'graver', 'graves', 'gravest', 'gravity', 'gray', 'great', 'greater', 'greatest', 'greatly', 'greatness', 'greed', 'green', 'grids', 'grief', 'grievances', 'grim', 'grinding', 'grip', 'gripped', 'groans', 'groping', 'gross', 'grosser', 'ground', 'grounds', 'group', 'groupings', 'groups', 'grow', 'grower', 'growing', 'grown', 'grows', 'growth', 'grudging', 'grudgingly', 'guadalcanal', 'guarantee', 'guaranteed', 'guarantees', 'guaranties', 'guaranty', 'guard', 'guarded', 'guardian', 'guardians', 'guardianship', 'guarding', 'guards', 'guests', 'guidance', 'guide', 'guided', 'guides', 'guiding', 'guilt', 'guilty', 'gulf', 'guns', 'ha', 'habeas', 'habit', 'habits', 'habitual', 'habitually', 'had', 'hadn', 'hague', 'half', 'halfway', 'hall', 'hallowed', 'halls', 'halt', 'halted', 'halts', 'hamper', 'hand', 'handed', 'handful', 'handicap', 'handled', 'handmaid', 'hands', 'hang', 'hanging', 'hangs', 'happen', 'happenings', 'happens', 'happier', 'happiest', 'happily', 'happiness', 'happy', 'harbor', 'harbors', 'hard', 'harder', 'hardest', 'hardheartedness', 'hardier', 'hardihood', 'hardly', 'hardship', 'hardships', 'hardworking', 'hardy', 'harm', 'harmless', 'harmonious', 'harmoniously', 'harmonize', 'harmony', 'harness', 'harnessing', 'harshest', 'harshly', 'harvest', 'harvests', 'has', 'haste', 'hasten', 'hastily', 'hasty', 'hat', 'hatchet', 'hate', 'hated', 'hateful', 'hatfield', 'hath', 'hatred', 'hatreds', 'haunt', 'have', 'haven', 'having', 'havoc', 'hazard', 'hazarded', 'hazards', 'he', 'head', 'headedness', 'heading', 'headlines', 'heads', 'headsprings', 'heal', 'healed', 'healing', 'health', 'healthful', 'healthy', 'heaps', 'hear', 'heard', 'hearers', 'hearing', 'heart', 'heartburnings', 'hearted', 'heartened', 'heartening', 'heartfelt', 'hearthfire', 'hearthstone', 'heartily', 'heartless', 'hearts', 'heartstrings', 'hearty', 'heat', 'heated', 'heaven', 'heavenly', 'heavens', 'heavily', 'heavy', 'heed', 'heedless', 'heedlessness', 'height', 'heightened', 'heights', 'heirs', 'held', 'help', 'helped', 'helpful', 'helpfulness', 'helping', 'helpless', 'helps', 'helvetic', 'hemisphere', 'hence', 'henceforth', 'her', 'here', 'hereafter', 'herein', 'heretofore', 'heritage', 'hero', 'heroes', 'heroic', 'heroism', 'herself', 'hesitate', 'hesitation', 'hidden', 'hides', 'hiding', 'high', 'higher', 'highest', 'highly', 'highways', 'hile', 'hill', 'hills', 'hillsides', 'him', 'himself', 'hindrance', 'hindus', 'hire', 'hiring', 'his', 'historic', 'historical', 'history', 'hit', 'hitherto', 'hitherward', 'hoards', 'hold', 'holder', 'holders', 'holding', 'holds', 'holiday', 'holy', 'homage', 'home', 'homeless', 'homes', 'homestead', 'honest', 'honestly', 'honesty', 'honor', 'honorable', 'honorably', 'honored', 'honoring', 'honors', 'hope', 'hoped', 'hopeful', 'hopefully', 'hopefulness', 'hopeless', 'hopelessness', 'hopes', 'hoping', 'horizon', 'horizons', 'horn', 'horrors', 'horseback', 'hospitable', 'hospitality', 'host', 'hostile', 'hostilities', 'hostility', 'hot', 'hour', 'hours', 'house', 'housed', 'household', 'houses', 'housing', 'how', 'however', 'huddled', 'human', 'humane', 'humanity', 'humanize', 'humankind', 'humble', 'humbled', 'humblest', 'humbly', 'humiliating', 'humiliation', 'humiliations', 'humility', 'humors', 'humphrey', 'hundred', 'hundreds', 'hunger', 'hungers', 'hungry', 'hunter', 'hunters', 'hurricanes', 'hurry', 'hurt', 'hurtful', 'hurts', 'husband', 'husbandry', 'hushing', 'huts', 'hymns', 'hypercritical', 'hysteria', 'ich', 'icy', 'idea', 'ideal', 'idealism', 'idealistic', 'idealists', 'ideals', 'ideas', 'identical', 'identified', 'identity', 'ideologies', 'ideology', 'idle', 'idleness', 'if', 'igniting', 'ignorance', 'ignorant', 'ignore', 'ignored', 'ii', 'ill', 'illegal', 'illiteracy', 'illness', 'illnesses', 'ills', 'illuminated', 'illumined', 'illumines', 'illustrated', 'illustrious', 'image', 'imagination', 'imagine', 'imbibed', 'imbittered', 'imitate', 'imitating', 'imitation', 'immeasurable', 'immeasurably', 'immediate', 'immediately', 'immense', 'immensely', 'immigrant', 'immigrants', 'immigration', 'imminent', 'immortal', 'immunities', 'immunity', 'immutable', 'impact', 'impair', 'impaired', 'impairing', 'impairment', 'imparted', 'impartial', 'impartiality', 'impartially', 'impassable', 'impassioned', 'impatience', 'impede', 'impelled', 'impels', 'impending', 'impenetrable', 'imperative', 'imperatively', 'imperfect', 'imperfection', 'imperfectly', 'imperialism', 'imperiled', 'imperious', 'imperishable', 'impertinence', 'implements', 'implicated', 'implication', 'implicit', 'implied', 'implies', 'implore', 'imply', 'imponderable', 'import', 'importance', 'important', 'importantly', 'importation', 'imports', 'importunate', 'importunity', 'impose', 'imposed', 'imposes', 'imposing', 'imposition', 'impossibility', 'impossible', 'impost', 'imposts', 'impotence', 'impotency', 'impotent', 'impoverished', 'impoverishing', 'impoverishment', 'impracticable', 'impregnable', 'impregnably', 'impress', 'impressed', 'impresses', 'impression', 'impressions', 'impressive', 'impressively', 'improper', 'improprieties', 'impropriety', 'improve', 'improved', 'improvement', 'improvements', 'improving', 'improvised', 'impulse', 'impulses', 'impunity', 'in', 'inability', 'inaction', 'inadequacy', 'inadequate', 'inadmissible', 'inalienable', 'inapplicable', 'inasmuch', 'inattention', 'inaugural', 'inaugurate', 'inaugurated', 'inauguration', 'inborn', 'incalculable', 'incapable', 'incapacities', 'incapacity', 'incautiously', 'incentive', 'incentives', 'inches', 'incident', 'incidental', 'incidents', 'inclination', 'inclining', 'include', 'included', 'including', 'income', 'incomes', 'incoming', 'incomparably', 'incompatible', 'incompetence', 'incompetency', 'incompetent', 'inconceivable', 'incongruity', 'inconsiderable', 'inconsiderate', 'inconsiderately', 'inconsistencies', 'inconsistent', 'inconvenient', 'incorporated', 'increase', 'increased', 'increases', 'increasing', 'increasingly', 'incredible', 'incredibly', 'inculcate', 'inculcating', 'incumbency', 'incumbent', 'incumbents', 'incurred', 'incurring', 'indebted', 'indebtedness', 'indecent', 'indeed', 'independence', 'independent', 'independently', 'indian', 'indians', 'indicate', 'indicated', 'indicates', 'indicating', 'indications', 'indicators', 'indicted', 'indies', 'indifference', 'indifferent', 'indigent', 'indignant', 'indignantly', 'indignation', 'indignity', 'indirect', 'indirectly', 'indiscriminate', 'indispensable', 'indispensably', 'indissoluble', 'individual', 'individualists', 'individuality', 'individually', 'individuals', 'indivisible', 'indo', 'induce', 'induced', 'inducement', 'induces', 'inducing', 'induction', 'indulge', 'indulged', 'indulgence', 'indulging', 'industrial', 'industrialism', 'industrialists', 'industrially', 'industries', 'industrious', 'industry', 'inefficiency', 'inefficient', 'inefficiently', 'inequality', 'inescapably', 'inessential', 'inestimable', 'inevitability', 'inevitable', 'inevitably', 'inexcusable', 'inexhaustible', 'inexorable', 'inexpedient', 'inexpressibly', 'inextricably', 'infancy', 'infant', 'infect', 'inference', 'inferior', 'infinite', 'infinitely', 'infirm', 'infirmity', 'inflated', 'inflation', 'inflations', 'inflexible', 'inflict', 'inflicted', 'influence', 'influenced', 'influences', 'influential', 'inform', 'information', 'informed', 'infraction', 'infrastructure', 'infringed', 'infuriated', 'infused', 'infusing', 'ing', 'ingenuity', 'inhabit', 'inhabitant', 'inhabitants', 'inherent', 'inherently', 'inherit', 'inheritance', 'inheritances', 'inherited', 'inheriting', 'inhospitable', 'inimical', 'initiate', 'initiated', 'initiative', 'initiatives', 'injunction', 'injunctions', 'injure', 'injured', 'injuries', 'injuring', 'injurious', 'injuriously', 'injury', 'injustice', 'inland', 'inlets', 'inn', 'innate', 'inner', 'innocence', 'innocents', 'innovation', 'inordinate', 'inquietude', 'inquire', 'inquiry', 'inquisition', 'ins', 'insatiable', 'inscribes', 'insensible', 'inseparable', 'inside', 'insidious', 'insight', 'insignificance', 'insignificant', 'insinuation', 'insist', 'insisted', 'insistence', 'insistent', 'insisting', 'insists', 'insofar', 'insolent', 'inspection', 'inspiration', 'inspirations', 'inspire', 'inspired', 'inspires', 'inspiring', 'installed', 'instance', 'instances', 'instant', 'instantaneously', 'instantly', 'instead', 'instinct', 'instinctively', 'instituted', 'institution', 'institutions', 'instruct', 'instructed', 'instruction', 'instructions', 'instructive', 'instructors', 'instrument', 'instrumental', 'instrumentalities', 'instrumentality', 'instruments', 'insufficient', 'insult', 'insuperable', 'insurance', 'insure', 'insurgent', 'insurgents', 'insuring', 'insurmountable', 'insurrection', 'insurrectional', 'insurrectionary', 'intact', 'integrity', 'intellect', 'intellects', 'intellectual', 'intelligence', 'intelligences', 'intelligent', 'intelligible', 'intend', 'intended', 'intends', 'intense', 'intensely', 'intensity', 'intent', 'intention', 'intentional', 'intentioned', 'intentions', 'intercourse', 'interdependence', 'interdependent', 'interest', 'interested', 'interesting', 'interests', 'interfere', 'interfered', 'interference', 'interfering', 'interior', 'interlocked', 'interlude', 'intermission', 'internal', 'internally', 'international', 'internationality', 'internet', 'interoceanic', 'interpose', 'interposing', 'interpret', 'interpretation', 'interpreted', 'interpreters', 'interruptions', 'intersecting', 'interstate', 'interval', 'intervals', 'intervene', 'intervened', 'intervening', 'intervention', 'intimacy', 'intimate', 'intimately', 'intimidate', 'into', 'intolerable', 'intolerance', 'intolerant', 'intrenched', 'intricacies', 'intricate', 'intrigue', 'intrigues', 'intrinsic', 'intrinsically', 'introduced', 'introduction', 'intrusion', 'intrusions', 'intrust', 'intrusted', 'intuitions', 'intuitive', 'inure', 'inured', 'invade', 'invaded', 'invader', 'invading', 'invaluable', 'invariably', 'invasion', 'invasions', 'invective', 'invent', 'invented', 'invention', 'inventions', 'inventive', 'inventory', 'invest', 'invested', 'investigate', 'investigation', 'investigations', 'investing', 'investment', 'investments', 'investor', 'invidious', 'invigorate', 'invigorated', 'invincible', 'inviolability', 'inviolable', 'inviolate', 'invisible', 'invitation', 'invitations', 'invite', 'invited', 'invites', 'inviting', 'invoke', 'invoked', 'invokes', 'invoking', 'involuntary', 'involve', 'involved', 'involvement', 'involves', 'involving', 'ion', 'ions', 'iowa', 'iraq', 'iron', 'irredeemable', 'irresistible', 'irresistibly', 'irresponsibility', 'irresponsible', 'irrevocable', 'irrevocably', 'irritated', 'irritating', 'is', 'isaiah', 'islamic', 'island', 'islands', 'isle', 'isles', 'ism', 'isolated', 'isolation', 'israel', 'issue', 'issued', 'issues', 'issuing', 'isthmus', 'it', 'italy', 'itemized', 'items', 'its', 'itself', 'iwo', 'jailed', 'janeiro', 'january', 'jarring', 'jars', 'jealous', 'jealousies', 'jealously', 'jealousy', 'jefferson', 'jeopard', 'jeopardized', 'jericho', 'jews', 'jima', 'job', 'jobbers', 'jobs', 'john', 'johnson', 'join', 'joined', 'joint', 'joseph', 'journal', 'journey', 'journeyed', 'joy', 'joyful', 'jubilee', 'judge', 'judged', 'judges', 'judgment', 'judgments', 'judicial', 'judiciary', 'judicious', 'judiciously', 'juggler', 'julia', 'july', 'juncture', 'jungle', 'jungles', 'juries', 'jurisdiction', 'jurisprudence', 'just', 'justice', 'justiciable', 'justifiable', 'justification', 'justified', 'justifies', 'justify', 'justly', 'justness', 'kansas', 'keen', 'keep', 'keepers', 'keeping', 'keeps', 'kept', 'key', 'khe', 'kill', 'killed', 'killing', 'kind', 'kinder', 'kindled', 'kindles', 'kindly', 'kindness', 'kindred', 'kinds', 'king', 'kings', 'kitchen', 'kite', 'knees', 'knew', 'knife', 'knight', 'knit', 'know', 'knowing', 'knowingly', 'knowledge', 'known', 'knows', 'koran', 'korea', 'label', 'labeled', 'labor', 'laborer', 'laborers', 'laboring', 'labors', 'labs', 'lack', 'lacking', 'lady', 'laid', 'laissez', 'lakes', 'lamented', 'land', 'landmarks', 'lands', 'landscape', 'lanes', 'language', 'languished', 'languishes', 'languishing', 'languor', 'lapse', 'larceny', 'large', 'largely', 'larger', 'largest', 'lash', 'last', 'lasting', 'lastly', 'lasts', 'late', 'lately', 'latent', 'later', 'latest', 'lathes', 'latitude', 'latter', 'latterly', 'laugh', 'laughter', 'launched', 'law', 'lawful', 'lawfully', 'lawgiver', 'lawgivers', 'lawless', 'lawlessness', 'laws', 'lawyer', 'lay', 'laying', 'le', 'lead', 'leader', 'leaders', 'leadership', 'leading', 'leads', 'league', 'learn', 'learned', 'learning', 'learns', 'learnt', 'least', 'leave', 'leaves', 'leaving', 'led', 'ledgers', 'left', 'legacies', 'legacy', 'legal', 'legalized', 'legally', 'legend', 'legible', 'legions', 'legislate', 'legislated', 'legislation', 'legislative', 'legislators', 'legislature', 'legislatures', 'legitimate', 'legitimately', 'leisure', 'lend', 'lending', 'length', 'lengthens', 'lenient', 'less', 'lessen', 'lessened', 'lessening', 'lesson', 'lessons', 'lest', 'let', 'letter', 'letters', 'levees', 'level', 'leveled', 'levels', 'levers', 'levied', 'levy', 'levying', 'liabilities', 'liability', 'liable', 'liberal', 'liberality', 'liberally', 'liberate', 'liberated', 'liberating', 'liberation', 'liberator', 'liberties', 'liberty', 'library', 'licentiousness', 'lie', 'lies', 'lieu', 'life', 'lifeblood', 'lifeless', 'lifetime', 'lift', 'lifted', 'lifting', 'light', 'lighted', 'lighten', 'lightened', 'lightening', 'lightly', 'lightness', 'lightning', 'lights', 'like', 'likely', 'likeness', 'likes', 'likewise', 'limb', 'limbs', 'limit', 'limitation', 'limitations', 'limited', 'limiting', 'limitless', 'limits', 'lincoln', 'line', 'lines', 'link', 'linked', 'liquor', 'list', 'listen', 'listening', 'lit', 'literary', 'literature', 'litigation', 'little', 'livable', 'live', 'lived', 'livelihood', 'lives', 'living', 'll', 'loans', 'loath', 'local', 'locality', 'localized', 'locate', 'located', 'lock', 'locked', 'locks', 'locusts', 'lodging', 'loftiest', 'lofty', 'logic', 'logically', 'lone', 'lonely', 'long', 'longed', 'longer', 'longest', 'longing', 'longings', 'look', 'looked', 'looking', 'looks', 'loose', 'lopped', 'lord', 'lose', 'loses', 'losing', 'loss', 'losses', 'lost', 'lot', 'louder', 'loudly', 'louisiana', 'love', 'loved', 'loveliness', 'lover', 'loves', 'loving', 'low', 'lower', 'lowest', 'loyal', 'loyally', 'loyalty', 'lucky', 'lunar', 'lure', 'lures', 'luring', 'lurk', 'lurking', 'lurks', 'luster', 'luther', 'luxuries', 'lying', 'lynchings', 'machine', 'machinery', 'macleish', 'mad', 'made', 'madison', 'madness', 'magic', 'magical', 'magistrate', 'magna', 'magnanimity', 'magnanimous', 'magnificence', 'magnificent', 'magnificently', 'magnify', 'magnifying', 'magnitude', 'mai', 'mail', 'mailing', 'mails', 'maimed', 'main', 'mainland', 'maintain', 'maintained', 'maintaining', 'maintains', 'maintenance', 'majestic', 'majesty', 'major', 'majorities', 'majority', 'make', 'maker', 'makers', 'makes', 'maketh', 'makeup', 'making', 'malaya', 'malice', 'malign', 'mall', 'man', 'manage', 'managed', 'management', 'mandate', 'mandates', 'maneuver', 'manfully', 'manger', 'manhood', 'manifest', 'manifestation', 'manifestations', 'manifested', 'manifesting', 'manifestly', 'manifests', 'manifold', 'mankind', 'manlier', 'manliness', 'manly', 'manner', 'manners', 'manufactured', 'manufacturer', 'manufacturers', 'manufactures', 'manufacturing', 'many', 'maps', 'marble', 'march', 'marched', 'margin', 'marginalized', 'marine', 'mariners', 'maritime', 'mark', 'marked', 'marker', 'markers', 'market', 'markets', 'marks', 'marred', 'mars', 'marshaled', 'marshals', 'martin', 'marts', 'marvelous', 'mass', 'massachusetts', 'massacre', 'massed', 'masses', 'massive', 'master', 'mastered', 'masters', 'mastery', 'match', 'matches', 'matchless', 'material', 'materially', 'materials', 'math', 'mathias', 'matter', 'matters', 'mature', 'matured', 'maturing', 'maturity', 'maxim', 'maxims', 'maximum', 'may', 'mayflower', 'me', 'meager', 'mean', 'meaning', 'meaningful', 'means', 'meant', 'meantime', 'measurable', 'measure', 'measured', 'measureless', 'measures', 'mechanic', 'mechanical', 'mechanism', 'meddle', 'mediation', 'medicaid', 'medicare', 'medicine', 'mediocrity', 'mediterranean', 'medium', 'meet', 'meeting', 'meetings', 'meets', 'melancholy', 'meliorate', 'member', 'members', 'membership', 'memorable', 'memorial', 'memories', 'memory', 'men', 'menace', 'menaced', 'menaces', 'menacing', 'mental', 'mention', 'mentioned', 'mentor', 'mercantile', 'merchandise', 'merchant', 'mercifully', 'mercy', 'mere', 'merely', 'merge', 'merged', 'merit', 'merited', 'meritorious', 'meritoriously', 'merits', 'message', 'messages', 'met', 'metal', 'metallic', 'metals', 'method', 'methods', 'metropolis', 'mexico', 'micah', 'michel', 'michelle', 'microchip', 'middle', 'midst', 'midway', 'might', 'mightiest', 'mighty', 'mild', 'miles', 'milestone', 'militarists', 'militarize', 'military', 'militia', 'militias', 'mill', 'millennium', 'million', 'millions', 'mills', 'mind', 'minded', 'mindedness', 'mindful', 'mindfulness', 'minds', 'mine', 'mineral', 'mines', 'mingled', 'mingling', 'minimize', 'minimum', 'mining', 'minister', 'ministered', 'ministers', 'minor', 'minorities', 'minority', 'minute', 'miracle', 'miracles', 'misappropriation', 'mischief', 'mischiefs', 'mischievous', 'misconceptions', 'misconstruction', 'misconstrue', 'misconstrued', 'misdirect', 'miseries', 'misery', 'misfortune', 'misguided', 'misinterpret', 'misinterpreted', 'misjudged', 'mislead', 'misled', 'misrepresentation', 'miss', 'missiles', 'missing', 'mission', 'missions', 'mississippi', 'missouri', 'mistake', 'mistaken', 'mistakes', 'mistrust', 'mists', 'misunderstand', 'misunderstanding', 'misunderstood', 'mitchell', 'mitigate', 'mixed', 'mmunity', 'mob', 'mobile', 'mobs', 'mockery', 'mode', 'model', 'models', 'moderate', 'moderation', 'modern', 'modes', 'modification', 'modified', 'modify', 'molest', 'moment', 'momentous', 'moments', 'momentum', 'monarchical', 'monarchies', 'monarchy', 'mondale', 'monday', 'monetary', 'money', 'moneys', 'monopolies', 'monopoly', 'monroe', 'montana', 'month', 'monthly', 'months', 'monticello', 'monument', 'monumental', 'monuments', 'moomaw', 'moon', 'moral', 'morality', 'morally', 'morals', 'morbid', 'more', 'moreover', 'mormon', 'mortal', 'mortgaging', 'mortifications', 'moscow', 'mosque', 'most', 'mostly', 'mother', 'mothers', 'motion', 'motivated', 'motive', 'motives', 'motto', 'mount', 'mountain', 'mountaineer', 'mountains', 'mountaintop', 'mouth', 'move', 'moved', 'movement', 'movements', 'moves', 'moving', 'mr', 'mrs', 'much', 'multiplication', 'multiplied', 'multiply', 'multiplying', 'multitude', 'multitudes', 'municipal', 'munitions', 'murder', 'murmur', 'music', 'musket', 'muskets', 'muslim', 'muslims', 'must', 'muster', 'mustered', 'mutation', 'mutual', 'mutuality', 'mutually', 'my', 'myriad', 'myself', 'mysteries', 'mystery', 'mystic', 'mystical', 'nagging', 'naive', 'name', 'named', 'nameless', 'names', 'narrow', 'narrowed', 'narrowest', 'narrowing', 'narrowly', 'nation', 'national', 'nationalistic', 'nationality', 'nationhood', 'nations', 'native', 'natural', 'naturalization', 'naturalized', 'naturalizing', 'naturally', 'nature', 'naught', 'naval', 'navies', 'navigable', 'navigation', 'navy', 'nd', 'near', 'nearest', 'nearing', 'nearly', 'nebraska', 'necessaries', 'necessarily', 'necessary', 'necessities', 'necessity', 'neck', 'need', 'needed', 'needful', 'needing', 'needless', 'needs', 'needy', 'negation', 'negations', 'negative', 'neglect', 'neglected', 'negligence', 'negotiate', 'negotiated', 'negotiation', 'negotiations', 'negro', 'negroes', 'neighbor', 'neighborhood', 'neighborhoods', 'neighboring', 'neighbors', 'neill', 'neither', 'network', 'networks', 'neutr', 'neutral', 'neutrality', 'never', 'new', 'newly', 'news', 'newspaper', 'newtown', 'next', 'nflicts', 'nigh', 'night', 'ninth', 'nixon', 'nment', 'no', 'nobility', 'noble', 'nobleness', 'nobler', 'noblest', 'nominate', 'nominated', 'nomination', 'non', 'none', 'noninterference', 'noninvolvement', 'nonpartisan', 'nor', 'normal', 'normalcy', 'normandy', 'north', 'northern', 'northerners', 'not', 'notably', 'note', 'noted', 'notes', 'noteworthy', 'nothing', 'notice', 'notification', 'noting', 'notwithstanding', 'nourish', 'nourished', 'nourishes', 'november', 'now', 'nowhere', 'ntain', 'nticipate', 'nuclear', 'nucleus', 'nullify', 'number', 'numberless', 'numbers', 'numerous', 'nursery', 'nurture', 'oar', 'oath', 'oaths', 'obama', 'obedience', 'obedient', 'obey', 'obeyed', 'obeying', 'object', 'objection', 'objections', 'objective', 'objectives', 'objects', 'obligation', 'obligations', 'obliged', 'obliges', 'obliging', 'obliteration', 'obnoxious', 'obscure', 'obscured', 'observable', 'observance', 'observation', 'observations', 'observe', 'observed', 'observer', 'observers', 'observing', 'obsessions', 'obsolete', 'obstacle', 'obstacles', 'obstructed', 'obstruction', 'obstructionists', 'obstructions', 'obtain', 'obtained', 'obtaining', 'obtruding', 'obtrusive', 'obvious', 'obviously', 'occasion', 'occasional', 'occasionally', 'occasions', 'occupancy', 'occupants', 'occupation', 'occupations', 'occupied', 'occupy', 'occupying', 'occur', 'occurred', 'occurrence', 'occurrences', 'ocean', 'oceans', 'october', 'odd', 'odds', 'of', 'off', 'offenders', 'offends', 'offense', 'offenses', 'offensive', 'offer', 'offered', 'offering', 'offers', 'office', 'officer', 'officered', 'officers', 'offices', 'official', 'officially', 'officials', 'offspring', 'often', 'oftener', 'ohio', 'old', 'older', 'oldest', 'omaha', 'ome', 'omen', 'omission', 'omit', 'omitting', 'omnipotence', 'on', 'once', 'one', 'onerous', 'ones', 'onl', 'only', 'onto', 'onward', 'open', 'opened', 'opening', 'openly', 'openness', 'opens', 'operate', 'operated', 'operating', 'operation', 'operations', 'operatives', 'opini', 'opinion', 'opinions', 'opponent', 'opponents', 'opportunism', 'opportunities', 'opportunity', 'oppose', 'opposed', 'opposing', 'opposite', 'opposition', 'oppress', 'oppressed', 'oppressing', 'oppression', 'oppressive', 'oppressors', 'opprobrium', 'optimist', 'options', 'or', 'oracle', 'orators', 'orbits', 'ordain', 'ordained', 'ordaining', 'ordeal', 'order', 'ordered', 'orderly', 'orders', 'ordinances', 'ordinary', 'oregon', 'ores', 'organic', 'organization', 'organizations', 'organized', 'organizers', 'orient', 'origin', 'original', 'originate', 'originated', 'originating', 'origination', 'origins', 'orleans', 'ornament', 'orphan', 'orphans', 'ose', 'ostriches', 'other', 'others', 'otherwise', 'ought', 'our', 'ours', 'ourselves', 'out', 'outbursts', 'outcome', 'outgo', 'outgoing', 'outgrow', 'outgrown', 'outgrowth', 'outlast', 'outlaw', 'outlawing', 'outlawry', 'outlaws', 'outlays', 'outlet', 'outline', 'outlines', 'outpaced', 'output', 'outrage', 'outrages', 'outrun', 'outrunning', 'outset', 'outside', 'outstanding', 'outward', 'outweigh', 'outworn', 'over', 'overbalance', 'overbalanced', 'overburdened', 'overcome', 'overestimate', 'overestimated', 'overflowing', 'overleaps', 'overlooked', 'overlooking', 'overlooks', 'overrule', 'overruled', 'overruling', 'overseas', 'overset', 'overshadowed', 'overstep', 'overtake', 'overtaxed', 'overthrow', 'overthrown', 'overturning', 'overwhelm', 'overwhelmed', 'overwhelming', 'overwhelmingly', 'owe', 'owes', 'own', 'owners', 'ownership', 'owning', 'pace', 'paces', 'pacific', 'pacification', 'pacifists', 'pack', 'packed', 'pact', 'paddies', 'page', 'pages', 'paid', 'pain', 'painful', 'paint', 'pall', 'palladium', 'palliated', 'palliation', 'panama', 'panic', 'panoply', 'paper', 'par', 'paradox', 'parallel', 'paralysis', 'paralyzes', 'paramount', 'paraphrase', 'parcel', 'parchment', 'pardoned', 'pardoning', 'parent', 'parental', 'parents', 'paris', 'parity', 'parliament', 'part', 'partake', 'partaking', 'parted', 'partial', 'partialities', 'partiality', 'partially', 'participants', 'participate', 'participating', 'participation', 'particular', 'particularity', 'particularly', 'particulars', 'parties', 'partisan', 'partisans', 'partisanship', 'partition', 'partners', 'parts', 'party', 'pass', 'passage', 'passed', 'passengers', 'passes', 'passing', 'passion', 'passionately', 'passions', 'past', 'pastor', 'pat', 'patchwork', 'patent', 'paternalism', 'path', 'paths', 'pathway', 'patience', 'patient', 'patiently', 'patriot', 'patriotic', 'patriotically', 'patriotis', 'patriotism', 'patriots', 'patrol', 'patron', 'patronage', 'patronize', 'patronized', 'patronizes', 'pattern', 'pause', 'pave', 'paved', 'pay', 'payable', 'paying', 'payment', 'payments', 'pays', 'peabody', 'peace', 'peaceable', 'peaceably', 'peaceful', 'peacefully', 'peacemaker', 'peaks', 'peasantry', 'peculation', 'peculiar', 'peculiarly', 'pecuniary', 'peking', 'penalizes', 'penalties', 'pending', 'penetrating', 'pennsylvania', 'penny', 'pension', 'pensioners', 'penury', 'people', 'peoples', 'perceive', 'perceived', 'perceiving', 'percentage', 'perception', 'perfect', 'perfected', 'perfecting', 'perfection', 'perfectly', 'perform', 'performance', 'performed', 'performing', 'performs', 'perfunctory', 'perhaps', 'peril', 'perilous', 'perils', 'period', 'periodically', 'periods', 'perish', 'perished', 'permanence', 'permanent', 'permanently', 'permeated', 'permit', 'permitted', 'permitting', 'pernicious', 'perpetual', 'perpetuate', 'perpetuating', 'perpetuation', 'perpetuity', 'perplexed', 'perplexities', 'persecute', 'persecutions', 'perseverance', 'persevere', 'persevered', 'persevering', 'persian', 'persisted', 'persistence', 'persistent', 'persistently', 'person', 'personal', 'personally', 'persons', 'perspective', 'persuaded', 'persuading', 'persuasion', 'pertain', 'pervades', 'pervading', 'perversions', 'pervert', 'perverts', 'pestilence', 'petitions', 'petty', 'phase', 'phases', 'philadelphia', 'philanthropist', 'philippine', 'philippines', 'philosophies', 'philosophy', 'phrases', 'physical', 'physically', 'physicists', 'pick', 'picture', 'pictures', 'pieces', 'piercing', 'piety', 'pile', 'piled', 'pilgrimage', 'pillars', 'pioneer', 'pioneers', 'pious', 'piracy', 'piratical', 'pitching', 'pitiable', 'pitiful', 'pitilessly', 'pitted', 'pity', 'placate', 'place', 'placed', 'places', 'placing', 'plague', 'plagues', 'plain', 'plainer', 'plainest', 'plainly', 'plains', 'plan', 'planet', 'planned', 'planning', 'plans', 'plant', 'plantation', 'planted', 'planter', 'planting', 'platform', 'platforms', 'plausibly', 'play', 'plays', 'plead', 'pleading', 'pleasant', 'pleasantness', 'please', 'pleased', 'pleasing', 'pleasure', 'pleasures', 'pledge', 'pledged', 'pledges', 'pledging', 'plentiful', 'plenty', 'pliant', 'plight', 'plighted', 'plowed', 'plunge', 'plural', 'pockets', 'poet', 'poetry', 'point', 'pointed', 'points', 'poised', 'police', 'policies', 'policy', 'polite', 'politic', 'political', 'politically', 'politicians', 'politics', 'polity', 'polls', 'polygamy', 'ponders', 'pool', 'poor', 'pope', 'populace', 'popular', 'populated', 'population', 'populous', 'porch', 'pork', 'portents', 'portion', 'portions', 'porto', 'portray', 'ports', 'position', 'positions', 'positive', 'positively', 'poss', 'possess', 'possessed', 'possesses', 'possessing', 'possession', 'possessions', 'possibilities', 'possibility', 'possible', 'possibly', 'post', 'postal', 'posterity', 'postpone', 'postponed', 'postponement', 'postulations', 'postures', 'postwar', 'potent', 'potentates', 'potential', 'potomac', 'poured', 'poverty', 'power', 'powerful', 'powerless', 'powers', 'pra', 'practicability', 'practicable', 'practical', 'practicality', 'practically', 'practice', 'practiced', 'practices', 'praises', 'pray', 'prayer', 'prayers', 'pre', 'preach', 'preacher', 'precarious', 'precaution', 'precautions', 'preceded', 'precedent', 'preceding', 'precept', 'precepts', 'precious', 'precipitate', 'precise', 'precisely', 'precision', 'preconceived', 'predecessor', 'predecessors', 'predicted', 'prediction', 'predictions', 'predilection', 'predominating', 'preeminence', 'preeminent', 'preeminently', 'prefer', 'preferable', 'preference', 'preferment', 'prefers', 'prejudice', 'prejudices', 'prelude', 'premeditation', 'premium', 'preoccupations', 'preparation', 'preparations', 'preparatory', 'prepare', 'prepared', 'preparing', 'prepossessions', 'preposterous', 'prerequisites', 'prerogative', 'presage', 'presaging', 'prescribe', 'prescribed', 'prescribes', 'prescribing', 'prescription', 'presence', 'present', 'presented', 'presentiments', 'presenting', 'presently', 'presents', 'preservation', 'preserve', 'preserved', 'preserves', 'preserving', 'preside', 'presidency', 'president', 'presidential', 'presidents', 'presides', 'presiding', 'press', 'presses', 'pressing', 'pressure', 'presume', 'presumed', 'presumption', 'presumptuous', 'pretend', 'pretense', 'pretensions', 'pretext', 'prevail', 'prevailed', 'prevailing', 'prevails', 'prevalence', 'prevent', 'prevented', 'preventing', 'prevention', 'prevents', 'previous', 'prey', 'preyed', 'preying', 'price', 'priceless', 'prices', 'pride', 'prideful', 'primarily', 'primary', 'prime', 'primitive', 'prince', 'princes', 'principal', 'principle', 'principles', 'prior', 'priorities', 'prison', 'prisoner', 'prisoners', 'prisons', 'pristine', 'private', 'privilege', 'privileged', 'privileges', 'prize', 'prized', 'probability', 'probable', 'probably', 'probing', 'problem', 'problems', 'procedure', 'proceed', 'proceeded', 'proceeding', 'proceedings', 'proceeds', 'process', 'processes', 'proclaim', 'proclaimed', 'proclaiming', 'proclaims', 'proclamation', 'procured', 'prodigal', 'prodigality', 'produce', 'produced', 'producer', 'producers', 'produces', 'producing', 'product', 'production', 'productions', 'productive', 'productiveness', 'productivity', 'products', 'profaned', 'profess', 'professed', 'professionals', 'professions', 'proficiency', 'profit', 'profitable', 'profitably', 'profits', 'profligacy', 'profound', 'profoundly', 'profuse', 'progeny', 'program', 'programs', 'progress', 'progressed', 'progressing', 'progression', 'progressive', 'prohibit', 'prohibited', 'prohibiting', 'prohibition', 'prohibitions', 'prohibitory', 'project', 'projects', 'proliferation', 'prolific', 'prolonged', 'prominent', 'prominently', 'promise', 'promised', 'promises', 'promising', 'promote', 'promoted', 'promoters', 'promotes', 'promoting', 'promotion', 'promotions', 'prompt', 'prompted', 'promptitude', 'promptly', 'promptness', 'promulgation', 'prone', 'pronounce', 'pronounced', 'proof', 'proofs', 'prop', 'propaganda', 'propagating', 'propagation', 'proper', 'properly', 'property', 'prophecy', 'prophet', 'prophets', 'propitious', 'proportion', 'proportionate', 'proportions', 'proposal', 'proposals', 'propose', 'proposed', 'proposes', 'proposition', 'propositions', 'propriety', 'prosecuted', 'prosecution', 'prospect', 'prospective', 'prosper', 'prospered', 'prosperity', 'prosperous', 'prosperously', 'prospers', 'prostitutes', 'prostrate', 'prostration', 'protect', 'protected', 'protecting', 'protection', 'protective', 'protector', 'protects', 'protest', 'proud', 'proudly', 'prove', 'proved', 'proven', 'proves', 'provide', 'provided', 'providence', 'provident', 'providential', 'provides', 'providing', 'province', 'provincial', 'provincials', 'provision', 'provisions', 'provoking', 'prowess', 'prudence', 'prudent', 'prudential', 'prudently', 'public', 'publications', 'publicly', 'published', 'punish', 'punishment', 'punishments', 'punitive', 'purchase', 'purchased', 'purchasing', 'pure', 'purely', 'purged', 'purification', 'purified', 'purify', 'purity', 'purloining', 'purports', 'purpose', 'purposeful', 'purposes', 'purse', 'pursuance', 'pursue', 'pursued', 'pursuing', 'pursuit', 'pursuits', 'push', 'pushes', 'pushing', 'pusillanimous', 'put', 'puts', 'putting', 'quadrupled', 'qual', 'qualification', 'qualifications', 'qualified', 'qualities', 'quality', 'quarter', 'quarters', 'quayle', 'quest', 'questing', 'question', 'questioned', 'questioning', 'questions', 'quick', 'quicken', 'quickly', 'quiet', 'quieter', 'quietly', 'quite', 'quote', 'race', 'races', 'racial', 'racing', 'racism', 'radiance', 'radiant', 'radical', 'radically', 'rage', 'ragged', 'raging', 'rail', 'railroads', 'rails', 'railway', 'railways', 'rainbow', 'raise', 'raised', 'raising', 'rallied', 'rampart', 'rancor', 'rang', 'range', 'ranges', 'rank', 'ranks', 'rapid', 'rapidity', 'rapidly', 'rare', 'rarely', 'rash', 'rate', 'rates', 'rather', 'ratification', 'ratifications', 'ratified', 'ratify', 'rating', 'rational', 'raucous', 'ravaged', 'ravages', 'raw', 'rays', 're', 'reach', 'reached', 'reaches', 'reaching', 'reaction', 'read', 'readily', 'readiness', 'readjustment', 'readjusts', 'ready', 'reaffirm', 'reaffirming', 'reagan', 'real', 'realistically', 'realities', 'reality', 'realization', 'realize', 'realized', 'realizes', 'realizing', 'really', 'reannexation', 'reap', 'reaped', 'reappear', 'rear', 'reared', 'rearranged', 'reason', 'reasonable', 'reasonably', 'reasoned', 'reasoning', 'reasons', 'reasserted', 'reassurance', 'reassuring', 'reawaken', 'rebellion', 'reborn', 'rebuild', 'rebuilding', 'rebuilds', 'rebuilt', 'recall', 'recanted', 'receding', 'receipts', 'receive', 'received', 'receiving', 'recent', 'recently', 'reciprocal', 'reciprocated', 'reciprocity', 'recital', 'recited', 'reckless', 'reckoning', 'reclaim', 'reclaiming', 'reclamation', 'recognition', 'recognitions', 'recognize', 'recognized', 'recognizes', 'recognizing', 'recoil', 'recoiled', 'recollect', 'recollected', 'recollection', 'recommend', 'recommendation', 'recommendations', 'recommended', 'recommending', 'recommends', 'recompensed', 'reconciled', 'reconciliation', 'reconciling', 'reconnecting', 'reconsecrate', 'reconsider', 'reconsideration', 'reconstruction', 'record', 'recorded', 'records', 'recourse', 'recover', 'recovered', 'recovering', 'recovery', 'recreation', 'recriminations', 'recruiting', 'rectification', 'rectified', 'rectify', 'rectitude', 'recur', 'recurred', 'recurrence', 'recurring', 'red', 'rededicate', 'redeem', 'redemption', 'rediscover', 'rediscovered', 'redistributed', 'redistribution', 'redounds', 'redress', 'reduce', 'reduced', 'reduces', 'reducing', 'reduction', 'reelected', 'reelection', 'reenforced', 'reestablish', 'reestablished', 'reestablishment', 'refer', 'reference', 'referendum', 'referred', 'referring', 'refinements', 'reflect', 'reflected', 'reflecting', 'reflectio', 'reflection', 'reflections', 'reflects', 'reflex', 'reform', 'reformation', 'reformations', 'reformed', 'reformers', 'reforming', 'reforms', 'refrain', 'refresh', 'refreshed', 'refuge', 'refunding', 'refusal', 'refuse', 'refused', 'refuses', 'refusing', 'regain', 'regaining', 'regard', 'regarded', 'regarding', 'regardless', 'regards', 'regime', 'regimes', 'region', 'regional', 'regions', 'registered', 'regret', 'regretted', 'regular', 'regularity', 'regularly', 'regulars', 'regulate', 'regulated', 'regulates', 'regulating', 'regulation', 'regulations', 'rehabilitated', 'rehabilitation', 'reign', 'reinforce', 'reins', 'reinstate', 'reinvent', 'reinvention', 'reiterate', 'reject', 'rejected', 'rejecting', 'rejection', 'rejects', 'rejoice', 'rejoices', 'rejoicing', 'rekindle', 'rekindling', 'rel', 'related', 'relates', 'relation', 'relations', 'relationship', 'relationships', 'relative', 'relaxation', 'relaxed', 'relearned', 'released', 'reliable', 'reliance', 'reliant', 'relied', 'relief', 'relies', 'relieve', 'religion', 'religious', 'religiously', 'relinquished', 'reluctance', 'reluctant', 'reluctantly', 'rely', 'relying', 'remain', 'remainder', 'remained', 'remaining', 'remains', 'remake', 'remaking', 'remark', 'remarkable', 'remarkably', 'remarked', 'remarks', 'remedial', 'remedied', 'remedies', 'remediless', 'remedy', 'remember', 'remembered', 'remembering', 'remembrance', 'remind', 'reminded', 'reminds', 'remnant', 'remote', 'remotely', 'remotest', 'removable', 'removal', 'removals', 'remove', 'removed', 'removing', 'remunerating', 'remuneration', 'rend', 'render', 'rendered', 'rendering', 'renders', 'renew', 'renewal', 'renewed', 'renewing', 'renounce', 'renounced', 'renown', 'renunciation', 'reopen', 'reorganization', 'reorganize', 'repair', 'repaired', 'repairers', 'reparation', 'repartition', 'repay', 'repeal', 'repealed', 'repeat', 'repeated', 'repeatedly', 'repeating', 'repel', 'repelled', 'repelling', 'replace', 'replaced', 'replete', 'reply', 'report', 'reports', 'repose', 'reposed', 'reposes', 'represent', 'representation', 'representations', 'representative', 'representatives', 'represented', 'representing', 'represents', 'repressed', 'repression', 'reproach', 'republic', 'republican', 'republicanism', 'republicans', 'republics', 'repudiation', 'repudiator', 'repugnant', 'reputation', 'request', 'require', 'required', 'requirement', 'requirements', 'requires', 'requisite', 'requisites', 'rescind', 'research', 'researches', 'resentment', 'resentments', 'reservation', 'reservations', 'reserve', 'reserved', 'reservoir', 'resheathed', 'residence', 'resident', 'residents', 'residing', 'residue', 'resigned', 'resilience', 'resist', 'resistance', 'resisted', 'resolutely', 'resolution', 'resolve', 'resolved', 'resolves', 'resort', 'resorted', 'resorting', 'resounding', 'resource', 'resources', 'respect', 'respectable', 'respected', 'respectful', 'respectfully', 'respecting', 'respective', 'respectively', 'respects', 'respite', 'respond', 'responded', 'response', 'responses', 'responsibilities', 'responsibility', 'responsible', 'responsibly', 'rest', 'restated', 'restaurant', 'rested', 'resting', 'restless', 'restlessness', 'restoration', 'restore', 'restored', 'restoring', 'restrain', 'restrained', 'restraining', 'restrains', 'restraint', 'restraints', 'restrict', 'restricted', 'restricting', 'restriction', 'restrictions', 'restrictive', 'restricts', 'rests', 'result', 'resulted', 'resulting', 'results', 'resume', 'resumed', 'resumes', 'resumption', 'resurgent', 'retain', 'retained', 'retaining', 'retains', 'retaliate', 'retaliation', 'retard', 'retarded', 'retards', 'retire', 'retired', 'retirement', 'retrace', 'retreat', 'retrenchment', 'retrospect', 'return', 'returned', 'returning', 'returns', 'reunion', 'reunite', 'reunited', 'revamp', 'reveal', 'revealed', 'revealing', 'revelation', 'revenge', 'revengeful', 'revenue', 'revenues', 'revered', 'reverence', 'reverend', 'reverent', 'reverently', 'reverse', 'reversion', 'review', 'reviewed', 'revise', 'revised', 'revising', 'revision', 'revisions', 'revitalize', 'revival', 'revive', 'revived', 'reviving', 'revocation', 'revolution', 'revolutionary', 'revolutionize', 'reward', 'rewarding', 'rewards', 'rhetoric', 'ribbon', 'rice', 'rich', 'richer', 'riches', 'richest', 'rico', 'rid', 'ridding', 'ride', 'riders', 'rides', 'ridge', 'riding', 'right', 'righteous', 'righteousness', 'rightful', 'rightfully', 'rightly', 'rightness', 'rights', 'rigid', 'rigidly', 'rigor', 'rigorous', 'riminal', 'rings', 'rio', 'riper', 'ripped', 'rise', 'risen', 'rises', 'rising', 'risk', 'risks', 'rivalries', 'rivalry', 'rivals', 'river', 'rivers', 'rivet', 'riveted', 'road', 'roadblocks', 'roads', 'roaming', 'rob', 'robbed', 'robbing', 'robe', 'roberts', 'robes', 'robs', 'robust', 'rock', 'rocked', 'rocket', 'rocky', 'rod', 'rode', 'role', 'roll', 'rolling', 'rolls', 'roman', 'rome', 'room', 'roosevelt', 'root', 'rooted', 'rose', 'rough', 'rounded', 'route', 'routes', 'routinely', 'row', 'rude', 'rudest', 'rugged', 'ruggedness', 'ruin', 'ruinous', 'ruins', 'rule', 'ruler', 'rulers', 'rules', 'run', 'runaway', 'runs', 'rural', 'rush', 'russia', 'rusted', 'ruthless', 'ruthlessly', 'sabbatical', 'sabine', 'sacred', 'sacredly', 'sacredness', 'sacrifice', 'sacrificed', 'sacrifices', 'sacrificing', 'sad', 'safe', 'safeguard', 'safeguarded', 'safeguarding', 'safeguards', 'safely', 'safer', 'safety', 'sagacious', 'sages', 'sahn', 'said', 'sailing', 'sailors', 'saint', 'sake', 'sale', 'salerno', 'sales', 'salutary', 'salute', 'salvation', 'same', 'sanctimonious', 'sanction', 'sanctioned', 'sanctioning', 'sanctions', 'sanctities', 'sanctity', 'sane', 'sanguine', 'sanitary', 'santo', 'sap', 'sapping', 'saps', 'satisfaction', 'satisfactions', 'satisfactorily', 'satisfactory', 'satisfied', 'satisfy', 'satisfying', 'savage', 'savagery', 'savages', 'save', 'saved', 'saving', 'savings', 'savor', 'savory', 'saw', 'say', 'saying', 'says', 'scabbard', 'scale', 'scales', 'scan', 'scapegoats', 'scar', 'scarcely', 'scattered', 'scene', 'scenes', 'schedules', 'scheme', 'schemes', 'scholars', 'school', 'schoolchildren', 'schoolmaster', 'schools', 'science', 'scientific', 'scientists', 'scoffed', 'scope', 'score', 'scorn', 'scorning', 'scourge', 'scripture', 'scruple', 'scruples', 'scrupulous', 'scrupulously', 'scrutinize', 'scrutiny', 'sea', 'seaboard', 'seaboards', 'seacoast', 'seal', 'seamen', 'search', 'searching', 'seared', 'seas', 'season', 'seasonable', 'seasonably', 'seasons', 'seat', 'seats', 'secede', 'secession', 'second', 'secondary', 'secondhand', 'secondly', 'secret', 'secretary', 'secrets', 'sect', 'section', 'sectional', 'sectionalism', 'sections', 'sects', 'secure', 'secured', 'securely', 'secures', 'securing', 'security', 'sedition', 'seduce', 'sedulously', 'see', 'seed', 'seeds', 'seeing', 'seek', 'seekers', 'seeking', 'seeks', 'seem', 'seemed', 'seemingly', 'seemly', 'seems', 'seen', 'sees', 'segregation', 'seize', 'seized', 'seizing', 'seldom', 'select', 'selected', 'selection', 'selections', 'selective', 'self', 'selfish', 'selfishness', 'selflessness', 'sell', 'selma', 'senate', 'senator', 'senators', 'send', 'sending', 'sends', 'seneca', 'sense', 'sensed', 'senses', 'sensibility', 'sensible', 'sensibly', 'sensitive', 'sentence', 'sententious', 'sentiment', 'sentimental', 'sentimentalizing', 'sentiments', 'separate', 'separated', 'separation', 'september', 'serious', 'seriously', 'sermon', 'servant', 'servants', 'serve', 'served', 'serves', 'service', 'services', 'servile', 'serving', 'servitude', 'ses', 'session', 'set', 'sets', 'settle', 'settled', 'settlement', 'settlements', 'settler', 'settlers', 'settling', 'seven', 'seventeen', 'seventy', 'several', 'severe', 'severed', 'severely', 'severest', 'severity', 'shackles', 'shade', 'shades', 'shadow', 'shadows', 'shaken', 'shaking', 'shall', 'shallow', 'shameful', 'shamefully', 'shape', 'shaped', 'shaping', 'share', 'shared', 'shares', 'sharing', 'sharp', 'sharpest', 'shatter', 'shattered', 'she', 'shed', 'sheet', 'shelter', 'shepherd', 'shield', 'shielded', 'shielding', 'shift', 'shifted', 'shine', 'shines', 'shining', 'ship', 'shipmaster', 'ships', 'shipwreck', 'shirk', 'shirking', 'shock', 'shocks', 'shoot', 'shop', 'shopkeepers', 'shops', 'shore', 'shores', 'short', 'shortcuts', 'shorten', 'shortening', 'shorter', 'shortly', 'should', 'shoulder', 'shoulders', 'shouldn', 'shout', 'shouting', 'show', 'showed', 'showering', 'shown', 'shows', 'shrines', 'shrink', 'shrinking', 'shrinks', 'shrunken', 'shudder', 'shunned', 'shut', 'shuttered', 'sick', 'side', 'sides', 'sight', 'sights', 'sign', 'signally', 'signed', 'significant', 'significantly', 'signified', 'signifies', 'signify', 'signifying', 'signs', 'silence', 'silenced', 'silencing', 'silent', 'silk', 'silver', 'similar', 'similarly', 'simmer', 'simple', 'simplicity', 'simplification', 'simplify', 'simply', 'sinai', 'since', 'sincere', 'sincerely', 'sincerest', 'sincerity', 'sing', 'single', 'singled', 'singly', 'sings', 'singular', 'singularly', 'sinister', 'sink', 'sinking', 'sinks', 'sister', 'sisters', 'sit', 'sitting', 'situated', 'situation', 'six', 'sixth', 'sixty', 'size', 'skepticism', 'skies', 'skill', 'skillful', 'skills', 'skin', 'skirt', 'skirts', 'sky', 'slackerism', 'slander', 'slaughter', 'slaughtering', 'slave', 'slaveholding', 'slavery', 'slaves', 'sleep', 'sleeping', 'slightest', 'slightly', 'slipping', 'slogans', 'slope', 'slopes', 'sloping', 'slow', 'slowed', 'slowly', 'slums', 'small', 'smaller', 'smallest', 'smelting', 'smiled', 'smiles', 'smoke', 'smooth', 'smoothly', 'smother', 'smothered', 'smuggled', 'snow', 'snuffed', 'so', 'sober', 'social', 'societies', 'society', 'softened', 'soil', 'sojourn', 'solace', 'soldier', 'soldiers', 'sole', 'solecism', 'solely', 'solemn', 'solemnities', 'solemnity', 'solemnly', 'solicit', 'solicitation', 'solicitous', 'solicitude', 'solid', 'solidarity', 'solidity', 'solitary', 'solitude', 'solution', 'solutions', 'solve', 'solved', 'solving', 'som', 'somalia', 'some', 'someday', 'somehow', 'someone', 'something', 'sometimes', 'somewhat', 'son', 'song', 'sons', 'soon', 'sooner', 'sophistries', 'sophistry', 'sordid', 'sore', 'sorrow', 'sorrowful', 'sort', 'sought', 'soul', 'souls', 'sound', 'sounded', 'soundest', 'soundly', 'sounds', 'source', 'sources', 'south', 'southeastern', 'southern', 'southwestern', 'sovereign', 'sovereigns', 'sovereignties', 'sovereignty', 'soviet', 'soviets', 'sow', 'space', 'spain', 'span', 'spanish', 'spare', 'spared', 'sparing', 'spark', 'sparsely', 'spasmodic', 'spasms', 'speak', 'speaker', 'speaking', 'speaks', 'special', 'specialized', 'specie', 'species', 'specific', 'specifically', 'specified', 'specify', 'specifying', 'spectacle', 'spectators', 'specter', 'speculation', 'speculations', 'speculative', 'speculators', 'speech', 'speeches', 'speed', 'speedily', 'speedy', 'spend', 'spending', 'spent', 'sphere', 'spheres', 'spilled', 'spin', 'spiral', 'spiraling', 'spirit', 'spirits', 'spiritual', 'spirituality', 'spiritually', 'spite', 'splendid', 'splendor', 'split', 'spoil', 'spoils', 'spoke', 'spoken', 'spokesmen', 'spoliation', 'sponsors', 'spot', 'spotless', 'sprang', 'sprawl', 'spread', 'spreading', 'spring', 'springing', 'springs', 'spun', 'squadron', 'squander', 'squandered', 'squandering', 'square', 'squared', 'st', 'stability', 'stable', 'staff', 'stage', 'stages', 'staggering', 'stagnant', 'stagnation', 'stained', 'stairway', 'stake', 'staked', 'stakes', 'stale', 'stamina', 'stamp', 'stamped', 'stamping', 'stanch', 'stand', 'standard', 'standards', 'standing', 'standpoint', 'stands', 'staple', 'star', 'stars', 'start', 'started', 'starting', 'starved', 'state', 'stated', 'stately', 'statement', 'statements', 'states', 'statesman', 'statesmanship', 'statesmen', 'stating', 'station', 'stations', 'statistics', 'stature', 'status', 'statute', 'statutes', 'staunchest', 'stay', 'stayed', 'stays', 'stead', 'steadfast', 'steadfastness', 'steadily', 'steady', 'stealing', 'steam', 'steamers', 'steamship', 'steeled', 'steer', 'stennis', 'step', 'steps', 'sterile', 'stern', 'sternest', 'sternly', 'stewardship', 'stifle', 'stifles', 'still', 'stilling', 'stimulate', 'stimulating', 'stimulation', 'stimulus', 'stipulated', 'stipulations', 'stir', 'stirred', 'stock', 'stolen', 'stone', 'stonewall', 'stood', 'stop', 'stopped', 'stopping', 'stops', 'store', 'storm', 'storms', 'story', 'stout', 'straight', 'strain', 'strained', 'strange', 'stranger', 'strangers', 'strangle', 'strangled', 'stream', 'streams', 'streets', 'strength', 'strengthen', 'strengthened', 'strengthening', 'strengthens', 'strengths', 'strenuous', 'stress', 'stretched', 'stretching', 'stricken', 'strict', 'strictest', 'strictly', 'stride', 'strides', 'strife', 'strike', 'strikes', 'striking', 'stringent', 'strings', 'stripped', 'strive', 'strives', 'striving', 'strong', 'stronger', 'strongest', 'strongly', 'strove', 'struck', 'structure', 'structures', 'struggle', 'struggled', 'struggles', 'struggling', 'stubbornness', 'stuck', 'students', 'studied', 'studies', 'studiously', 'study', 'studying', 'stuff', 'stunning', 'stupefies', 'stupendous', 'stupid', 'sturdiness', 'sturdy', 'style', 'subdivision', 'subje', 'subject', 'subjected', 'subjects', 'sublime', 'submission', 'submit', 'submits', 'submitted', 'submitting', 'subordinate', 'subordination', 'subsequent', 'subserved', 'subserviency', 'subsided', 'subsidiary', 'subsidies', 'subsidized', 'subsistence', 'substance', 'substantial', 'substantially', 'substantive', 'substitute', 'substitutes', 'substituting', 'subterfuge', 'subterfuges', 'subtlety', 'subversion', 'succeed', 'succeeding', 'success', 'successes', 'successful', 'successfully', 'succession', 'successive', 'successively', 'successor', 'successors', 'succumb', 'succumbed', 'such', 'sudden', 'suddenly', 'suffer', 'suffered', 'suffering', 'sufferings', 'suffers', 'suffice', 'sufficiency', 'sufficient', 'sufficiently', 'suffrage', 'suffrages', 'sugar', 'suggest', 'suggested', 'suggesting', 'suggestion', 'suggestions', 'suggestive', 'suggests', 'suicide', 'suit', 'suitable', 'suitably', 'suited', 'sum', 'summary', 'summer', 'summit', 'summon', 'summoned', 'summons', 'sums', 'sumter', 'sun', 'sundered', 'sung', 'sunk', 'sunlight', 'suns', 'sunset', 'sunshine', 'superbly', 'superficial', 'superfluous', 'supergovernment', 'superintend', 'superior', 'superiority', 'superiors', 'supersede', 'superseded', 'superstructure', 'supervising', 'supervision', 'supplanted', 'supplement', 'supplemented', 'supplicating', 'supplication', 'supplications', 'supplies', 'supply', 'supplying', 'support', 'supported', 'supporters', 'supporting', 'supports', 'suppose', 'supposed', 'suppress', 'suppressed', 'suppressing', 'suppression', 'supremacy', 'supreme', 'sure', 'surely', 'surer', 'surest', 'surface', 'surge', 'surging', 'surmount', 'surmounting', 'surpass', 'surpassed', 'surpasses', 'surpassing', 'surplus', 'surpluses', 'surprised', 'surrender', 'surrendered', 'surround', 'surrounded', 'surroundings', 'survey', 'surveying', 'surveys', 'survival', 'survive', 'survived', 'surviving', 'susceptible', 'suspected', 'suspended', 'suspension', 'suspicion', 'sustain', 'sustainable', 'sustained', 'sustaining', 'sustenance', 'swallowed', 'swarming', 'sway', 'swayed', 'swear', 'swearing', 'sweat', 'sweats', 'sweatshops', 'sweep', 'sweeping', 'sweet', 'swell', 'swept', 'swerved', 'swift', 'swiftest', 'swill', 'swollen', 'sword', 'sworn', 'symbol', 'symbolizing', 'sympathetic', 'sympathies', 'sympathize', 'sympathized', 'sympathy', 'symptom', 'symptoms', 'synagogue', 'system', 'systematic', 'systems', 'table', 'tactic', 'tain', 'taint', 'take', 'taken', 'takers', 'takes', 'taking', 'talent', 'talents', 'talk', 'talking', 'tangible', 'tanks', 'tap', 'tapping', 'tarawa', 'tardy', 'target', 'targets', 'tariff', 'tariffs', 'tarry', 'task', 'tasked', 'tasks', 'tasted', 'taught', 'tax', 'taxation', 'taxes', 'taxgatherer', 'taxing', 'teach', 'teacher', 'teachers', 'teaches', 'teaching', 'teachings', 'tear', 'tearfully', 'tears', 'technical', 'technicalities', 'techniques', 'technological', 'technologies', 'technology', 'teem', 'teeming', 'telegraph', 'tell', 'telling', 'tells', 'temper', 'temperance', 'temperate', 'tempered', 'tempering', 'tempest', 'temple', 'temporarily', 'temporary', 'tempt', 'temptation', 'temptations', 'tempted', 'tempts', 'ten', 'tend', 'tended', 'tendencies', 'tendency', 'tender', 'tendered', 'tendering', 'tending', 'tends', 'tenets', 'tens', 'tense', 'tentative', 'tenure', 'term', 'termed', 'terminate', 'terminated', 'termination', 'terms', 'terrible', 'terrific', 'terrifying', 'territorial', 'territories', 'territory', 'terror', 'terrorism', 'terrors', 'test', 'testament', 'tested', 'testifying', 'testimony', 'tests', 'texas', 'text', 'texture', 'th', 'than', 'thank', 'thankful', 'thanks', 'that', 'the', 'thee', 'their', 'theirs', 'them', 'theme', 'themes', 'themselves', 'then', 'thence', 'theoretic', 'theorists', 'theory', 'there', 'thereby', 'therefor', 'therefore', 'therefrom', 'therein', 'thereof', 'thereon', 'thereto', 'therewith', 'these', 'they', 'thick', 'thing', 'things', 'think', 'thinking', 'third', 'thirdly', 'thirds', 'thirst', 'thirsting', 'thirteen', 'thirteenth', 'thirty', 'this', 'thomas', 'thorough', 'thoroughly', 'those', 'thou', 'though', 'thought', 'thoughtful', 'thoughtfully', 'thoughts', 'thousand', 'thousands', 'thousandth', 'thrashed', 'threat', 'threaten', 'threatened', 'threatening', 'threatens', 'threats', 'three', 'threefold', 'threshold', 'thrift', 'thrill', 'thrilling', 'thrive', 'thrives', 'thriving', 'throes', 'thrones', 'throng', 'through', 'throughout', 'throw', 'throwing', 'thrown', 'thrust', 'thus', 'thwarted', 'thy', 'tide', 'tides', 'tie', 'ties', 'tiger', 'tightly', 'till', 'tillage', 'tillers', 'time', 'timeless', 'times', 'timi', 'timid', 'timidity', 'tiny', 'tire', 'tireless', 'tirelessly', 'tiring', 'title', 'titles', 'titutions', 'tizens', 'to', 'tobacco', 'today', 'together', 'toil', 'toiled', 'toilers', 'toiling', 'token', 'told', 'tolerance', 'tolerant', 'tolerate', 'tolerated', 'toleration', 'tomb', 'tombstones', 'tomorrow', 'tomorrows', 'tone', 'tones', 'tongues', 'tonnage', 'too', 'took', 'tool', 'tools', 'topic', 'topics', 'toppled', 'torch', 'torment', 'tormented', 'torn', 'torture', 'total', 'totalitarian', 'totally', 'touch', 'touched', 'touching', 'touchstone', 'touchstones', 'toward', 'towards', 'tower', 'town', 'towns', 'traced', 'traces', 'tracing', 'tracts', 'trade', 'traded', 'trading', 'tradition', 'traditional', 'traditions', 'traffic', 'tragedy', 'tragic', 'tragically', 'train', 'trained', 'training', 'trait', 'traitors', 'traits', 'tranquil', 'tranquillity', 'transaction', 'transactions', 'transcend', 'transcended', 'transcendent', 'transcendently', 'transcending', 'transcends', 'transcontinental', 'transfer', 'transferred', 'transferring', 'transfers', 'transform', 'transit', 'transition', 'transitory', 'translated', 'translating', 'transmit', 'transmitted', 'transpire', 'transportation', 'transported', 'trapped', 'trappings', 'travail', 'travel', 'traveled', 'traveler', 'travels', 'traversed', 'traversing', 'tread', 'treading', 'treason', 'treasure', 'treasured', 'treasures', 'treasury', 'treat', 'treated', 'treaties', 'treating', 'treatment', 'treats', 'treaty', 'tree', 'tremble', 'trembling', 'tremendous', 'trend', 'treptow', 'trespass', 'trial', 'trials', 'tribe', 'tribes', 'tribulation', 'tribunal', 'tribunals', 'tributary', 'tribute', 'tried', 'trifling', 'trillions', 'trim', 'triple', 'triumph', 'triumphant', 'triumphantly', 'triumphed', 'triumphs', 'troops', 'tropic', 'troubled', 'troubles', 'troublesome', 'truce', 'truckdrivers', 'truculence', 'true', 'truest', 'truly', 'truman', 'trumpet', 'trumpets', 'trust', 'trusted', 'trustees', 'trustful', 'trusting', 'trusts', 'truth', 'truths', 'try', 'trying', 'tumults', 'tumultuous', 'tunnels', 'turbulence', 'turmoil', 'turn', 'turned', 'turning', 'turns', 'tutor', 'twelve', 'twentieth', 'twenty', 'twice', 'twilight', 'two', 'type', 'tyrannical', 'tyranny', 'tyrant', 'tyrants', 'ultimate', 'ultimately', 'umerable', 'umpire', 'unabashed', 'unabated', 'unable', 'unaccounted', 'unadjusted', 'unafraid', 'unaided', 'unalienable', 'unalloyed', 'unanimity', 'unanimous', 'unanswerably', 'unassailed', 'unattended', 'unauthorized', 'unavoidable', 'unavoidably', 'unbalanced', 'unbending', 'unbiased', 'unborn', 'unbounded', 'unbroken', 'uncanny', 'unceasing', 'unceasingly', 'uncertain', 'uncertainty', 'unchanged', 'unchanging', 'uncharitableness', 'unclench', 'unclimbed', 'uncomplaining', 'uncompromising', 'unconnected', 'unconquerable', 'unconstitutional', 'uncontrollable', 'uncontrolled', 'uncorrupted', 'uncounted', 'uncovered', 'uncrossed', 'unctions', 'undauntedly', 'undelayed', 'under', 'undercurrent', 'underdeveloped', 'undergoing', 'underlies', 'undermine', 'undermines', 'underneath', 'understand', 'understandable', 'understanding', 'understandings', 'understands', 'understood', 'undertake', 'undertaken', 'undertaking', 'undertakings', 'undertone', 'undeserved', 'undeveloped', 'undeviating', 'undiminished', 'undisturbed', 'undo', 'undoing', 'undone', 'undoubted', 'undoubtedly', 'undue', 'unduly', 'uneconomical', 'uneducated', 'unemployed', 'unemployment', 'unequal', 'unequaled', 'unequivocal', 'unerring', 'unessential', 'unexaggerated', 'unexampled', 'unexceptionable', 'unexpected', 'unexplained', 'unexplored', 'unfailing', 'unfair', 'unfairly', 'unfaithful', 'unfaltering', 'unfavorable', 'unfeeling', 'unfinished', 'unfitness', 'unflinching', 'unfocused', 'unfolded', 'unfolding', 'unfolds', 'unforeseen', 'unfortunate', 'unfortunately', 'unfounded', 'unfriendly', 'unfulfilled', 'unfurl', 'unfurling', 'ungrateful', 'ungrudging', 'unhallowed', 'unhampered', 'unhappily', 'unhappy', 'unheeded', 'unhesitatingly', 'unhonored', 'unification', 'uniform', 'uniformly', 'unify', 'unifying', 'unimagined', 'unimpaired', 'unimpressive', 'uninjured', 'uninspiring', 'unintelligible', 'uninteresting', 'uninterrupted', 'union', 'unique', 'unite', 'united', 'unitedly', 'unites', 'unity', 'universal', 'universality', 'universally', 'universe', 'universities', 'unjust', 'unjustified', 'unkept', 'unknowing', 'unknown', 'unlawful', 'unlawfulness', 'unlearned', 'unleash', 'unleashed', 'unless', 'unlike', 'unlikely', 'unlimited', 'unlock', 'unmade', 'unmake', 'unmatched', 'unmindful', 'unmistakable', 'unmolested', 'unmoved', 'unnatural', 'unnecessary', 'unnoticed', 'unobtrusive', 'unparalleled', 'unpatriotic', 'unpleasant', 'unplowed', 'unpracticed', 'unprecedented', 'unprepared', 'unpreparedness', 'unprofitable', 'unprovided', 'unquestionable', 'unquestionably', 'unquestioned', 'unquestioning', 'unrealized', 'unreasonable', 'unreasonably', 'unreasoning', 'unreclaimed', 'unrecompensed', 'unregarded', 'unremittingly', 'unrepealed', 'unrequited', 'unreserved', 'unrestrained', 'unrestricted', 'unrivaled', 'unscrupulous', 'unselfish', 'unselfishness', 'unsettled', 'unshaken', 'unsolicited', 'unsolvable', 'unsought', 'unspeakable', 'unspoken', 'unstable', 'unstoppable', 'unstrained', 'unsubstantial', 'unsuccessful', 'unsung', 'unsurpassed', 'untamed', 'untarnished', 'untended', 'until', 'unto', 'untouched', 'untrammeled', 'untried', 'untroubled', 'untrue', 'untrusting', 'untruths', 'unused', 'unusual', 'unvexed', 'unwanted', 'unwarrantable', 'unwasted', 'unwavering', 'unwholesome', 'unwilling', 'unwise', 'unwisely', 'unworthiness', 'unworthy', 'up', 'upbraidings', 'upbuilding', 'upgrade', 'upheaval', 'upheavals', 'upheld', 'uphold', 'upholding', 'upon', 'upper', 'uppermost', 'upright', 'uprooted', 'uprooting', 'upward', 'urban', 'urge', 'urged', 'urgent', 'urgently', 'urging', 'us', 'usage', 'usages', 'use', 'used', 'useful', 'usefulness', 'useless', 'uselessly', 'uses', 'ushered', 'ushering', 'using', 'usual', 'usually', 'usurp', 'usurpation', 'usurpations', 'usurped', 'usurper', 'usury', 'utilities', 'utmost', 'utter', 'utterance', 'uttered', 'uttering', 'utterly', 'uttermost', 'vacant', 'vain', 'vainglory', 'valiantly', 'valid', 'valley', 'valleys', 'valor', 'valuable', 'value', 'valued', 'values', 'vanish', 'vanquished', 'variance', 'variations', 'varied', 'varieties', 'variety', 'various', 'varnish', 'vary', 'varying', 'vast', 'vastly', 'vaults', 've', 'veil', 'venality', 'venerated', 'veneration', 'venture', 'ventured', 'ventures', 'verbal', 'verdict', 'verified', 'very', 'vessel', 'vessels', 'vested', 'veto', 'vexation', 'vibrant', 'vibrations', 'vice', 'vicious', 'vicissitude', 'vicissitudes', 'victim', 'victims', 'victories', 'victorious', 'victory', 'vietnam', 'view', 'viewed', 'viewing', 'viewpoint', 'views', 'vigilance', 'vigilant', 'vigilantly', 'vigor', 'vigorous', 'vigorously', 'village', 'villages', 'vindicate', 'vindicated', 'vindication', 'vindictiveness', 'violate', 'violated', 'violates', 'violation', 'violative', 'violence', 'violent', 'virginia', 'virility', 'virtual', 'virtually', 'virtue', 'virtues', 'virtuous', 'visible', 'vision', 'visionary', 'visit', 'visitation', 'visited', 'vista', 'vital', 'vitality', 'vitalizing', 'vitally', 'vitals', 'voice', 'voices', 'void', 'volume', 'voluntarily', 'voluntary', 'volunteer', 'volution', 'vote', 'voted', 'voter', 'voters', 'votes', 'voting', 'vouchsafed', 'vow', 'vowed', 'vows', 'voyage', 'vulnerability', 'vulnerable', 'wage', 'waged', 'wages', 'waging', 'wait', 'waited', 'waiting', 'waketh', 'walk', 'walked', 'wall', 'wallet', 'walls', 'wander', 'wane', 'want', 'wanted', 'wanting', 'wants', 'war', 'wards', 'warfare', 'warm', 'warmed', 'warming', 'warmly', 'warms', 'warmth', 'warned', 'warns', 'warrant', 'warren', 'warriors', 'wars', 'wartime', 'was', 'washington', 'wastage', 'waste', 'wasted', 'wasteful', 'wastefulness', 'watch', 'watched', 'watchful', 'watchfulness', 'watching', 'watchman', 'water', 'watercourses', 'waters', 'waterway', 'waterways', 'wave', 'waved', 'waver', 'wavering', 'waves', 'way', 'ways', 'we', 'weak', 'weaken', 'weakened', 'weakening', 'weaker', 'weakest', 'weakness', 'weaknesses', 'weal', 'wealth', 'wealthy', 'weapon', 'weapons', 'weary', 'weaving', 'webster', 'weed', 'week', 'weeks', 'weigh', 'weighed', 'weight', 'weightiest', 'weighty', 'welcome', 'welcomed', 'weld', 'welfare', 'well', 'wellspring', 'went', 'were', 'west', 'western', 'westward', 'wh', 'what', 'whatever', 'whatsoever', 'wheat', 'wheels', 'when', 'whenever', 'where', 'whereas', 'wherein', 'whereof', 'wherever', 'whether', 'which', 'while', 'whilst', 'whip', 'whirlwind', 'whisper', 'white', 'whitened', 'whites', 'whither', 'who', 'whoever', 'whole', 'wholesome', 'wholly', 'whom', 'whomsoever', 'whose', 'why', 'wi', 'wicked', 'wickedness', 'wide', 'widely', 'widen', 'widened', 'widening', 'wider', 'widespread', 'widow', 'widows', 'wield', 'wields', 'wife', 'wild', 'wilderness', 'will', 'willing', 'willingly', 'willingness', 'wills', 'wily', 'win', 'wind', 'winding', 'window', 'windows', 'winds', 'wings', 'winning', 'winston', 'winter', 'wipe', 'wisdom', 'wise', 'wisely', 'wiser', 'wisest', 'wish', 'wished', 'wishes', 'wishing', 'wit', 'with', 'withal', 'withdraw', 'withdrawal', 'withdrew', 'wither', 'withered', 'withheld', 'withhold', 'within', 'without', 'withstood', 'witness', 'witnessed', 'witnesses', 'wives', 'woe', 'woman', 'womanhood', 'women', 'won', 'wonder', 'wonderful', 'wonders', 'wonted', 'wood', 'woodsmen', 'word', 'words', 'work', 'worked', 'worker', 'workers', 'workforce', 'working', 'workingman', 'workingmen', 'workmanship', 'works', 'workshop', 'world', 'worldly', 'worlds', 'worldwide', 'worm', 'worn', 'worry', 'worse', 'worship', 'worst', 'worth', 'worthily', 'worthless', 'worthy', 'would', 'wouldn', 'wounded', 'wounds', 'wreckage', 'wrecked', 'wrest', 'wretchedness', 'wright', 'wringing', 'writ', 'write', 'writers', 'writing', 'written', 'wrong', 'wrongdoing', 'wronged', 'wrongfully', 'wrongs', 'wrote', 'wrought', 'year', 'yearn', 'yearning', 'years', 'yes', 'yesterday', 'yesterdays', 'yet', 'yield', 'yielded', 'yielding', 'yields', 'york', 'yorktown', 'you', 'young', 'younger', 'youngest', 'your', 'yours', 'yourself', 'yourselves', 'youth', 'youthful', 'zeal', 'zealous', 'zealously', 'zone']\n"
     ]
    },
    {
     "name": "stderr",
     "output_type": "stream",
     "text": [
      "C:\\Users\\admin\\AppData\\Local\\Programs\\Python\\Python310\\lib\\site-packages\\sklearn\\utils\\deprecation.py:87: FutureWarning: Function get_feature_names is deprecated; get_feature_names is deprecated in 1.0 and will be removed in 1.2. Please use get_feature_names_out instead.\n",
      "  warnings.warn(msg, category=FutureWarning)\n"
     ]
    }
   ],
   "source": [
    "cv = CountVectorizer()\n",
    "\n",
    "cv.fit(speech_df['text_clean'])\n",
    "\n",
    "print(cv.get_feature_names())"
   ]
  },
  {
   "cell_type": "code",
   "execution_count": 83,
   "id": "02a1fc68",
   "metadata": {},
   "outputs": [
    {
     "name": "stdout",
     "output_type": "stream",
     "text": [
      "[[0 0 0 ... 0 0 0]\n",
      " [0 0 0 ... 0 0 0]\n",
      " [0 1 0 ... 0 0 0]\n",
      " ...\n",
      " [0 1 0 ... 0 0 0]\n",
      " [0 0 0 ... 0 0 0]\n",
      " [0 0 0 ... 0 0 0]]\n",
      "(58, 9043)\n"
     ]
    }
   ],
   "source": [
    "cv_transformed = cv.transform(speech_df['text_clean'])\n",
    "\n",
    "cv_array = cv_transformed.toarray()\n",
    "print(cv_array)\n",
    "print(cv_array.shape)"
   ]
  },
  {
   "cell_type": "code",
   "execution_count": 85,
   "id": "ac465308",
   "metadata": {},
   "outputs": [
    {
     "data": {
      "text/plain": [
       "(58, 818)"
      ]
     },
     "execution_count": 85,
     "metadata": {},
     "output_type": "execute_result"
    }
   ],
   "source": [
    "cv = CountVectorizer(min_df=0.2, max_df=0.8)\n",
    "\n",
    "cv_transformed = cv.fit_transform(speech_df['text_clean'])\n",
    "cv_array = cv_transformed.toarray()\n",
    "\n",
    "cv_array.shape"
   ]
  },
  {
   "cell_type": "code",
   "execution_count": 86,
   "id": "3f4e425e",
   "metadata": {},
   "outputs": [
    {
     "data": {
      "text/html": [
       "<div>\n",
       "<style scoped>\n",
       "    .dataframe tbody tr th:only-of-type {\n",
       "        vertical-align: middle;\n",
       "    }\n",
       "\n",
       "    .dataframe tbody tr th {\n",
       "        vertical-align: top;\n",
       "    }\n",
       "\n",
       "    .dataframe thead th {\n",
       "        text-align: right;\n",
       "    }\n",
       "</style>\n",
       "<table border=\"1\" class=\"dataframe\">\n",
       "  <thead>\n",
       "    <tr style=\"text-align: right;\">\n",
       "      <th></th>\n",
       "      <th>Name</th>\n",
       "      <th>Inaugural Address</th>\n",
       "      <th>Date</th>\n",
       "      <th>text</th>\n",
       "      <th>text_clean</th>\n",
       "      <th>char_cnt</th>\n",
       "      <th>word_cnt</th>\n",
       "      <th>avg_word_length</th>\n",
       "      <th>Counts_abiding</th>\n",
       "      <th>Counts_ability</th>\n",
       "      <th>...</th>\n",
       "      <th>Counts_women</th>\n",
       "      <th>Counts_words</th>\n",
       "      <th>Counts_work</th>\n",
       "      <th>Counts_wrong</th>\n",
       "      <th>Counts_year</th>\n",
       "      <th>Counts_years</th>\n",
       "      <th>Counts_yet</th>\n",
       "      <th>Counts_you</th>\n",
       "      <th>Counts_young</th>\n",
       "      <th>Counts_your</th>\n",
       "    </tr>\n",
       "  </thead>\n",
       "  <tbody>\n",
       "    <tr>\n",
       "      <th>0</th>\n",
       "      <td>George Washington</td>\n",
       "      <td>First Inaugural Address</td>\n",
       "      <td>Thursday, April 30, 1789</td>\n",
       "      <td>Fellow-Citizens of the Senate and of the House...</td>\n",
       "      <td>fellow citizens of the senate and of the house...</td>\n",
       "      <td>8616</td>\n",
       "      <td>1432</td>\n",
       "      <td>6.016760</td>\n",
       "      <td>0</td>\n",
       "      <td>0</td>\n",
       "      <td>...</td>\n",
       "      <td>0</td>\n",
       "      <td>0</td>\n",
       "      <td>0</td>\n",
       "      <td>0</td>\n",
       "      <td>0</td>\n",
       "      <td>1</td>\n",
       "      <td>0</td>\n",
       "      <td>5</td>\n",
       "      <td>0</td>\n",
       "      <td>9</td>\n",
       "    </tr>\n",
       "    <tr>\n",
       "      <th>1</th>\n",
       "      <td>George Washington</td>\n",
       "      <td>Second Inaugural Address</td>\n",
       "      <td>Monday, March 4, 1793</td>\n",
       "      <td>Fellow Citizens:  I AM again called upon by th...</td>\n",
       "      <td>fellow citizens   i am again called upon by th...</td>\n",
       "      <td>787</td>\n",
       "      <td>135</td>\n",
       "      <td>5.829630</td>\n",
       "      <td>0</td>\n",
       "      <td>0</td>\n",
       "      <td>...</td>\n",
       "      <td>0</td>\n",
       "      <td>0</td>\n",
       "      <td>0</td>\n",
       "      <td>0</td>\n",
       "      <td>0</td>\n",
       "      <td>0</td>\n",
       "      <td>0</td>\n",
       "      <td>0</td>\n",
       "      <td>0</td>\n",
       "      <td>1</td>\n",
       "    </tr>\n",
       "    <tr>\n",
       "      <th>2</th>\n",
       "      <td>John Adams</td>\n",
       "      <td>Inaugural Address</td>\n",
       "      <td>Saturday, March 4, 1797</td>\n",
       "      <td>WHEN it was first perceived, in early times, t...</td>\n",
       "      <td>when it was first perceived  in early times  t...</td>\n",
       "      <td>13871</td>\n",
       "      <td>2323</td>\n",
       "      <td>5.971158</td>\n",
       "      <td>0</td>\n",
       "      <td>0</td>\n",
       "      <td>...</td>\n",
       "      <td>0</td>\n",
       "      <td>0</td>\n",
       "      <td>0</td>\n",
       "      <td>0</td>\n",
       "      <td>2</td>\n",
       "      <td>3</td>\n",
       "      <td>0</td>\n",
       "      <td>0</td>\n",
       "      <td>0</td>\n",
       "      <td>1</td>\n",
       "    </tr>\n",
       "    <tr>\n",
       "      <th>3</th>\n",
       "      <td>Thomas Jefferson</td>\n",
       "      <td>First Inaugural Address</td>\n",
       "      <td>Wednesday, March 4, 1801</td>\n",
       "      <td>Friends and Fellow-Citizens:  CALLED upon to u...</td>\n",
       "      <td>friends and fellow citizens   called upon to u...</td>\n",
       "      <td>10144</td>\n",
       "      <td>1736</td>\n",
       "      <td>5.843318</td>\n",
       "      <td>0</td>\n",
       "      <td>0</td>\n",
       "      <td>...</td>\n",
       "      <td>0</td>\n",
       "      <td>0</td>\n",
       "      <td>1</td>\n",
       "      <td>2</td>\n",
       "      <td>0</td>\n",
       "      <td>0</td>\n",
       "      <td>2</td>\n",
       "      <td>7</td>\n",
       "      <td>0</td>\n",
       "      <td>7</td>\n",
       "    </tr>\n",
       "    <tr>\n",
       "      <th>4</th>\n",
       "      <td>Thomas Jefferson</td>\n",
       "      <td>Second Inaugural Address</td>\n",
       "      <td>Monday, March 4, 1805</td>\n",
       "      <td>PROCEEDING, fellow-citizens, to that qualifica...</td>\n",
       "      <td>proceeding  fellow citizens  to that qualifica...</td>\n",
       "      <td>12902</td>\n",
       "      <td>2169</td>\n",
       "      <td>5.948363</td>\n",
       "      <td>0</td>\n",
       "      <td>0</td>\n",
       "      <td>...</td>\n",
       "      <td>0</td>\n",
       "      <td>0</td>\n",
       "      <td>0</td>\n",
       "      <td>0</td>\n",
       "      <td>2</td>\n",
       "      <td>2</td>\n",
       "      <td>2</td>\n",
       "      <td>4</td>\n",
       "      <td>0</td>\n",
       "      <td>4</td>\n",
       "    </tr>\n",
       "  </tbody>\n",
       "</table>\n",
       "<p>5 rows × 826 columns</p>\n",
       "</div>"
      ],
      "text/plain": [
       "                Name         Inaugural Address                      Date  \\\n",
       "0  George Washington   First Inaugural Address  Thursday, April 30, 1789   \n",
       "1  George Washington  Second Inaugural Address     Monday, March 4, 1793   \n",
       "2         John Adams         Inaugural Address   Saturday, March 4, 1797   \n",
       "3   Thomas Jefferson   First Inaugural Address  Wednesday, March 4, 1801   \n",
       "4   Thomas Jefferson  Second Inaugural Address     Monday, March 4, 1805   \n",
       "\n",
       "                                                text  \\\n",
       "0  Fellow-Citizens of the Senate and of the House...   \n",
       "1  Fellow Citizens:  I AM again called upon by th...   \n",
       "2  WHEN it was first perceived, in early times, t...   \n",
       "3  Friends and Fellow-Citizens:  CALLED upon to u...   \n",
       "4  PROCEEDING, fellow-citizens, to that qualifica...   \n",
       "\n",
       "                                          text_clean  char_cnt  word_cnt  \\\n",
       "0  fellow citizens of the senate and of the house...      8616      1432   \n",
       "1  fellow citizens   i am again called upon by th...       787       135   \n",
       "2  when it was first perceived  in early times  t...     13871      2323   \n",
       "3  friends and fellow citizens   called upon to u...     10144      1736   \n",
       "4  proceeding  fellow citizens  to that qualifica...     12902      2169   \n",
       "\n",
       "   avg_word_length  Counts_abiding  Counts_ability  ...  Counts_women  \\\n",
       "0         6.016760               0               0  ...             0   \n",
       "1         5.829630               0               0  ...             0   \n",
       "2         5.971158               0               0  ...             0   \n",
       "3         5.843318               0               0  ...             0   \n",
       "4         5.948363               0               0  ...             0   \n",
       "\n",
       "   Counts_words  Counts_work  Counts_wrong  Counts_year  Counts_years  \\\n",
       "0             0            0             0            0             1   \n",
       "1             0            0             0            0             0   \n",
       "2             0            0             0            2             3   \n",
       "3             0            1             2            0             0   \n",
       "4             0            0             0            2             2   \n",
       "\n",
       "   Counts_yet  Counts_you  Counts_young  Counts_your  \n",
       "0           0           5             0            9  \n",
       "1           0           0             0            1  \n",
       "2           0           0             0            1  \n",
       "3           2           7             0            7  \n",
       "4           2           4             0            4  \n",
       "\n",
       "[5 rows x 826 columns]"
      ]
     },
     "execution_count": 86,
     "metadata": {},
     "output_type": "execute_result"
    }
   ],
   "source": [
    "cv_df = pd.DataFrame(cv_transformed.toarray(), columns=cv.get_feature_names()).add_prefix('Counts_')\n",
    "\n",
    "speech_df_new = pd.concat([speech_df, cv_df], axis=1, sort=False)\n",
    "speech_df_new.head()"
   ]
  },
  {
   "cell_type": "markdown",
   "id": "6a2a92f4",
   "metadata": {},
   "source": [
    "### Tf-Idf Representation"
   ]
  },
  {
   "cell_type": "code",
   "execution_count": 89,
   "id": "9b0c8368",
   "metadata": {},
   "outputs": [
    {
     "name": "stderr",
     "output_type": "stream",
     "text": [
      "C:\\Users\\admin\\AppData\\Local\\Programs\\Python\\Python310\\lib\\site-packages\\sklearn\\utils\\deprecation.py:87: FutureWarning: Function get_feature_names is deprecated; get_feature_names is deprecated in 1.0 and will be removed in 1.2. Please use get_feature_names_out instead.\n",
      "  warnings.warn(msg, category=FutureWarning)\n"
     ]
    },
    {
     "data": {
      "text/html": [
       "<div>\n",
       "<style scoped>\n",
       "    .dataframe tbody tr th:only-of-type {\n",
       "        vertical-align: middle;\n",
       "    }\n",
       "\n",
       "    .dataframe tbody tr th {\n",
       "        vertical-align: top;\n",
       "    }\n",
       "\n",
       "    .dataframe thead th {\n",
       "        text-align: right;\n",
       "    }\n",
       "</style>\n",
       "<table border=\"1\" class=\"dataframe\">\n",
       "  <thead>\n",
       "    <tr style=\"text-align: right;\">\n",
       "      <th></th>\n",
       "      <th>TFIDF_action</th>\n",
       "      <th>TFIDF_administration</th>\n",
       "      <th>TFIDF_america</th>\n",
       "      <th>TFIDF_american</th>\n",
       "      <th>TFIDF_americans</th>\n",
       "      <th>TFIDF_believe</th>\n",
       "      <th>TFIDF_best</th>\n",
       "      <th>TFIDF_better</th>\n",
       "      <th>TFIDF_change</th>\n",
       "      <th>TFIDF_citizens</th>\n",
       "      <th>...</th>\n",
       "      <th>TFIDF_things</th>\n",
       "      <th>TFIDF_time</th>\n",
       "      <th>TFIDF_today</th>\n",
       "      <th>TFIDF_union</th>\n",
       "      <th>TFIDF_united</th>\n",
       "      <th>TFIDF_war</th>\n",
       "      <th>TFIDF_way</th>\n",
       "      <th>TFIDF_work</th>\n",
       "      <th>TFIDF_world</th>\n",
       "      <th>TFIDF_years</th>\n",
       "    </tr>\n",
       "  </thead>\n",
       "  <tbody>\n",
       "    <tr>\n",
       "      <th>0</th>\n",
       "      <td>0.000000</td>\n",
       "      <td>0.133415</td>\n",
       "      <td>0.000000</td>\n",
       "      <td>0.105388</td>\n",
       "      <td>0.0</td>\n",
       "      <td>0.000000</td>\n",
       "      <td>0.000000</td>\n",
       "      <td>0.000000</td>\n",
       "      <td>0.000000</td>\n",
       "      <td>0.229644</td>\n",
       "      <td>...</td>\n",
       "      <td>0.000000</td>\n",
       "      <td>0.045929</td>\n",
       "      <td>0.0</td>\n",
       "      <td>0.136012</td>\n",
       "      <td>0.203593</td>\n",
       "      <td>0.000000</td>\n",
       "      <td>0.060755</td>\n",
       "      <td>0.000000</td>\n",
       "      <td>0.045929</td>\n",
       "      <td>0.052694</td>\n",
       "    </tr>\n",
       "    <tr>\n",
       "      <th>1</th>\n",
       "      <td>0.000000</td>\n",
       "      <td>0.261016</td>\n",
       "      <td>0.266097</td>\n",
       "      <td>0.000000</td>\n",
       "      <td>0.0</td>\n",
       "      <td>0.000000</td>\n",
       "      <td>0.000000</td>\n",
       "      <td>0.000000</td>\n",
       "      <td>0.000000</td>\n",
       "      <td>0.179712</td>\n",
       "      <td>...</td>\n",
       "      <td>0.000000</td>\n",
       "      <td>0.000000</td>\n",
       "      <td>0.0</td>\n",
       "      <td>0.000000</td>\n",
       "      <td>0.199157</td>\n",
       "      <td>0.000000</td>\n",
       "      <td>0.000000</td>\n",
       "      <td>0.000000</td>\n",
       "      <td>0.000000</td>\n",
       "      <td>0.000000</td>\n",
       "    </tr>\n",
       "    <tr>\n",
       "      <th>2</th>\n",
       "      <td>0.000000</td>\n",
       "      <td>0.092436</td>\n",
       "      <td>0.157058</td>\n",
       "      <td>0.073018</td>\n",
       "      <td>0.0</td>\n",
       "      <td>0.000000</td>\n",
       "      <td>0.026112</td>\n",
       "      <td>0.060460</td>\n",
       "      <td>0.000000</td>\n",
       "      <td>0.106072</td>\n",
       "      <td>...</td>\n",
       "      <td>0.032030</td>\n",
       "      <td>0.021214</td>\n",
       "      <td>0.0</td>\n",
       "      <td>0.062823</td>\n",
       "      <td>0.070529</td>\n",
       "      <td>0.024339</td>\n",
       "      <td>0.000000</td>\n",
       "      <td>0.000000</td>\n",
       "      <td>0.063643</td>\n",
       "      <td>0.073018</td>\n",
       "    </tr>\n",
       "    <tr>\n",
       "      <th>3</th>\n",
       "      <td>0.000000</td>\n",
       "      <td>0.092693</td>\n",
       "      <td>0.000000</td>\n",
       "      <td>0.000000</td>\n",
       "      <td>0.0</td>\n",
       "      <td>0.090942</td>\n",
       "      <td>0.117831</td>\n",
       "      <td>0.045471</td>\n",
       "      <td>0.053335</td>\n",
       "      <td>0.223369</td>\n",
       "      <td>...</td>\n",
       "      <td>0.048179</td>\n",
       "      <td>0.000000</td>\n",
       "      <td>0.0</td>\n",
       "      <td>0.094497</td>\n",
       "      <td>0.000000</td>\n",
       "      <td>0.036610</td>\n",
       "      <td>0.000000</td>\n",
       "      <td>0.039277</td>\n",
       "      <td>0.095729</td>\n",
       "      <td>0.000000</td>\n",
       "    </tr>\n",
       "    <tr>\n",
       "      <th>4</th>\n",
       "      <td>0.041334</td>\n",
       "      <td>0.039761</td>\n",
       "      <td>0.000000</td>\n",
       "      <td>0.031408</td>\n",
       "      <td>0.0</td>\n",
       "      <td>0.000000</td>\n",
       "      <td>0.067393</td>\n",
       "      <td>0.039011</td>\n",
       "      <td>0.091514</td>\n",
       "      <td>0.273760</td>\n",
       "      <td>...</td>\n",
       "      <td>0.082667</td>\n",
       "      <td>0.164256</td>\n",
       "      <td>0.0</td>\n",
       "      <td>0.121605</td>\n",
       "      <td>0.030338</td>\n",
       "      <td>0.094225</td>\n",
       "      <td>0.000000</td>\n",
       "      <td>0.000000</td>\n",
       "      <td>0.054752</td>\n",
       "      <td>0.062817</td>\n",
       "    </tr>\n",
       "  </tbody>\n",
       "</table>\n",
       "<p>5 rows × 100 columns</p>\n",
       "</div>"
      ],
      "text/plain": [
       "   TFIDF_action  TFIDF_administration  TFIDF_america  TFIDF_american  \\\n",
       "0      0.000000              0.133415       0.000000        0.105388   \n",
       "1      0.000000              0.261016       0.266097        0.000000   \n",
       "2      0.000000              0.092436       0.157058        0.073018   \n",
       "3      0.000000              0.092693       0.000000        0.000000   \n",
       "4      0.041334              0.039761       0.000000        0.031408   \n",
       "\n",
       "   TFIDF_americans  TFIDF_believe  TFIDF_best  TFIDF_better  TFIDF_change  \\\n",
       "0              0.0       0.000000    0.000000      0.000000      0.000000   \n",
       "1              0.0       0.000000    0.000000      0.000000      0.000000   \n",
       "2              0.0       0.000000    0.026112      0.060460      0.000000   \n",
       "3              0.0       0.090942    0.117831      0.045471      0.053335   \n",
       "4              0.0       0.000000    0.067393      0.039011      0.091514   \n",
       "\n",
       "   TFIDF_citizens  ...  TFIDF_things  TFIDF_time  TFIDF_today  TFIDF_union  \\\n",
       "0        0.229644  ...      0.000000    0.045929          0.0     0.136012   \n",
       "1        0.179712  ...      0.000000    0.000000          0.0     0.000000   \n",
       "2        0.106072  ...      0.032030    0.021214          0.0     0.062823   \n",
       "3        0.223369  ...      0.048179    0.000000          0.0     0.094497   \n",
       "4        0.273760  ...      0.082667    0.164256          0.0     0.121605   \n",
       "\n",
       "   TFIDF_united  TFIDF_war  TFIDF_way  TFIDF_work  TFIDF_world  TFIDF_years  \n",
       "0      0.203593   0.000000   0.060755    0.000000     0.045929     0.052694  \n",
       "1      0.199157   0.000000   0.000000    0.000000     0.000000     0.000000  \n",
       "2      0.070529   0.024339   0.000000    0.000000     0.063643     0.073018  \n",
       "3      0.000000   0.036610   0.000000    0.039277     0.095729     0.000000  \n",
       "4      0.030338   0.094225   0.000000    0.000000     0.054752     0.062817  \n",
       "\n",
       "[5 rows x 100 columns]"
      ]
     },
     "execution_count": 89,
     "metadata": {},
     "output_type": "execute_result"
    }
   ],
   "source": [
    "tv = TfidfVectorizer(max_features=100, stop_words='english')\n",
    "\n",
    "tv_transformed = tv.fit_transform(speech_df['text_clean'])\n",
    "\n",
    "tv_df = pd.DataFrame(tv_transformed.toarray(), columns=tv.get_feature_names()).add_prefix('TFIDF_')\n",
    "tv_df.head()"
   ]
  },
  {
   "cell_type": "code",
   "execution_count": 90,
   "id": "b0f075e4",
   "metadata": {},
   "outputs": [
    {
     "data": {
      "text/plain": [
       "TFIDF_government    0.367430\n",
       "TFIDF_public        0.333237\n",
       "TFIDF_present       0.315182\n",
       "TFIDF_duty          0.238637\n",
       "TFIDF_country       0.229644\n",
       "Name: 0, dtype: float64"
      ]
     },
     "execution_count": 90,
     "metadata": {},
     "output_type": "execute_result"
    }
   ],
   "source": [
    "sample_row = tv_df.iloc[0]\n",
    "\n",
    "sample_row.sort_values(ascending=False).head(5)"
   ]
  },
  {
   "cell_type": "code",
   "execution_count": 92,
   "id": "bc885a15",
   "metadata": {},
   "outputs": [],
   "source": [
    "train_speech_df, test_speech_df = train_test_split(speech_df, test_size=0.2, random_state=42)"
   ]
  },
  {
   "cell_type": "code",
   "execution_count": 93,
   "id": "f18cc71c",
   "metadata": {},
   "outputs": [
    {
     "name": "stderr",
     "output_type": "stream",
     "text": [
      "C:\\Users\\admin\\AppData\\Local\\Programs\\Python\\Python310\\lib\\site-packages\\sklearn\\utils\\deprecation.py:87: FutureWarning: Function get_feature_names is deprecated; get_feature_names is deprecated in 1.0 and will be removed in 1.2. Please use get_feature_names_out instead.\n",
      "  warnings.warn(msg, category=FutureWarning)\n"
     ]
    },
    {
     "data": {
      "text/html": [
       "<div>\n",
       "<style scoped>\n",
       "    .dataframe tbody tr th:only-of-type {\n",
       "        vertical-align: middle;\n",
       "    }\n",
       "\n",
       "    .dataframe tbody tr th {\n",
       "        vertical-align: top;\n",
       "    }\n",
       "\n",
       "    .dataframe thead th {\n",
       "        text-align: right;\n",
       "    }\n",
       "</style>\n",
       "<table border=\"1\" class=\"dataframe\">\n",
       "  <thead>\n",
       "    <tr style=\"text-align: right;\">\n",
       "      <th></th>\n",
       "      <th>TFIDF_administration</th>\n",
       "      <th>TFIDF_america</th>\n",
       "      <th>TFIDF_american</th>\n",
       "      <th>TFIDF_americans</th>\n",
       "      <th>TFIDF_believe</th>\n",
       "      <th>TFIDF_best</th>\n",
       "      <th>TFIDF_business</th>\n",
       "      <th>TFIDF_citizens</th>\n",
       "      <th>TFIDF_come</th>\n",
       "      <th>TFIDF_commerce</th>\n",
       "      <th>...</th>\n",
       "      <th>TFIDF_things</th>\n",
       "      <th>TFIDF_time</th>\n",
       "      <th>TFIDF_today</th>\n",
       "      <th>TFIDF_union</th>\n",
       "      <th>TFIDF_united</th>\n",
       "      <th>TFIDF_war</th>\n",
       "      <th>TFIDF_way</th>\n",
       "      <th>TFIDF_work</th>\n",
       "      <th>TFIDF_world</th>\n",
       "      <th>TFIDF_years</th>\n",
       "    </tr>\n",
       "  </thead>\n",
       "  <tbody>\n",
       "    <tr>\n",
       "      <th>0</th>\n",
       "      <td>0.130996</td>\n",
       "      <td>0.000000</td>\n",
       "      <td>0.106750</td>\n",
       "      <td>0.000000</td>\n",
       "      <td>0.000000</td>\n",
       "      <td>0.000000</td>\n",
       "      <td>0.000000</td>\n",
       "      <td>0.234396</td>\n",
       "      <td>0.000000</td>\n",
       "      <td>0.000000</td>\n",
       "      <td>...</td>\n",
       "      <td>0.000000</td>\n",
       "      <td>0.045888</td>\n",
       "      <td>0.00000</td>\n",
       "      <td>0.140922</td>\n",
       "      <td>0.191579</td>\n",
       "      <td>0.000000</td>\n",
       "      <td>0.061058</td>\n",
       "      <td>0.000000</td>\n",
       "      <td>0.046879</td>\n",
       "      <td>0.053375</td>\n",
       "    </tr>\n",
       "    <tr>\n",
       "      <th>1</th>\n",
       "      <td>0.000000</td>\n",
       "      <td>0.000000</td>\n",
       "      <td>0.000000</td>\n",
       "      <td>0.000000</td>\n",
       "      <td>0.000000</td>\n",
       "      <td>0.194054</td>\n",
       "      <td>0.000000</td>\n",
       "      <td>0.054359</td>\n",
       "      <td>0.000000</td>\n",
       "      <td>0.159419</td>\n",
       "      <td>...</td>\n",
       "      <td>0.000000</td>\n",
       "      <td>0.053210</td>\n",
       "      <td>0.00000</td>\n",
       "      <td>0.163408</td>\n",
       "      <td>0.166611</td>\n",
       "      <td>0.063268</td>\n",
       "      <td>0.000000</td>\n",
       "      <td>0.000000</td>\n",
       "      <td>0.108719</td>\n",
       "      <td>0.000000</td>\n",
       "    </tr>\n",
       "    <tr>\n",
       "      <th>2</th>\n",
       "      <td>0.071785</td>\n",
       "      <td>0.200906</td>\n",
       "      <td>0.058499</td>\n",
       "      <td>0.000000</td>\n",
       "      <td>0.023369</td>\n",
       "      <td>0.081518</td>\n",
       "      <td>0.065955</td>\n",
       "      <td>0.034253</td>\n",
       "      <td>0.070106</td>\n",
       "      <td>0.000000</td>\n",
       "      <td>...</td>\n",
       "      <td>0.025742</td>\n",
       "      <td>0.050293</td>\n",
       "      <td>0.00000</td>\n",
       "      <td>0.000000</td>\n",
       "      <td>0.034995</td>\n",
       "      <td>0.059800</td>\n",
       "      <td>0.044613</td>\n",
       "      <td>0.042626</td>\n",
       "      <td>0.222644</td>\n",
       "      <td>0.038999</td>\n",
       "    </tr>\n",
       "    <tr>\n",
       "      <th>3</th>\n",
       "      <td>0.028327</td>\n",
       "      <td>0.000000</td>\n",
       "      <td>0.069252</td>\n",
       "      <td>0.000000</td>\n",
       "      <td>0.041496</td>\n",
       "      <td>0.036188</td>\n",
       "      <td>0.000000</td>\n",
       "      <td>0.101373</td>\n",
       "      <td>0.013832</td>\n",
       "      <td>0.000000</td>\n",
       "      <td>...</td>\n",
       "      <td>0.030473</td>\n",
       "      <td>0.019846</td>\n",
       "      <td>0.00000</td>\n",
       "      <td>0.091420</td>\n",
       "      <td>0.093212</td>\n",
       "      <td>0.023597</td>\n",
       "      <td>0.013203</td>\n",
       "      <td>0.012615</td>\n",
       "      <td>0.010137</td>\n",
       "      <td>0.046168</td>\n",
       "    </tr>\n",
       "    <tr>\n",
       "      <th>4</th>\n",
       "      <td>0.000000</td>\n",
       "      <td>0.129432</td>\n",
       "      <td>0.200999</td>\n",
       "      <td>0.051832</td>\n",
       "      <td>0.160586</td>\n",
       "      <td>0.070023</td>\n",
       "      <td>0.000000</td>\n",
       "      <td>0.029423</td>\n",
       "      <td>0.040147</td>\n",
       "      <td>0.000000</td>\n",
       "      <td>...</td>\n",
       "      <td>0.000000</td>\n",
       "      <td>0.115202</td>\n",
       "      <td>0.09305</td>\n",
       "      <td>0.398012</td>\n",
       "      <td>0.000000</td>\n",
       "      <td>0.034245</td>\n",
       "      <td>0.153288</td>\n",
       "      <td>0.109845</td>\n",
       "      <td>0.205960</td>\n",
       "      <td>0.100500</td>\n",
       "    </tr>\n",
       "  </tbody>\n",
       "</table>\n",
       "<p>5 rows × 100 columns</p>\n",
       "</div>"
      ],
      "text/plain": [
       "   TFIDF_administration  TFIDF_america  TFIDF_american  TFIDF_americans  \\\n",
       "0              0.130996       0.000000        0.106750         0.000000   \n",
       "1              0.000000       0.000000        0.000000         0.000000   \n",
       "2              0.071785       0.200906        0.058499         0.000000   \n",
       "3              0.028327       0.000000        0.069252         0.000000   \n",
       "4              0.000000       0.129432        0.200999         0.051832   \n",
       "\n",
       "   TFIDF_believe  TFIDF_best  TFIDF_business  TFIDF_citizens  TFIDF_come  \\\n",
       "0       0.000000    0.000000        0.000000        0.234396    0.000000   \n",
       "1       0.000000    0.194054        0.000000        0.054359    0.000000   \n",
       "2       0.023369    0.081518        0.065955        0.034253    0.070106   \n",
       "3       0.041496    0.036188        0.000000        0.101373    0.013832   \n",
       "4       0.160586    0.070023        0.000000        0.029423    0.040147   \n",
       "\n",
       "   TFIDF_commerce  ...  TFIDF_things  TFIDF_time  TFIDF_today  TFIDF_union  \\\n",
       "0        0.000000  ...      0.000000    0.045888      0.00000     0.140922   \n",
       "1        0.159419  ...      0.000000    0.053210      0.00000     0.163408   \n",
       "2        0.000000  ...      0.025742    0.050293      0.00000     0.000000   \n",
       "3        0.000000  ...      0.030473    0.019846      0.00000     0.091420   \n",
       "4        0.000000  ...      0.000000    0.115202      0.09305     0.398012   \n",
       "\n",
       "   TFIDF_united  TFIDF_war  TFIDF_way  TFIDF_work  TFIDF_world  TFIDF_years  \n",
       "0      0.191579   0.000000   0.061058    0.000000     0.046879     0.053375  \n",
       "1      0.166611   0.063268   0.000000    0.000000     0.108719     0.000000  \n",
       "2      0.034995   0.059800   0.044613    0.042626     0.222644     0.038999  \n",
       "3      0.093212   0.023597   0.013203    0.012615     0.010137     0.046168  \n",
       "4      0.000000   0.034245   0.153288    0.109845     0.205960     0.100500  \n",
       "\n",
       "[5 rows x 100 columns]"
      ]
     },
     "execution_count": 93,
     "metadata": {},
     "output_type": "execute_result"
    }
   ],
   "source": [
    "tv = TfidfVectorizer(max_features=100, stop_words='english')\n",
    "\n",
    "tv_transformed = tv.fit_transform(train_speech_df['text_clean'])\n",
    "\n",
    "test_tv_transformed = tv.transform(test_speech_df['text_clean'])\n",
    "\n",
    "test_tv_df = pd.DataFrame(test_tv_transformed.toarray(), columns=tv.get_feature_names()).add_prefix('TFIDF_')\n",
    "test_tv_df.head()"
   ]
  },
  {
   "cell_type": "markdown",
   "id": "82362af8",
   "metadata": {},
   "source": [
    "## N-grams"
   ]
  },
  {
   "cell_type": "code",
   "execution_count": 95,
   "id": "ea6bc893",
   "metadata": {},
   "outputs": [
    {
     "name": "stderr",
     "output_type": "stream",
     "text": [
      "C:\\Users\\admin\\AppData\\Local\\Programs\\Python\\Python310\\lib\\site-packages\\sklearn\\utils\\deprecation.py:87: FutureWarning: Function get_feature_names is deprecated; get_feature_names is deprecated in 1.0 and will be removed in 1.2. Please use get_feature_names_out instead.\n",
      "  warnings.warn(msg, category=FutureWarning)\n"
     ]
    },
    {
     "data": {
      "text/plain": [
       "['ability preserve protect',\n",
       " 'agriculture commerce manufactures',\n",
       " 'america ideal freedom',\n",
       " 'amity mutual concession',\n",
       " 'anchor peace home',\n",
       " 'ask bow heads',\n",
       " 'best ability preserve',\n",
       " 'best interests country',\n",
       " 'bless god bless',\n",
       " 'bless united states',\n",
       " 'chief justice mr',\n",
       " 'children children children',\n",
       " 'citizens united states',\n",
       " 'civil religious liberty',\n",
       " 'civil service reform',\n",
       " 'commerce united states',\n",
       " 'confidence fellow citizens',\n",
       " 'congress extraordinary session',\n",
       " 'constitution does expressly',\n",
       " 'constitution united states',\n",
       " 'coordinate branches government',\n",
       " 'day task people',\n",
       " 'defend constitution united',\n",
       " 'distinction powers granted',\n",
       " 'distinguished guests fellow',\n",
       " 'does expressly say',\n",
       " 'equal exact justice',\n",
       " 'era good feeling',\n",
       " 'executive branch government',\n",
       " 'faithfully execute office',\n",
       " 'fellow citizens assembled',\n",
       " 'fellow citizens called',\n",
       " 'fellow citizens large',\n",
       " 'fellow citizens world',\n",
       " 'form perfect union',\n",
       " 'general welfare secure',\n",
       " 'god bless america',\n",
       " 'god bless god',\n",
       " 'good greatest number',\n",
       " 'government peace war',\n",
       " 'government united states',\n",
       " 'granted federal government',\n",
       " 'great body people',\n",
       " 'great political parties',\n",
       " 'greatest good greatest',\n",
       " 'guests fellow citizens',\n",
       " 'invasion wars powers',\n",
       " 'land new promise',\n",
       " 'laws faithfully executed',\n",
       " 'letter spirit constitution',\n",
       " 'liberty pursuit happiness',\n",
       " 'life liberty pursuit',\n",
       " 'local self government',\n",
       " 'make hard choices',\n",
       " 'men women children',\n",
       " 'mr chief justice',\n",
       " 'mr majority leader',\n",
       " 'mr president vice',\n",
       " 'mr speaker mr',\n",
       " 'mr vice president',\n",
       " 'nation like person',\n",
       " 'new breeze blowing',\n",
       " 'new states admitted',\n",
       " 'north south east',\n",
       " 'oath prescribed constitution',\n",
       " 'office president united',\n",
       " 'passed generation generation',\n",
       " 'peace shall strive',\n",
       " 'people united states',\n",
       " 'physical moral political',\n",
       " 'policy united states',\n",
       " 'power general government',\n",
       " 'preservation general government',\n",
       " 'preservation sacred liberty',\n",
       " 'preserve protect defend',\n",
       " 'president united states',\n",
       " 'president vice president',\n",
       " 'promote general welfare',\n",
       " 'proof confidence fellow',\n",
       " 'protect defend constitution',\n",
       " 'protection great interests',\n",
       " 'reform civil service',\n",
       " 'reserved states people',\n",
       " 'respect individual human',\n",
       " 'right self government',\n",
       " 'secure blessings liberty',\n",
       " 'south east west',\n",
       " 'sovereignty general government',\n",
       " 'states admitted union',\n",
       " 'territories united states',\n",
       " 'thank god bless',\n",
       " 'turning away old',\n",
       " 'united states america',\n",
       " 'united states best',\n",
       " 'united states government',\n",
       " 'united states great',\n",
       " 'united states maintain',\n",
       " 'united states territory',\n",
       " 'vice president mr',\n",
       " 'welfare secure blessings']"
      ]
     },
     "execution_count": 95,
     "metadata": {},
     "output_type": "execute_result"
    }
   ],
   "source": [
    "cv_trigram_vec = CountVectorizer(max_features=100, stop_words='english', ngram_range=(3,3))\n",
    "\n",
    "cv_trigram = cv_trigram_vec.fit_transform(speech_df['text_clean'])\n",
    "\n",
    "cv_trigram_vec.get_feature_names()"
   ]
  },
  {
   "cell_type": "code",
   "execution_count": 97,
   "id": "50de123b",
   "metadata": {},
   "outputs": [
    {
     "name": "stderr",
     "output_type": "stream",
     "text": [
      "C:\\Users\\admin\\AppData\\Local\\Programs\\Python\\Python310\\lib\\site-packages\\sklearn\\utils\\deprecation.py:87: FutureWarning: Function get_feature_names is deprecated; get_feature_names is deprecated in 1.0 and will be removed in 1.2. Please use get_feature_names_out instead.\n",
      "  warnings.warn(msg, category=FutureWarning)\n"
     ]
    },
    {
     "data": {
      "text/plain": [
       "Counts_constitution united states    20\n",
       "Counts_people united states          13\n",
       "Counts_mr chief justice              10\n",
       "Counts_preserve protect defend       10\n",
       "Counts_president united states        8\n",
       "dtype: int64"
      ]
     },
     "execution_count": 97,
     "metadata": {},
     "output_type": "execute_result"
    }
   ],
   "source": [
    "cv_tri_df = pd.DataFrame(cv_trigram.toarray(), \n",
    "                 columns=cv_trigram_vec.get_feature_names()).add_prefix('Counts_')\n",
    "\n",
    "\n",
    "cv_tri_df.sum().sort_values(ascending=False).head()"
   ]
  },
  {
   "cell_type": "code",
   "execution_count": null,
   "id": "c25779d9",
   "metadata": {},
   "outputs": [],
   "source": []
  }
 ],
 "metadata": {
  "kernelspec": {
   "display_name": "Python 3 (ipykernel)",
   "language": "python",
   "name": "python3"
  },
  "language_info": {
   "codemirror_mode": {
    "name": "ipython",
    "version": 3
   },
   "file_extension": ".py",
   "mimetype": "text/x-python",
   "name": "python",
   "nbconvert_exporter": "python",
   "pygments_lexer": "ipython3",
   "version": "3.10.1"
  }
 },
 "nbformat": 4,
 "nbformat_minor": 5
}
